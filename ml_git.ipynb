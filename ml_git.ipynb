{
 "cells": [
  {
   "cell_type": "markdown",
   "metadata": {
    "toc": true
   },
   "source": [
    "<h1>Содержание<span class=\"tocSkip\"></span></h1>\n",
    "<div class=\"toc\"><ul class=\"toc-item\"><li><ul class=\"toc-item\"><li><span><a href=\"#Комментарий-студента:-прошу-прощения-за-не-доделанную-работу,-я-зашел-в-тупик-и-не-понимаю,-что-еще-надо-сделать-и-что-подправить\" data-toc-modified-id=\"Комментарий-студента:-прошу-прощения-за-не-доделанную-работу,-я-зашел-в-тупик-и-не-понимаю,-что-еще-надо-сделать-и-что-подправить-0.1\"><span class=\"toc-item-num\">0.1&nbsp;&nbsp;</span>Комментарий студента: прошу прощения за не доделанную работу, я зашел в тупик и не понимаю, что еще надо сделать и что подправить</a></span></li></ul></li><li><span><a href=\"#Подготовка-данных\" data-toc-modified-id=\"Подготовка-данных-1\"><span class=\"toc-item-num\">1&nbsp;&nbsp;</span>Подготовка данных</a></span></li><li><span><a href=\"#Исследование-задачи\" data-toc-modified-id=\"Исследование-задачи-2\"><span class=\"toc-item-num\">2&nbsp;&nbsp;</span>Исследование задачи</a></span></li><li><span><a href=\"#Обучим-модели-разными-методами-и-сравним-результаты\" data-toc-modified-id=\"Обучим-модели-разными-методами-и-сравним-результаты-3\"><span class=\"toc-item-num\">3&nbsp;&nbsp;</span>Обучим модели разными методами и сравним результаты</a></span><ul class=\"toc-item\"><li><span><a href=\"#Случайный-лес\" data-toc-modified-id=\"Случайный-лес-3.1\"><span class=\"toc-item-num\">3.1&nbsp;&nbsp;</span>Случайный лес</a></span></li><li><span><a href=\"#Случайные-лес,-с-использованием-параметра-class_weight\" data-toc-modified-id=\"Случайные-лес,-с-использованием-параметра-class_weight-3.2\"><span class=\"toc-item-num\">3.2&nbsp;&nbsp;</span>Случайные лес, с использованием параметра <code>class_weight</code></a></span></li><li><span><a href=\"#Решающее-дерево\" data-toc-modified-id=\"Решающее-дерево-3.3\"><span class=\"toc-item-num\">3.3&nbsp;&nbsp;</span>Решающее дерево</a></span></li><li><span><a href=\"#Решающее-дерево,-с-использованием-параметра-class_weight\" data-toc-modified-id=\"Решающее-дерево,-с-использованием-параметра-class_weight-3.4\"><span class=\"toc-item-num\">3.4&nbsp;&nbsp;</span>Решающее дерево, с использованием параметра <code>class_weight</code></a></span></li><li><span><a href=\"#Случайный-лес-с-увелечением-выборки\" data-toc-modified-id=\"Случайный-лес-с-увелечением-выборки-3.5\"><span class=\"toc-item-num\">3.5&nbsp;&nbsp;</span>Случайный лес с увелечением выборки</a></span></li><li><span><a href=\"#Случайный-лес-с-уменьшением-выборки\" data-toc-modified-id=\"Случайный-лес-с-уменьшением-выборки-3.6\"><span class=\"toc-item-num\">3.6&nbsp;&nbsp;</span>Случайный лес с уменьшением выборки</a></span></li><li><span><a href=\"#Логистическая-регрессия\" data-toc-modified-id=\"Логистическая-регрессия-3.7\"><span class=\"toc-item-num\">3.7&nbsp;&nbsp;</span>Логистическая регрессия</a></span></li><li><span><a href=\"#Логистическая-регрессия-c-class_weight\" data-toc-modified-id=\"Логистическая-регрессия-c-class_weight-3.8\"><span class=\"toc-item-num\">3.8&nbsp;&nbsp;</span>Логистическая регрессия c <code>class_weight</code></a></span></li></ul></li><li><span><a href=\"#Тестирование-моделей\" data-toc-modified-id=\"Тестирование-моделей-4\"><span class=\"toc-item-num\">4&nbsp;&nbsp;</span>Тестирование моделей</a></span><ul class=\"toc-item\"><li><span><a href=\"#Случайный-лес-class_weight\" data-toc-modified-id=\"Случайный-лес-class_weight-4.1\"><span class=\"toc-item-num\">4.1&nbsp;&nbsp;</span>Случайный лес <code>class_weight</code></a></span></li></ul></li><li><span><a href=\"#Чек-лист-готовности-проекта\" data-toc-modified-id=\"Чек-лист-готовности-проекта-5\"><span class=\"toc-item-num\">5&nbsp;&nbsp;</span>Чек-лист готовности проекта</a></span></li></ul></div>"
   ]
  },
  {
   "cell_type": "markdown",
   "metadata": {},
   "source": [
    "# Отток клиентов"
   ]
  },
  {
   "cell_type": "markdown",
   "metadata": {},
   "source": [
    "Из «Бета-Банка» стали уходить клиенты. Каждый месяц. Немного, но заметно. Банковские маркетологи посчитали: сохранять текущих клиентов дешевле, чем привлекать новых.\n",
    "\n",
    "Нужно спрогнозировать, уйдёт клиент из банка в ближайшее время или нет. Вам предоставлены исторические данные о поведении клиентов и расторжении договоров с банком. \n",
    "\n",
    "Постройте модель с предельно большим значением *F1*-меры. Чтобы сдать проект успешно, нужно довести метрику до 0.59. Проверьте *F1*-меру на тестовой выборке самостоятельно.\n",
    "\n",
    "Дополнительно измеряйте *AUC-ROC*, сравнивайте её значение с *F1*-мерой.\n",
    "\n",
    "Источник данных: [https://www.kaggle.com/barelydedicated/bank-customer-churn-modeling](https://www.kaggle.com/barelydedicated/bank-customer-churn-modeling)"
   ]
  },
  {
   "cell_type": "markdown",
   "metadata": {},
   "source": [
    "### Комментарий студента: прошу прощения за не доделанную работу, я зашел в тупик и не понимаю, что еще надо сделать и что подправить"
   ]
  },
  {
   "cell_type": "markdown",
   "metadata": {},
   "source": [
    "## Подготовка данных"
   ]
  },
  {
   "cell_type": "code",
   "execution_count": 1,
   "metadata": {},
   "outputs": [],
   "source": [
    "from scipy import stats as st\n",
    "import numpy as np\n",
    "import pandas as pd\n",
    "import seaborn as sns\n",
    "import matplotlib.pyplot as plt\n",
    "import math\n",
    "from sklearn.tree import DecisionTreeClassifier\n",
    "from sklearn.ensemble import RandomForestClassifier\n",
    "from sklearn.linear_model import LogisticRegression \n",
    "from sklearn.metrics import accuracy_score\n",
    "from sklearn.model_selection import train_test_split\n",
    "from sklearn.metrics import mean_absolute_error\n",
    "from sklearn.metrics import r2_score\n",
    "from sklearn.metrics import mean_squared_error\n",
    "from sklearn.linear_model import LinearRegression\n",
    "from sklearn.preprocessing import StandardScaler\n",
    "from sklearn.preprocessing import OrdinalEncoder\n",
    "from sklearn.metrics import roc_auc_score\n",
    "from sklearn.metrics import roc_curve\n",
    "from sklearn.model_selection import GridSearchCV\n",
    "from sklearn.metrics import f1_score \n",
    "from sklearn.metrics import classification_report\n",
    "from sklearn.utils import shuffle"
   ]
  },
  {
   "cell_type": "code",
   "execution_count": 2,
   "metadata": {
    "scrolled": false
   },
   "outputs": [
    {
     "name": "stdout",
     "output_type": "stream",
     "text": [
      "<class 'pandas.core.frame.DataFrame'>\n",
      "RangeIndex: 10000 entries, 0 to 9999\n",
      "Data columns (total 14 columns):\n",
      " #   Column           Non-Null Count  Dtype  \n",
      "---  ------           --------------  -----  \n",
      " 0   RowNumber        10000 non-null  int64  \n",
      " 1   CustomerId       10000 non-null  int64  \n",
      " 2   Surname          10000 non-null  object \n",
      " 3   CreditScore      10000 non-null  int64  \n",
      " 4   Geography        10000 non-null  object \n",
      " 5   Gender           10000 non-null  object \n",
      " 6   Age              10000 non-null  int64  \n",
      " 7   Tenure           9091 non-null   float64\n",
      " 8   Balance          10000 non-null  float64\n",
      " 9   NumOfProducts    10000 non-null  int64  \n",
      " 10  HasCrCard        10000 non-null  int64  \n",
      " 11  IsActiveMember   10000 non-null  int64  \n",
      " 12  EstimatedSalary  10000 non-null  float64\n",
      " 13  Exited           10000 non-null  int64  \n",
      "dtypes: float64(3), int64(8), object(3)\n",
      "memory usage: 1.1+ MB\n"
     ]
    },
    {
     "data": {
      "text/html": [
       "<div>\n",
       "<style scoped>\n",
       "    .dataframe tbody tr th:only-of-type {\n",
       "        vertical-align: middle;\n",
       "    }\n",
       "\n",
       "    .dataframe tbody tr th {\n",
       "        vertical-align: top;\n",
       "    }\n",
       "\n",
       "    .dataframe thead th {\n",
       "        text-align: right;\n",
       "    }\n",
       "</style>\n",
       "<table border=\"1\" class=\"dataframe\">\n",
       "  <thead>\n",
       "    <tr style=\"text-align: right;\">\n",
       "      <th></th>\n",
       "      <th>RowNumber</th>\n",
       "      <th>CustomerId</th>\n",
       "      <th>Surname</th>\n",
       "      <th>CreditScore</th>\n",
       "      <th>Geography</th>\n",
       "      <th>Gender</th>\n",
       "      <th>Age</th>\n",
       "      <th>Tenure</th>\n",
       "      <th>Balance</th>\n",
       "      <th>NumOfProducts</th>\n",
       "      <th>HasCrCard</th>\n",
       "      <th>IsActiveMember</th>\n",
       "      <th>EstimatedSalary</th>\n",
       "      <th>Exited</th>\n",
       "    </tr>\n",
       "  </thead>\n",
       "  <tbody>\n",
       "    <tr>\n",
       "      <th>0</th>\n",
       "      <td>1</td>\n",
       "      <td>15634602</td>\n",
       "      <td>Hargrave</td>\n",
       "      <td>619</td>\n",
       "      <td>France</td>\n",
       "      <td>Female</td>\n",
       "      <td>42</td>\n",
       "      <td>2.0</td>\n",
       "      <td>0.00</td>\n",
       "      <td>1</td>\n",
       "      <td>1</td>\n",
       "      <td>1</td>\n",
       "      <td>101348.88</td>\n",
       "      <td>1</td>\n",
       "    </tr>\n",
       "    <tr>\n",
       "      <th>1</th>\n",
       "      <td>2</td>\n",
       "      <td>15647311</td>\n",
       "      <td>Hill</td>\n",
       "      <td>608</td>\n",
       "      <td>Spain</td>\n",
       "      <td>Female</td>\n",
       "      <td>41</td>\n",
       "      <td>1.0</td>\n",
       "      <td>83807.86</td>\n",
       "      <td>1</td>\n",
       "      <td>0</td>\n",
       "      <td>1</td>\n",
       "      <td>112542.58</td>\n",
       "      <td>0</td>\n",
       "    </tr>\n",
       "    <tr>\n",
       "      <th>2</th>\n",
       "      <td>3</td>\n",
       "      <td>15619304</td>\n",
       "      <td>Onio</td>\n",
       "      <td>502</td>\n",
       "      <td>France</td>\n",
       "      <td>Female</td>\n",
       "      <td>42</td>\n",
       "      <td>8.0</td>\n",
       "      <td>159660.80</td>\n",
       "      <td>3</td>\n",
       "      <td>1</td>\n",
       "      <td>0</td>\n",
       "      <td>113931.57</td>\n",
       "      <td>1</td>\n",
       "    </tr>\n",
       "    <tr>\n",
       "      <th>3</th>\n",
       "      <td>4</td>\n",
       "      <td>15701354</td>\n",
       "      <td>Boni</td>\n",
       "      <td>699</td>\n",
       "      <td>France</td>\n",
       "      <td>Female</td>\n",
       "      <td>39</td>\n",
       "      <td>1.0</td>\n",
       "      <td>0.00</td>\n",
       "      <td>2</td>\n",
       "      <td>0</td>\n",
       "      <td>0</td>\n",
       "      <td>93826.63</td>\n",
       "      <td>0</td>\n",
       "    </tr>\n",
       "    <tr>\n",
       "      <th>4</th>\n",
       "      <td>5</td>\n",
       "      <td>15737888</td>\n",
       "      <td>Mitchell</td>\n",
       "      <td>850</td>\n",
       "      <td>Spain</td>\n",
       "      <td>Female</td>\n",
       "      <td>43</td>\n",
       "      <td>2.0</td>\n",
       "      <td>125510.82</td>\n",
       "      <td>1</td>\n",
       "      <td>1</td>\n",
       "      <td>1</td>\n",
       "      <td>79084.10</td>\n",
       "      <td>0</td>\n",
       "    </tr>\n",
       "    <tr>\n",
       "      <th>5</th>\n",
       "      <td>6</td>\n",
       "      <td>15574012</td>\n",
       "      <td>Chu</td>\n",
       "      <td>645</td>\n",
       "      <td>Spain</td>\n",
       "      <td>Male</td>\n",
       "      <td>44</td>\n",
       "      <td>8.0</td>\n",
       "      <td>113755.78</td>\n",
       "      <td>2</td>\n",
       "      <td>1</td>\n",
       "      <td>0</td>\n",
       "      <td>149756.71</td>\n",
       "      <td>1</td>\n",
       "    </tr>\n",
       "    <tr>\n",
       "      <th>6</th>\n",
       "      <td>7</td>\n",
       "      <td>15592531</td>\n",
       "      <td>Bartlett</td>\n",
       "      <td>822</td>\n",
       "      <td>France</td>\n",
       "      <td>Male</td>\n",
       "      <td>50</td>\n",
       "      <td>7.0</td>\n",
       "      <td>0.00</td>\n",
       "      <td>2</td>\n",
       "      <td>1</td>\n",
       "      <td>1</td>\n",
       "      <td>10062.80</td>\n",
       "      <td>0</td>\n",
       "    </tr>\n",
       "    <tr>\n",
       "      <th>7</th>\n",
       "      <td>8</td>\n",
       "      <td>15656148</td>\n",
       "      <td>Obinna</td>\n",
       "      <td>376</td>\n",
       "      <td>Germany</td>\n",
       "      <td>Female</td>\n",
       "      <td>29</td>\n",
       "      <td>4.0</td>\n",
       "      <td>115046.74</td>\n",
       "      <td>4</td>\n",
       "      <td>1</td>\n",
       "      <td>0</td>\n",
       "      <td>119346.88</td>\n",
       "      <td>1</td>\n",
       "    </tr>\n",
       "    <tr>\n",
       "      <th>8</th>\n",
       "      <td>9</td>\n",
       "      <td>15792365</td>\n",
       "      <td>He</td>\n",
       "      <td>501</td>\n",
       "      <td>France</td>\n",
       "      <td>Male</td>\n",
       "      <td>44</td>\n",
       "      <td>4.0</td>\n",
       "      <td>142051.07</td>\n",
       "      <td>2</td>\n",
       "      <td>0</td>\n",
       "      <td>1</td>\n",
       "      <td>74940.50</td>\n",
       "      <td>0</td>\n",
       "    </tr>\n",
       "    <tr>\n",
       "      <th>9</th>\n",
       "      <td>10</td>\n",
       "      <td>15592389</td>\n",
       "      <td>H?</td>\n",
       "      <td>684</td>\n",
       "      <td>France</td>\n",
       "      <td>Male</td>\n",
       "      <td>27</td>\n",
       "      <td>2.0</td>\n",
       "      <td>134603.88</td>\n",
       "      <td>1</td>\n",
       "      <td>1</td>\n",
       "      <td>1</td>\n",
       "      <td>71725.73</td>\n",
       "      <td>0</td>\n",
       "    </tr>\n",
       "    <tr>\n",
       "      <th>10</th>\n",
       "      <td>11</td>\n",
       "      <td>15767821</td>\n",
       "      <td>Bearce</td>\n",
       "      <td>528</td>\n",
       "      <td>France</td>\n",
       "      <td>Male</td>\n",
       "      <td>31</td>\n",
       "      <td>6.0</td>\n",
       "      <td>102016.72</td>\n",
       "      <td>2</td>\n",
       "      <td>0</td>\n",
       "      <td>0</td>\n",
       "      <td>80181.12</td>\n",
       "      <td>0</td>\n",
       "    </tr>\n",
       "    <tr>\n",
       "      <th>11</th>\n",
       "      <td>12</td>\n",
       "      <td>15737173</td>\n",
       "      <td>Andrews</td>\n",
       "      <td>497</td>\n",
       "      <td>Spain</td>\n",
       "      <td>Male</td>\n",
       "      <td>24</td>\n",
       "      <td>3.0</td>\n",
       "      <td>0.00</td>\n",
       "      <td>2</td>\n",
       "      <td>1</td>\n",
       "      <td>0</td>\n",
       "      <td>76390.01</td>\n",
       "      <td>0</td>\n",
       "    </tr>\n",
       "    <tr>\n",
       "      <th>12</th>\n",
       "      <td>13</td>\n",
       "      <td>15632264</td>\n",
       "      <td>Kay</td>\n",
       "      <td>476</td>\n",
       "      <td>France</td>\n",
       "      <td>Female</td>\n",
       "      <td>34</td>\n",
       "      <td>10.0</td>\n",
       "      <td>0.00</td>\n",
       "      <td>2</td>\n",
       "      <td>1</td>\n",
       "      <td>0</td>\n",
       "      <td>26260.98</td>\n",
       "      <td>0</td>\n",
       "    </tr>\n",
       "    <tr>\n",
       "      <th>13</th>\n",
       "      <td>14</td>\n",
       "      <td>15691483</td>\n",
       "      <td>Chin</td>\n",
       "      <td>549</td>\n",
       "      <td>France</td>\n",
       "      <td>Female</td>\n",
       "      <td>25</td>\n",
       "      <td>5.0</td>\n",
       "      <td>0.00</td>\n",
       "      <td>2</td>\n",
       "      <td>0</td>\n",
       "      <td>0</td>\n",
       "      <td>190857.79</td>\n",
       "      <td>0</td>\n",
       "    </tr>\n",
       "    <tr>\n",
       "      <th>14</th>\n",
       "      <td>15</td>\n",
       "      <td>15600882</td>\n",
       "      <td>Scott</td>\n",
       "      <td>635</td>\n",
       "      <td>Spain</td>\n",
       "      <td>Female</td>\n",
       "      <td>35</td>\n",
       "      <td>7.0</td>\n",
       "      <td>0.00</td>\n",
       "      <td>2</td>\n",
       "      <td>1</td>\n",
       "      <td>1</td>\n",
       "      <td>65951.65</td>\n",
       "      <td>0</td>\n",
       "    </tr>\n",
       "    <tr>\n",
       "      <th>15</th>\n",
       "      <td>16</td>\n",
       "      <td>15643966</td>\n",
       "      <td>Goforth</td>\n",
       "      <td>616</td>\n",
       "      <td>Germany</td>\n",
       "      <td>Male</td>\n",
       "      <td>45</td>\n",
       "      <td>3.0</td>\n",
       "      <td>143129.41</td>\n",
       "      <td>2</td>\n",
       "      <td>0</td>\n",
       "      <td>1</td>\n",
       "      <td>64327.26</td>\n",
       "      <td>0</td>\n",
       "    </tr>\n",
       "    <tr>\n",
       "      <th>16</th>\n",
       "      <td>17</td>\n",
       "      <td>15737452</td>\n",
       "      <td>Romeo</td>\n",
       "      <td>653</td>\n",
       "      <td>Germany</td>\n",
       "      <td>Male</td>\n",
       "      <td>58</td>\n",
       "      <td>1.0</td>\n",
       "      <td>132602.88</td>\n",
       "      <td>1</td>\n",
       "      <td>1</td>\n",
       "      <td>0</td>\n",
       "      <td>5097.67</td>\n",
       "      <td>1</td>\n",
       "    </tr>\n",
       "    <tr>\n",
       "      <th>17</th>\n",
       "      <td>18</td>\n",
       "      <td>15788218</td>\n",
       "      <td>Henderson</td>\n",
       "      <td>549</td>\n",
       "      <td>Spain</td>\n",
       "      <td>Female</td>\n",
       "      <td>24</td>\n",
       "      <td>9.0</td>\n",
       "      <td>0.00</td>\n",
       "      <td>2</td>\n",
       "      <td>1</td>\n",
       "      <td>1</td>\n",
       "      <td>14406.41</td>\n",
       "      <td>0</td>\n",
       "    </tr>\n",
       "    <tr>\n",
       "      <th>18</th>\n",
       "      <td>19</td>\n",
       "      <td>15661507</td>\n",
       "      <td>Muldrow</td>\n",
       "      <td>587</td>\n",
       "      <td>Spain</td>\n",
       "      <td>Male</td>\n",
       "      <td>45</td>\n",
       "      <td>6.0</td>\n",
       "      <td>0.00</td>\n",
       "      <td>1</td>\n",
       "      <td>0</td>\n",
       "      <td>0</td>\n",
       "      <td>158684.81</td>\n",
       "      <td>0</td>\n",
       "    </tr>\n",
       "    <tr>\n",
       "      <th>19</th>\n",
       "      <td>20</td>\n",
       "      <td>15568982</td>\n",
       "      <td>Hao</td>\n",
       "      <td>726</td>\n",
       "      <td>France</td>\n",
       "      <td>Female</td>\n",
       "      <td>24</td>\n",
       "      <td>6.0</td>\n",
       "      <td>0.00</td>\n",
       "      <td>2</td>\n",
       "      <td>1</td>\n",
       "      <td>1</td>\n",
       "      <td>54724.03</td>\n",
       "      <td>0</td>\n",
       "    </tr>\n",
       "  </tbody>\n",
       "</table>\n",
       "</div>"
      ],
      "text/plain": [
       "    RowNumber  CustomerId    Surname  CreditScore Geography  Gender  Age  \\\n",
       "0           1    15634602   Hargrave          619    France  Female   42   \n",
       "1           2    15647311       Hill          608     Spain  Female   41   \n",
       "2           3    15619304       Onio          502    France  Female   42   \n",
       "3           4    15701354       Boni          699    France  Female   39   \n",
       "4           5    15737888   Mitchell          850     Spain  Female   43   \n",
       "5           6    15574012        Chu          645     Spain    Male   44   \n",
       "6           7    15592531   Bartlett          822    France    Male   50   \n",
       "7           8    15656148     Obinna          376   Germany  Female   29   \n",
       "8           9    15792365         He          501    France    Male   44   \n",
       "9          10    15592389         H?          684    France    Male   27   \n",
       "10         11    15767821     Bearce          528    France    Male   31   \n",
       "11         12    15737173    Andrews          497     Spain    Male   24   \n",
       "12         13    15632264        Kay          476    France  Female   34   \n",
       "13         14    15691483       Chin          549    France  Female   25   \n",
       "14         15    15600882      Scott          635     Spain  Female   35   \n",
       "15         16    15643966    Goforth          616   Germany    Male   45   \n",
       "16         17    15737452      Romeo          653   Germany    Male   58   \n",
       "17         18    15788218  Henderson          549     Spain  Female   24   \n",
       "18         19    15661507    Muldrow          587     Spain    Male   45   \n",
       "19         20    15568982        Hao          726    France  Female   24   \n",
       "\n",
       "    Tenure    Balance  NumOfProducts  HasCrCard  IsActiveMember  \\\n",
       "0      2.0       0.00              1          1               1   \n",
       "1      1.0   83807.86              1          0               1   \n",
       "2      8.0  159660.80              3          1               0   \n",
       "3      1.0       0.00              2          0               0   \n",
       "4      2.0  125510.82              1          1               1   \n",
       "5      8.0  113755.78              2          1               0   \n",
       "6      7.0       0.00              2          1               1   \n",
       "7      4.0  115046.74              4          1               0   \n",
       "8      4.0  142051.07              2          0               1   \n",
       "9      2.0  134603.88              1          1               1   \n",
       "10     6.0  102016.72              2          0               0   \n",
       "11     3.0       0.00              2          1               0   \n",
       "12    10.0       0.00              2          1               0   \n",
       "13     5.0       0.00              2          0               0   \n",
       "14     7.0       0.00              2          1               1   \n",
       "15     3.0  143129.41              2          0               1   \n",
       "16     1.0  132602.88              1          1               0   \n",
       "17     9.0       0.00              2          1               1   \n",
       "18     6.0       0.00              1          0               0   \n",
       "19     6.0       0.00              2          1               1   \n",
       "\n",
       "    EstimatedSalary  Exited  \n",
       "0         101348.88       1  \n",
       "1         112542.58       0  \n",
       "2         113931.57       1  \n",
       "3          93826.63       0  \n",
       "4          79084.10       0  \n",
       "5         149756.71       1  \n",
       "6          10062.80       0  \n",
       "7         119346.88       1  \n",
       "8          74940.50       0  \n",
       "9          71725.73       0  \n",
       "10         80181.12       0  \n",
       "11         76390.01       0  \n",
       "12         26260.98       0  \n",
       "13        190857.79       0  \n",
       "14         65951.65       0  \n",
       "15         64327.26       0  \n",
       "16          5097.67       1  \n",
       "17         14406.41       0  \n",
       "18        158684.81       0  \n",
       "19         54724.03       0  "
      ]
     },
     "execution_count": 2,
     "metadata": {},
     "output_type": "execute_result"
    }
   ],
   "source": [
    "try:\n",
    "    data = pd.read_csv('/datasets/Churn.csv')\n",
    "    data.info()\n",
    "except:\n",
    "    print('alarm, волк унес зайчат')\n",
    "\n",
    "    \n",
    "data.head(20)"
   ]
  },
  {
   "cell_type": "markdown",
   "metadata": {},
   "source": [
    "В столбце `Tenure` пропущено почти 1000 значений, заменим их на медиану и удалим не нужные столбцы\n"
   ]
  },
  {
   "cell_type": "code",
   "execution_count": 3,
   "metadata": {},
   "outputs": [
    {
     "data": {
      "text/html": [
       "<div>\n",
       "<style scoped>\n",
       "    .dataframe tbody tr th:only-of-type {\n",
       "        vertical-align: middle;\n",
       "    }\n",
       "\n",
       "    .dataframe tbody tr th {\n",
       "        vertical-align: top;\n",
       "    }\n",
       "\n",
       "    .dataframe thead th {\n",
       "        text-align: right;\n",
       "    }\n",
       "</style>\n",
       "<table border=\"1\" class=\"dataframe\">\n",
       "  <thead>\n",
       "    <tr style=\"text-align: right;\">\n",
       "      <th></th>\n",
       "      <th>CreditScore</th>\n",
       "      <th>Geography</th>\n",
       "      <th>Gender</th>\n",
       "      <th>Age</th>\n",
       "      <th>Tenure</th>\n",
       "      <th>Balance</th>\n",
       "      <th>NumOfProducts</th>\n",
       "      <th>HasCrCard</th>\n",
       "      <th>IsActiveMember</th>\n",
       "      <th>EstimatedSalary</th>\n",
       "      <th>Exited</th>\n",
       "    </tr>\n",
       "  </thead>\n",
       "  <tbody>\n",
       "    <tr>\n",
       "      <th>0</th>\n",
       "      <td>619</td>\n",
       "      <td>France</td>\n",
       "      <td>Female</td>\n",
       "      <td>42</td>\n",
       "      <td>2.0</td>\n",
       "      <td>0.00</td>\n",
       "      <td>1</td>\n",
       "      <td>1</td>\n",
       "      <td>1</td>\n",
       "      <td>101348.88</td>\n",
       "      <td>1</td>\n",
       "    </tr>\n",
       "    <tr>\n",
       "      <th>1</th>\n",
       "      <td>608</td>\n",
       "      <td>Spain</td>\n",
       "      <td>Female</td>\n",
       "      <td>41</td>\n",
       "      <td>1.0</td>\n",
       "      <td>83807.86</td>\n",
       "      <td>1</td>\n",
       "      <td>0</td>\n",
       "      <td>1</td>\n",
       "      <td>112542.58</td>\n",
       "      <td>0</td>\n",
       "    </tr>\n",
       "    <tr>\n",
       "      <th>2</th>\n",
       "      <td>502</td>\n",
       "      <td>France</td>\n",
       "      <td>Female</td>\n",
       "      <td>42</td>\n",
       "      <td>8.0</td>\n",
       "      <td>159660.80</td>\n",
       "      <td>3</td>\n",
       "      <td>1</td>\n",
       "      <td>0</td>\n",
       "      <td>113931.57</td>\n",
       "      <td>1</td>\n",
       "    </tr>\n",
       "    <tr>\n",
       "      <th>3</th>\n",
       "      <td>699</td>\n",
       "      <td>France</td>\n",
       "      <td>Female</td>\n",
       "      <td>39</td>\n",
       "      <td>1.0</td>\n",
       "      <td>0.00</td>\n",
       "      <td>2</td>\n",
       "      <td>0</td>\n",
       "      <td>0</td>\n",
       "      <td>93826.63</td>\n",
       "      <td>0</td>\n",
       "    </tr>\n",
       "    <tr>\n",
       "      <th>4</th>\n",
       "      <td>850</td>\n",
       "      <td>Spain</td>\n",
       "      <td>Female</td>\n",
       "      <td>43</td>\n",
       "      <td>2.0</td>\n",
       "      <td>125510.82</td>\n",
       "      <td>1</td>\n",
       "      <td>1</td>\n",
       "      <td>1</td>\n",
       "      <td>79084.10</td>\n",
       "      <td>0</td>\n",
       "    </tr>\n",
       "  </tbody>\n",
       "</table>\n",
       "</div>"
      ],
      "text/plain": [
       "   CreditScore Geography  Gender  Age  Tenure    Balance  NumOfProducts  \\\n",
       "0          619    France  Female   42     2.0       0.00              1   \n",
       "1          608     Spain  Female   41     1.0   83807.86              1   \n",
       "2          502    France  Female   42     8.0  159660.80              3   \n",
       "3          699    France  Female   39     1.0       0.00              2   \n",
       "4          850     Spain  Female   43     2.0  125510.82              1   \n",
       "\n",
       "   HasCrCard  IsActiveMember  EstimatedSalary  Exited  \n",
       "0          1               1        101348.88       1  \n",
       "1          0               1        112542.58       0  \n",
       "2          1               0        113931.57       1  \n",
       "3          0               0         93826.63       0  \n",
       "4          1               1         79084.10       0  "
      ]
     },
     "execution_count": 3,
     "metadata": {},
     "output_type": "execute_result"
    }
   ],
   "source": [
    "data = data.drop([\"RowNumber\", \"CustomerId\", \"Surname\"], axis = 1)\n",
    "data = data.fillna({'Tenure' : data.Tenure.median()})\n",
    "data.head()"
   ]
  },
  {
   "cell_type": "code",
   "execution_count": 4,
   "metadata": {},
   "outputs": [
    {
     "data": {
      "text/plain": [
       "CreditScore        0\n",
       "Geography          0\n",
       "Gender             0\n",
       "Age                0\n",
       "Tenure             0\n",
       "Balance            0\n",
       "NumOfProducts      0\n",
       "HasCrCard          0\n",
       "IsActiveMember     0\n",
       "EstimatedSalary    0\n",
       "Exited             0\n",
       "dtype: int64"
      ]
     },
     "execution_count": 4,
     "metadata": {},
     "output_type": "execute_result"
    }
   ],
   "source": [
    "data.isnull().sum()"
   ]
  },
  {
   "cell_type": "markdown",
   "metadata": {},
   "source": [
    "Подготовим столбцы к следующему шагу, превратив страны и пол в цифры"
   ]
  },
  {
   "cell_type": "code",
   "execution_count": 5,
   "metadata": {},
   "outputs": [
    {
     "data": {
      "text/html": [
       "<div>\n",
       "<style scoped>\n",
       "    .dataframe tbody tr th:only-of-type {\n",
       "        vertical-align: middle;\n",
       "    }\n",
       "\n",
       "    .dataframe tbody tr th {\n",
       "        vertical-align: top;\n",
       "    }\n",
       "\n",
       "    .dataframe thead th {\n",
       "        text-align: right;\n",
       "    }\n",
       "</style>\n",
       "<table border=\"1\" class=\"dataframe\">\n",
       "  <thead>\n",
       "    <tr style=\"text-align: right;\">\n",
       "      <th></th>\n",
       "      <th>CreditScore</th>\n",
       "      <th>Age</th>\n",
       "      <th>Tenure</th>\n",
       "      <th>Balance</th>\n",
       "      <th>NumOfProducts</th>\n",
       "      <th>HasCrCard</th>\n",
       "      <th>IsActiveMember</th>\n",
       "      <th>EstimatedSalary</th>\n",
       "      <th>Exited</th>\n",
       "      <th>Geography_France</th>\n",
       "      <th>Geography_Germany</th>\n",
       "      <th>Geography_Spain</th>\n",
       "      <th>Gender_Female</th>\n",
       "      <th>Gender_Male</th>\n",
       "    </tr>\n",
       "  </thead>\n",
       "  <tbody>\n",
       "    <tr>\n",
       "      <th>0</th>\n",
       "      <td>619</td>\n",
       "      <td>42</td>\n",
       "      <td>2.0</td>\n",
       "      <td>0.00</td>\n",
       "      <td>1</td>\n",
       "      <td>1</td>\n",
       "      <td>1</td>\n",
       "      <td>101348.88</td>\n",
       "      <td>1</td>\n",
       "      <td>1</td>\n",
       "      <td>0</td>\n",
       "      <td>0</td>\n",
       "      <td>1</td>\n",
       "      <td>0</td>\n",
       "    </tr>\n",
       "    <tr>\n",
       "      <th>1</th>\n",
       "      <td>608</td>\n",
       "      <td>41</td>\n",
       "      <td>1.0</td>\n",
       "      <td>83807.86</td>\n",
       "      <td>1</td>\n",
       "      <td>0</td>\n",
       "      <td>1</td>\n",
       "      <td>112542.58</td>\n",
       "      <td>0</td>\n",
       "      <td>0</td>\n",
       "      <td>0</td>\n",
       "      <td>1</td>\n",
       "      <td>1</td>\n",
       "      <td>0</td>\n",
       "    </tr>\n",
       "    <tr>\n",
       "      <th>2</th>\n",
       "      <td>502</td>\n",
       "      <td>42</td>\n",
       "      <td>8.0</td>\n",
       "      <td>159660.80</td>\n",
       "      <td>3</td>\n",
       "      <td>1</td>\n",
       "      <td>0</td>\n",
       "      <td>113931.57</td>\n",
       "      <td>1</td>\n",
       "      <td>1</td>\n",
       "      <td>0</td>\n",
       "      <td>0</td>\n",
       "      <td>1</td>\n",
       "      <td>0</td>\n",
       "    </tr>\n",
       "    <tr>\n",
       "      <th>3</th>\n",
       "      <td>699</td>\n",
       "      <td>39</td>\n",
       "      <td>1.0</td>\n",
       "      <td>0.00</td>\n",
       "      <td>2</td>\n",
       "      <td>0</td>\n",
       "      <td>0</td>\n",
       "      <td>93826.63</td>\n",
       "      <td>0</td>\n",
       "      <td>1</td>\n",
       "      <td>0</td>\n",
       "      <td>0</td>\n",
       "      <td>1</td>\n",
       "      <td>0</td>\n",
       "    </tr>\n",
       "    <tr>\n",
       "      <th>4</th>\n",
       "      <td>850</td>\n",
       "      <td>43</td>\n",
       "      <td>2.0</td>\n",
       "      <td>125510.82</td>\n",
       "      <td>1</td>\n",
       "      <td>1</td>\n",
       "      <td>1</td>\n",
       "      <td>79084.10</td>\n",
       "      <td>0</td>\n",
       "      <td>0</td>\n",
       "      <td>0</td>\n",
       "      <td>1</td>\n",
       "      <td>1</td>\n",
       "      <td>0</td>\n",
       "    </tr>\n",
       "  </tbody>\n",
       "</table>\n",
       "</div>"
      ],
      "text/plain": [
       "   CreditScore  Age  Tenure    Balance  NumOfProducts  HasCrCard  \\\n",
       "0          619   42     2.0       0.00              1          1   \n",
       "1          608   41     1.0   83807.86              1          0   \n",
       "2          502   42     8.0  159660.80              3          1   \n",
       "3          699   39     1.0       0.00              2          0   \n",
       "4          850   43     2.0  125510.82              1          1   \n",
       "\n",
       "   IsActiveMember  EstimatedSalary  Exited  Geography_France  \\\n",
       "0               1        101348.88       1                 1   \n",
       "1               1        112542.58       0                 0   \n",
       "2               0        113931.57       1                 1   \n",
       "3               0         93826.63       0                 1   \n",
       "4               1         79084.10       0                 0   \n",
       "\n",
       "   Geography_Germany  Geography_Spain  Gender_Female  Gender_Male  \n",
       "0                  0                0              1            0  \n",
       "1                  0                1              1            0  \n",
       "2                  0                0              1            0  \n",
       "3                  0                0              1            0  \n",
       "4                  0                1              1            0  "
      ]
     },
     "execution_count": 5,
     "metadata": {},
     "output_type": "execute_result"
    }
   ],
   "source": [
    "data = pd.get_dummies(data)\n",
    "data.head()"
   ]
  },
  {
   "cell_type": "markdown",
   "metadata": {},
   "source": [
    "От пропусков и лишних столбцов избавились, данные подготовлены, едем дальше!"
   ]
  },
  {
   "cell_type": "markdown",
   "metadata": {},
   "source": [
    "## Исследование задачи"
   ]
  },
  {
   "cell_type": "markdown",
   "metadata": {},
   "source": [
    "Разобьем выборки на `train` `valid`"
   ]
  },
  {
   "cell_type": "code",
   "execution_count": 6,
   "metadata": {},
   "outputs": [],
   "source": [
    "# data_train, data_valid, data_test = \\\n",
    "#               np.split(data.sample(frac=1, random_state=12345), \n",
    "#                        [int(.6*len(data)), int(.8*len(data))])\n",
    "\n",
    "target = data['Exited']\n",
    "features = data.drop('Exited', axis=1)\n",
    "# features_train, features_valid, target_train, target_valid = train_test_split(\n",
    "#    features, target, test_size=0.25, random_state=12345)\n",
    "\n",
    "features_train, features_valid, target_train, target_valid = train_test_split(features, target,\n",
    "                                                    stratify=target, \n",
    "                                                    test_size=0.2, random_state=12345)\n",
    "\n",
    "features_train, features_test, target_train, target_test = train_test_split(features_train, target_train,\n",
    "                                                    stratify=target_train, \n",
    "                                                    test_size=0.2, random_state=12345)"
   ]
  },
  {
   "cell_type": "code",
   "execution_count": 8,
   "metadata": {},
   "outputs": [
    {
     "data": {
      "text/plain": [
       "0    0.7963\n",
       "1    0.2037\n",
       "Name: Exited, dtype: float64"
      ]
     },
     "execution_count": 8,
     "metadata": {},
     "output_type": "execute_result"
    },
    {
     "data": {
      "image/png": "[encoded data removed]",
      "text/plain": [
       "<Figure size 432x288 with 1 Axes>"
      ]
     },
     "metadata": {},
     "output_type": "display_data"
    }
   ],
   "source": [
    "s = data['Exited'].value_counts(normalize=True)\n",
    "plt.pie(s, labels = s);\n",
    "s"
   ]
  },
  {
   "cell_type": "markdown",
   "metadata": {},
   "source": [
    "На лицо определенный дисбаланс классов, будем уравнивать\n"
   ]
  },
  {
   "cell_type": "markdown",
   "metadata": {},
   "source": [
    "## Обучим модели разными методами и сравним результаты"
   ]
  },
  {
   "cell_type": "markdown",
   "metadata": {},
   "source": [
    "### Случайный лес"
   ]
  },
  {
   "cell_type": "code",
   "execution_count": 9,
   "metadata": {
    "scrolled": false
   },
   "outputs": [
    {
     "name": "stdout",
     "output_type": "stream",
     "text": [
      "max_depth = 4, 1 : 0.815,  0.39935064935064934,  0.7143553414739855\n",
      "max_depth = 5, 1 : 0.829,  0.39999999999999997,  0.7500798178764281\n",
      "max_depth = 6, 1 : 0.824,  0.4517133956386293,  0.7658482827974354\n",
      "max_depth = 9, 1 : 0.825,  0.46646341463414637,  0.7463765768850514\n",
      "max_depth = 10, 1 : 0.821,  0.49859943977591037,  0.7368601266906352\n",
      "max_depth = 11, 2 : 0.828,  0.5085714285714286,  0.7872286770591855\n",
      "max_depth = 9, 3 : 0.8495,  0.5229793977812995,  0.8154101713423747\n",
      "max_depth = 11, 3 : 0.8465,  0.5478645066273932,  0.8091141989447075\n",
      "max_depth = 9, 4 : 0.855,  0.5482866043613708,  0.8205832951595664\n",
      "max_depth = 11, 5 : 0.851,  0.5525525525525525,  0.83326161292263\n",
      "max_depth = 20, 5 : 0.8435,  0.5560283687943263,  0.7869826683386005\n",
      "max_depth = 21, 5 : 0.844,  0.5593220338983051,  0.7786638718842107\n",
      "max_depth = 11, 7 : 0.8565,  0.560490045941807,  0.8419644606085285\n",
      "max_depth = 20, 7 : 0.85,  0.5677233429394813,  0.8030241335326082\n",
      "max_depth = 11, 8 : 0.8595,  0.5683563748079877,  0.8478948902677717\n",
      "max_depth = 11, 9 : 0.8625,  0.5814307458143074,  0.8480560683950514\n",
      "max_depth = 18, 13 : 0.86,  0.5833333333333333,  0.8374476171086339\n"
     ]
    },
    {
     "data": {
      "text/html": [
       "<div>\n",
       "<style scoped>\n",
       "    .dataframe tbody tr th:only-of-type {\n",
       "        vertical-align: middle;\n",
       "    }\n",
       "\n",
       "    .dataframe tbody tr th {\n",
       "        vertical-align: top;\n",
       "    }\n",
       "\n",
       "    .dataframe thead th {\n",
       "        text-align: right;\n",
       "    }\n",
       "</style>\n",
       "<table border=\"1\" class=\"dataframe\">\n",
       "  <thead>\n",
       "    <tr style=\"text-align: right;\">\n",
       "      <th></th>\n",
       "      <th>score</th>\n",
       "      <th>f1_score</th>\n",
       "      <th>auc_roc</th>\n",
       "    </tr>\n",
       "  </thead>\n",
       "  <tbody>\n",
       "    <tr>\n",
       "      <th>0</th>\n",
       "      <td>0.86</td>\n",
       "      <td>0.583333</td>\n",
       "      <td>0.837448</td>\n",
       "    </tr>\n",
       "  </tbody>\n",
       "</table>\n",
       "</div>"
      ],
      "text/plain": [
       "   score  f1_score   auc_roc\n",
       "0   0.86  0.583333  0.837448"
      ]
     },
     "execution_count": 9,
     "metadata": {},
     "output_type": "execute_result"
    }
   ],
   "source": [
    "best_model_forest_db = None\n",
    "best_result_forest_db = 0\n",
    "best_f1_forest_db = 0 \n",
    "best_auc_forest_db = 0\n",
    "best_est_forest_db=0\n",
    "best_depth_forest_db=0\n",
    "\n",
    "for est in range(1, 25):\n",
    "    for depth in range(1, 25):\n",
    "        model_forest_db = RandomForestClassifier(random_state=12345, n_estimators=est, max_depth = depth)\n",
    "        model_forest_db.fit(features_train, target_train)\n",
    "        predictions_forest_db = model_forest_db.predict(features_valid)\n",
    "        result_forest_db = accuracy_score(target_valid, predictions_forest_db)\n",
    "        model_forest_f1_db = f1_score(target_valid, predictions_forest_db)\n",
    "        probabilities_valid_forest_db = model_forest_db.predict_proba(features_valid)\n",
    "        probabilities_one_valid_forest_db = probabilities_valid_forest_db[:, 1]\n",
    "        model_forest_auc_roc_db = roc_auc_score(target_valid, probabilities_one_valid_forest_db)\n",
    "        if model_forest_f1_db > best_f1_forest_db:\n",
    "            best_model_forest_db = model_forest_db\n",
    "            best_result_forest_db = result_forest_db\n",
    "            best_f1_forest_db = model_forest_f1_db\n",
    "            best_auc_forest_db = model_forest_auc_roc_db\n",
    "            best_est_forest_db = est\n",
    "            best_depth_forest_db = depth\n",
    "            print(f\"max_depth = {depth}, {est} : {result_forest_db},  {model_forest_f1_db},  {model_forest_auc_roc_db}\")\n",
    "best_result_forest_db = pd.DataFrame({'score' : [best_result_forest_db],\n",
    "                 'f1_score' : [best_f1_forest_db],\n",
    "                 'auc_roc' : [best_auc_forest_db]})\n",
    "best_result_forest_db"
   ]
  },
  {
   "cell_type": "markdown",
   "metadata": {},
   "source": [
    "### Решающее дерево"
   ]
  },
  {
   "cell_type": "code",
   "execution_count": 11,
   "metadata": {},
   "outputs": [
    {
     "name": "stdout",
     "output_type": "stream",
     "text": [
      "max_depth = 2 : 0.8315, 0.5206258890469416, 0.768012234113929\n",
      "max_depth = 5 : 0.8555, 0.5560675883256528, 0.834793961912606\n",
      "max_depth = 7 : 0.86, 0.5783132530120483, 0.8289152017965578\n",
      "max_depth = 8 : 0.856, 0.5789473684210527, 0.8023084717999974\n"
     ]
    },
    {
     "data": {
      "text/html": [
       "<div>\n",
       "<style scoped>\n",
       "    .dataframe tbody tr th:only-of-type {\n",
       "        vertical-align: middle;\n",
       "    }\n",
       "\n",
       "    .dataframe tbody tr th {\n",
       "        vertical-align: top;\n",
       "    }\n",
       "\n",
       "    .dataframe thead th {\n",
       "        text-align: right;\n",
       "    }\n",
       "</style>\n",
       "<table border=\"1\" class=\"dataframe\">\n",
       "  <thead>\n",
       "    <tr style=\"text-align: right;\">\n",
       "      <th></th>\n",
       "      <th>score</th>\n",
       "      <th>f1_score</th>\n",
       "      <th>auc_roc</th>\n",
       "    </tr>\n",
       "  </thead>\n",
       "  <tbody>\n",
       "    <tr>\n",
       "      <th>0</th>\n",
       "      <td>0.856</td>\n",
       "      <td>0.578947</td>\n",
       "      <td>0.802308</td>\n",
       "    </tr>\n",
       "  </tbody>\n",
       "</table>\n",
       "</div>"
      ],
      "text/plain": [
       "   score  f1_score   auc_roc\n",
       "0  0.856  0.578947  0.802308"
      ]
     },
     "execution_count": 11,
     "metadata": {},
     "output_type": "execute_result"
    }
   ],
   "source": [
    "best_model_tree_db = None\n",
    "best_result_tree_db = 0\n",
    "best_f1_tree_db = 0 \n",
    "best_auc_tree_db = 0\n",
    "best_depth_tree_db = 0\n",
    "for depth in range(1, 50):\n",
    "    model_tree_db = DecisionTreeClassifier(random_state=12345, max_depth=depth)\n",
    "    model_tree_db.fit(features_train, target_train)\n",
    "    predictions_tree_db = model_tree_db.predict(features_valid)\n",
    "    result_tree_db = accuracy_score(target_valid, predictions_tree_db)\n",
    "    model_tree_f1_db = f1_score(target_valid, predictions_tree_db)\n",
    "    probabilities_valid_tree_db = model_tree_db.predict_proba(features_valid)\n",
    "    probabilities_one_valid_tree_db = probabilities_valid_tree_db[:, 1]\n",
    "    model_tree_auc_roc_db = roc_auc_score(target_valid, probabilities_one_valid_tree_db)\n",
    "    if model_tree_f1_db > best_f1_tree_db:\n",
    "        best_model_tree_db = model_tree_db\n",
    "        best_result_tree_db = result_tree_db\n",
    "        best_f1_tree_db = model_tree_f1_db\n",
    "        best_auc_tree_db = model_tree_auc_roc_db\n",
    "        best_depth_tree_db = depth\n",
    "        print(f\"max_depth = {depth} : {result_tree_db}, {model_tree_f1_db}, {model_tree_auc_roc_db}\")\n",
    "best_result_tree_db = pd.DataFrame({'score' : [best_result_tree_db],\n",
    "                 'f1_score' : [best_f1_tree_db],\n",
    "                 'auc_roc' : [best_auc_tree_db]})\n",
    "best_result_tree_db"
   ]
  },
  {
   "cell_type": "markdown",
   "metadata": {},
   "source": [
    "### Решающее дерево, с использованием параметра `class_weight`"
   ]
  },
  {
   "cell_type": "code",
   "execution_count": 12,
   "metadata": {
    "scrolled": true
   },
   "outputs": [
    {
     "name": "stdout",
     "output_type": "stream",
     "text": [
      "max_depth = 1 : 0.681, 0.4838187702265373, 0.7009690738504298\n",
      "max_depth = 2 : 0.687, 0.501592356687898, 0.7530805073177955\n",
      "max_depth = 3 : 0.8025, 0.5235223160434258, 0.7909010705620876\n",
      "max_depth = 4 : 0.7165, 0.5341002465078061, 0.8128344060547451\n",
      "max_depth = 5 : 0.785, 0.5857418111753372, 0.8447684973108702\n"
     ]
    },
    {
     "data": {
      "text/html": [
       "<div>\n",
       "<style scoped>\n",
       "    .dataframe tbody tr th:only-of-type {\n",
       "        vertical-align: middle;\n",
       "    }\n",
       "\n",
       "    .dataframe tbody tr th {\n",
       "        vertical-align: top;\n",
       "    }\n",
       "\n",
       "    .dataframe thead th {\n",
       "        text-align: right;\n",
       "    }\n",
       "</style>\n",
       "<table border=\"1\" class=\"dataframe\">\n",
       "  <thead>\n",
       "    <tr style=\"text-align: right;\">\n",
       "      <th></th>\n",
       "      <th>score</th>\n",
       "      <th>f1_score</th>\n",
       "      <th>auc_roc</th>\n",
       "    </tr>\n",
       "  </thead>\n",
       "  <tbody>\n",
       "    <tr>\n",
       "      <th>0</th>\n",
       "      <td>0.785</td>\n",
       "      <td>0.585742</td>\n",
       "      <td>0.844768</td>\n",
       "    </tr>\n",
       "  </tbody>\n",
       "</table>\n",
       "</div>"
      ],
      "text/plain": [
       "   score  f1_score   auc_roc\n",
       "0  0.785  0.585742  0.844768"
      ]
     },
     "execution_count": 12,
     "metadata": {},
     "output_type": "execute_result"
    }
   ],
   "source": [
    "best_model_tree_balanced = None\n",
    "best_result_tree_balanced = 0\n",
    "best_f1_tree_balanced = 0 \n",
    "best_auc_tree_balanced = 0\n",
    "best_depth_tree_balanced = 0\n",
    "for depth in range(1, 50):\n",
    "    model_tree_balanced = DecisionTreeClassifier(random_state=12345, max_depth=depth, class_weight='balanced')\n",
    "    model_tree_balanced.fit(features_train, target_train)\n",
    "    predictions_tree_balanced = model_tree_balanced.predict(features_valid)\n",
    "    result_tree_balanced = accuracy_score(target_valid, predictions_tree_balanced)\n",
    "    model_tree_f1_balanced = f1_score(target_valid, predictions_tree_balanced)\n",
    "    probabilities_valid_tree_balanced = model_tree_balanced.predict_proba(features_valid)\n",
    "    probabilities_one_valid_tree_balanced = probabilities_valid_tree_balanced[:, 1]\n",
    "    model_tree_auc_roc_balanced = roc_auc_score(target_valid, probabilities_one_valid_tree_balanced)\n",
    "    if model_tree_f1_balanced > best_f1_tree_balanced:\n",
    "        best_model_tree_balanced = model_tree_balanced\n",
    "        best_result_tree_balanced = result_tree_balanced\n",
    "        best_f1_tree_balanced = model_tree_f1_balanced\n",
    "        best_auc_tree_balanced = model_tree_auc_roc_balanced\n",
    "        best_depth_tree_balanced = depth\n",
    "        print(f\"max_depth = {depth} : {result_tree_balanced}, {model_tree_f1_balanced}, {model_tree_auc_roc_balanced}\")\n",
    "best_result_tree_balanced = pd.DataFrame({'score' : [best_result_tree_balanced],\n",
    "                 'f1_score' : [best_f1_tree_balanced],\n",
    "                 'auc_roc' : [best_auc_tree_balanced]})\n",
    "best_result_tree_balanced"
   ]
  },
  {
   "cell_type": "markdown",
   "metadata": {},
   "source": [
    "### Случайный лес с увелечением выборки"
   ]
  },
  {
   "cell_type": "code",
   "execution_count": 13,
   "metadata": {
    "scrolled": false
   },
   "outputs": [
    {
     "name": "stdout",
     "output_type": "stream",
     "text": [
      "max_depth = 1, 1 : 0.5675, 0.34420015163002277, 0.5638666401378266\n",
      "max_depth = 2, 1 : 0.4155, 0.3650190114068442, 0.6067446491175305\n",
      "max_depth = 3, 1 : 0.6195, 0.3828061638280616, 0.6425655239214562\n",
      "max_depth = 4, 1 : 0.8075, 0.46601941747572817, 0.7010269128913198\n",
      "max_depth = 8, 1 : 0.726, 0.48785046728971965, 0.7307800867122901\n",
      "max_depth = 9, 1 : 0.736, 0.512014787430684, 0.7414085888662161\n",
      "max_depth = 12, 1 : 0.761, 0.5181451612903225, 0.7275997106505582\n",
      "max_depth = 9, 2 : 0.767, 0.5349301397205589, 0.7921673599639701\n",
      "max_depth = 4, 3 : 0.75, 0.5395948434622467, 0.8118241508072016\n",
      "max_depth = 5, 3 : 0.7805, 0.574199806013579, 0.8178640890505298\n",
      "max_depth = 9, 3 : 0.7915, 0.5749235474006116, 0.8105840817705224\n",
      "max_depth = 8, 4 : 0.792, 0.5814889336016097, 0.832099433794349\n",
      "max_depth = 8, 5 : 0.7945, 0.5877632898696088, 0.837820871719177\n",
      "max_depth = 11, 5 : 0.812, 0.5930735930735931, 0.8344176225532159\n",
      "max_depth = 8, 6 : 0.804, 0.6040404040404039, 0.8463687107754904\n",
      "max_depth = 11, 6 : 0.8195, 0.605464480874317, 0.8411724513419427\n",
      "max_depth = 8, 8 : 0.8105, 0.6104830421377184, 0.8566979922912126\n",
      "max_depth = 8, 9 : 0.813, 0.6152263374485597, 0.8572941200059845\n",
      "max_depth = 8, 11 : 0.8135, 0.6166495375128469, 0.8605261656109114\n",
      "max_depth = 11, 11 : 0.8305, 0.6229143492769743, 0.8521101995678266\n",
      "max_depth = 11, 12 : 0.833, 0.6263982102908277, 0.8521209961887928\n",
      "max_depth = 9, 17 : 0.8305, 0.6303162486368593, 0.8531412768700906\n",
      "max_depth = 10, 19 : 0.8295, 0.6305525460455037, 0.8553383892366944\n"
     ]
    },
    {
     "data": {
      "text/html": [
       "<div>\n",
       "<style scoped>\n",
       "    .dataframe tbody tr th:only-of-type {\n",
       "        vertical-align: middle;\n",
       "    }\n",
       "\n",
       "    .dataframe tbody tr th {\n",
       "        vertical-align: top;\n",
       "    }\n",
       "\n",
       "    .dataframe thead th {\n",
       "        text-align: right;\n",
       "    }\n",
       "</style>\n",
       "<table border=\"1\" class=\"dataframe\">\n",
       "  <thead>\n",
       "    <tr style=\"text-align: right;\">\n",
       "      <th></th>\n",
       "      <th>score</th>\n",
       "      <th>f1_score</th>\n",
       "      <th>auc_roc</th>\n",
       "    </tr>\n",
       "  </thead>\n",
       "  <tbody>\n",
       "    <tr>\n",
       "      <th>0</th>\n",
       "      <td>0.8295</td>\n",
       "      <td>0.630553</td>\n",
       "      <td>0.855338</td>\n",
       "    </tr>\n",
       "  </tbody>\n",
       "</table>\n",
       "</div>"
      ],
      "text/plain": [
       "    score  f1_score   auc_roc\n",
       "0  0.8295  0.630553  0.855338"
      ]
     },
     "execution_count": 13,
     "metadata": {},
     "output_type": "execute_result"
    }
   ],
   "source": [
    "best_model_forest_up = None\n",
    "best_result_forest_up = 0\n",
    "best_f1_forest_up = 0 \n",
    "best_auc_forest_up = 0\n",
    "best_est_forest_up=0\n",
    "best_depth_forest_up=0\n",
    "\n",
    "def upsample(features, target, repeat):\n",
    "    features_zeros = features[target == 0]\n",
    "    features_ones = features[target == 1]\n",
    "    target_zeros = target[target == 0]\n",
    "    target_ones = target[target == 1]\n",
    "\n",
    "    features_upsampled = pd.concat([features_zeros] + [features_ones] * repeat)\n",
    "    target_upsampled = pd.concat([target_zeros] + [target_ones] * repeat)\n",
    "    \n",
    "    features_upsampled, target_upsampled = shuffle(features_upsampled, target_upsampled, random_state=12345)\n",
    "    \n",
    "    return features_upsampled, target_upsampled\n",
    "\n",
    "features_upsampled, target_upsampled = upsample(features_train, target_train, 4)\n",
    "\n",
    "\n",
    "for est in range(1, 25):\n",
    "    for depth in range(1, 25):\n",
    "        model_forest_up = RandomForestClassifier(random_state=12345, n_estimators=est,\n",
    "                                                       max_depth = depth)\n",
    "        model_forest_up.fit(features_upsampled, target_upsampled)\n",
    "        predictions_forest_up = model_forest_up.predict(features_valid)\n",
    "        result_forest_up = accuracy_score(target_valid, predictions_forest_up)\n",
    "        model_forest_f1_up = f1_score(target_valid, predictions_forest_up)\n",
    "        probabilities_valid_forest_up = model_forest_up.predict_proba(features_valid)\n",
    "        probabilities_one_valid_forest_up = probabilities_valid_forest_up[:, 1]\n",
    "        model_forest_auc_roc_up = roc_auc_score(target_valid, probabilities_one_valid_forest_up)\n",
    "        if model_forest_f1_up > best_f1_forest_up:\n",
    "            best_model_forest_up = model_forest_up\n",
    "            best_result_forest_up = result_forest_up\n",
    "            best_f1_forest_up = model_forest_f1_up\n",
    "            best_auc_forest_up = model_forest_auc_roc_up\n",
    "            best_est_forest_up = est\n",
    "            best_depth_forest_up = depth\n",
    "            print(f\"max_depth = {depth}, {est} : {result_forest_up}, {model_forest_f1_up}, {model_forest_auc_roc_up}\")\n",
    "best_result_forest_up = pd.DataFrame({'score' : [best_result_forest_up],\n",
    "                 'f1_score' : [best_f1_forest_up],\n",
    "                 'auc_roc' : [best_auc_forest_up]})\n",
    "best_result_forest_up"
   ]
  },
  {
   "cell_type": "code",
   "execution_count": 14,
   "metadata": {},
   "outputs": [
    {
     "data": {
      "image/png": "[encoded data removed]",
      "text/plain": [
       "<Figure size 432x288 with 1 Axes>"
      ]
     },
     "metadata": {},
     "output_type": "display_data"
    }
   ],
   "source": [
    "plt.pie(target_upsampled.value_counts(normalize=True), labels=[0,1])\n",
    "plt.show()"
   ]
  },
  {
   "cell_type": "markdown",
   "metadata": {},
   "source": [
    "### Случайный лес с уменьшением выборки"
   ]
  },
  {
   "cell_type": "code",
   "execution_count": 15,
   "metadata": {
    "scrolled": false
   },
   "outputs": [
    {
     "name": "stdout",
     "output_type": "stream",
     "text": [
      "max_depth = 1, 1 : 0.5675, 0.34420015163002277, 0.5638666401378266\n",
      "max_depth = 2, 1 : 0.4155, 0.3650190114068442, 0.5821777092963534\n",
      "max_depth = 3, 1 : 0.5845, 0.38215613382899627, 0.6248814299661758\n",
      "max_depth = 4, 1 : 0.7985, 0.47457627118644063, 0.7223286460574596\n",
      "max_depth = 7, 1 : 0.761, 0.503118503118503, 0.7732516800313411\n",
      "max_depth = 4, 2 : 0.7395, 0.5153488372093024, 0.7782620833468291\n",
      "max_depth = 1, 3 : 0.756, 0.5177865612648221, 0.7463758056978396\n",
      "max_depth = 2, 3 : 0.798, 0.5409090909090909, 0.7620702366465079\n",
      "max_depth = 4, 3 : 0.7695, 0.5537270087124879, 0.8210953634682449\n",
      "max_depth = 6, 3 : 0.7605, 0.5601469237832873, 0.8183275725648607\n",
      "max_depth = 7, 4 : 0.7885, 0.5705583756345177, 0.8272540645422\n",
      "max_depth = 7, 5 : 0.797, 0.5882352941176471, 0.839444991987365\n",
      "max_depth = 7, 6 : 0.798, 0.5968063872255489, 0.8437489878167844\n",
      "max_depth = 7, 8 : 0.803, 0.6067864271457085, 0.853903981022625\n",
      "max_depth = 7, 11 : 0.799, 0.608187134502924, 0.8562946613794071\n",
      "max_depth = 7, 15 : 0.796, 0.609942638623327, 0.8615842344655904\n"
     ]
    },
    {
     "data": {
      "text/html": [
       "<div>\n",
       "<style scoped>\n",
       "    .dataframe tbody tr th:only-of-type {\n",
       "        vertical-align: middle;\n",
       "    }\n",
       "\n",
       "    .dataframe tbody tr th {\n",
       "        vertical-align: top;\n",
       "    }\n",
       "\n",
       "    .dataframe thead th {\n",
       "        text-align: right;\n",
       "    }\n",
       "</style>\n",
       "<table border=\"1\" class=\"dataframe\">\n",
       "  <thead>\n",
       "    <tr style=\"text-align: right;\">\n",
       "      <th></th>\n",
       "      <th>score</th>\n",
       "      <th>f1_score</th>\n",
       "      <th>auc_roc</th>\n",
       "    </tr>\n",
       "  </thead>\n",
       "  <tbody>\n",
       "    <tr>\n",
       "      <th>0</th>\n",
       "      <td>0.796</td>\n",
       "      <td>0.609943</td>\n",
       "      <td>0.861584</td>\n",
       "    </tr>\n",
       "  </tbody>\n",
       "</table>\n",
       "</div>"
      ],
      "text/plain": [
       "   score  f1_score   auc_roc\n",
       "0  0.796  0.609943  0.861584"
      ]
     },
     "execution_count": 15,
     "metadata": {},
     "output_type": "execute_result"
    }
   ],
   "source": [
    "best_model_forest_down = None\n",
    "best_result_forest_down = 0\n",
    "best_f1_forest_down = 0 \n",
    "best_auc_forest_down = 0\n",
    "best_est_forest_down=0\n",
    "best_depth_forest_down=0\n",
    "\n",
    "def downsample(features, target, fraction):\n",
    "    features_zeros = features[target == 0]\n",
    "    features_ones = features[target == 1]\n",
    "    target_zeros = target[target == 0]\n",
    "    target_ones = target[target == 1]\n",
    "\n",
    "    features_downsampled = pd.concat(\n",
    "        [features_zeros.sample(frac=fraction, random_state=12345)] + [features_ones])\n",
    "    target_downsampled = pd.concat(\n",
    "        [target_zeros.sample(frac=fraction, random_state=12345)] + [target_ones])\n",
    "    \n",
    "    features_downsampled, target_downsampled = shuffle(\n",
    "        features_downsampled, target_downsampled, random_state=12345)\n",
    "    \n",
    "    return features_downsampled, target_downsampled\n",
    "\n",
    "features_downsampled, target_downsampled = downsample(features_train, target_train, 0.25)\n",
    "\n",
    "\n",
    "\n",
    "for est in range(1, 25):\n",
    "    for depth in range(1, 25):\n",
    "        model_forest_down = RandomForestClassifier(random_state=12345, n_estimators=est,\n",
    "                                                       max_depth = depth)\n",
    "        model_forest_down.fit(features_downsampled, target_downsampled)\n",
    "        predictions_forest_down = model_forest_down.predict(features_valid)\n",
    "        result_forest_down = accuracy_score(target_valid, predictions_forest_down)\n",
    "        model_forest_f1_down = f1_score(target_valid, predictions_forest_down)\n",
    "        probabilities_valid_forest_down = model_forest_down.predict_proba(features_valid)\n",
    "        probabilities_one_valid_forest_down = probabilities_valid_forest_down[:, 1]\n",
    "        model_forest_auc_roc_down = roc_auc_score(target_valid, probabilities_one_valid_forest_down)\n",
    "        if model_forest_f1_down > best_f1_forest_down:\n",
    "            best_model_forest_down = model_forest_down\n",
    "            best_result_forest_down = result_forest_down\n",
    "            best_f1_forest_down = model_forest_f1_down\n",
    "            best_auc_forest_down = model_forest_auc_roc_down\n",
    "            best_est_forest_down = est\n",
    "            best_depth_forest_down = depth\n",
    "            print(f\"max_depth = {depth}, {est} : {result_forest_down}, {model_forest_f1_down}, {model_forest_auc_roc_down}\")\n",
    "best_result_forest_down = pd.DataFrame({'score' : [best_result_forest_down],\n",
    "                 'f1_score' : [best_f1_forest_down],\n",
    "                 'auc_roc' : [best_auc_forest_down]})\n",
    "best_result_forest_down"
   ]
  },
  {
   "cell_type": "code",
   "execution_count": 16,
   "metadata": {},
   "outputs": [
    {
     "data": {
      "image/png": "[encoded data removed]",
      "text/plain": [
       "<Figure size 432x288 with 1 Axes>"
      ]
     },
     "metadata": {},
     "output_type": "display_data"
    }
   ],
   "source": [
    "plt.pie(target_downsampled.value_counts(normalize=True), labels=[0,1])\n",
    "plt.show()\n"
   ]
  },
  {
   "cell_type": "markdown",
   "metadata": {},
   "source": [
    "### Логистическая регрессия"
   ]
  },
  {
   "cell_type": "code",
   "execution_count": 17,
   "metadata": {
    "scrolled": true
   },
   "outputs": [
    {
     "name": "stdout",
     "output_type": "stream",
     "text": [
      "0.6645705798248172\n",
      "              precision    recall  f1-score   support\n",
      "\n",
      "           0       0.80      0.99      0.88      1593\n",
      "           1       0.15      0.00      0.01       407\n",
      "\n",
      "    accuracy                           0.79      2000\n",
      "   macro avg       0.48      0.50      0.45      2000\n",
      "weighted avg       0.67      0.79      0.71      2000\n",
      "\n"
     ]
    }
   ],
   "source": [
    "model_db = LogisticRegression(random_state=12345, solver='liblinear')\n",
    "model_db.fit(features_train, target_train)\n",
    "predicted_valid_db = model_db.predict(features_valid)\n",
    "\n",
    "\n",
    "probabilities_valid_regres_db = model_db.predict_proba(features_valid)\n",
    "probabilities_one_valid_model_db = probabilities_valid_regres_db[:, 1]\n",
    "x = roc_auc_score(target_valid, probabilities_one_valid_model_db)\n",
    "\n",
    "\n",
    "print(x)\n",
    "print(classification_report(target_valid, predicted_valid_db))"
   ]
  },
  {
   "cell_type": "markdown",
   "metadata": {},
   "source": [
    "### Логистическая регрессия c `class_weight`"
   ]
  },
  {
   "cell_type": "code",
   "execution_count": 18,
   "metadata": {
    "scrolled": true
   },
   "outputs": [
    {
     "name": "stdout",
     "output_type": "stream",
     "text": [
      "0.7462470174334581\n",
      "              precision    recall  f1-score   support\n",
      "\n",
      "           0       0.90      0.67      0.77      1593\n",
      "           1       0.36      0.72      0.48       407\n",
      "\n",
      "    accuracy                           0.68      2000\n",
      "   macro avg       0.63      0.69      0.62      2000\n",
      "weighted avg       0.79      0.68      0.71      2000\n",
      "\n"
     ]
    }
   ],
   "source": [
    "model_balanced = LogisticRegression(random_state=12345, solver='liblinear', class_weight='balanced')\n",
    "model_balanced.fit(features_train, target_train)\n",
    "predicted_valid_balanced = model_balanced.predict(features_valid)\n",
    "probabilities_valid_regres_balanced = model_balanced.predict_proba(features_valid)\n",
    "probabilities_one_valid_model_balanced = probabilities_valid_regres_balanced[:, 1]\n",
    "y = roc_auc_score(target_valid, probabilities_one_valid_model_balanced)\n",
    "print(y)\n",
    "print(classification_report(target_valid, predicted_valid_balanced))"
   ]
  },
  {
   "cell_type": "code",
   "execution_count": 19,
   "metadata": {
    "scrolled": true
   },
   "outputs": [
    {
     "data": {
      "text/html": [
       "<div>\n",
       "<style scoped>\n",
       "    .dataframe tbody tr th:only-of-type {\n",
       "        vertical-align: middle;\n",
       "    }\n",
       "\n",
       "    .dataframe tbody tr th {\n",
       "        vertical-align: top;\n",
       "    }\n",
       "\n",
       "    .dataframe thead th {\n",
       "        text-align: right;\n",
       "    }\n",
       "</style>\n",
       "<table border=\"1\" class=\"dataframe\">\n",
       "  <thead>\n",
       "    <tr style=\"text-align: right;\">\n",
       "      <th></th>\n",
       "      <th>score</th>\n",
       "      <th>f1_score</th>\n",
       "      <th>auc_roc</th>\n",
       "    </tr>\n",
       "  </thead>\n",
       "  <tbody>\n",
       "    <tr>\n",
       "      <th>Случайные лес, с использованием параметра class_weight</th>\n",
       "      <td>0.8410</td>\n",
       "      <td>0.646667</td>\n",
       "      <td>0.866204</td>\n",
       "    </tr>\n",
       "    <tr>\n",
       "      <th>Случайный лес с увелечением выборки</th>\n",
       "      <td>0.8295</td>\n",
       "      <td>0.630553</td>\n",
       "      <td>0.855338</td>\n",
       "    </tr>\n",
       "    <tr>\n",
       "      <th>Случайный лес с уменьшением выборки</th>\n",
       "      <td>0.7960</td>\n",
       "      <td>0.609943</td>\n",
       "      <td>0.861584</td>\n",
       "    </tr>\n",
       "    <tr>\n",
       "      <th>Решающее дерево, с использованием параметра class_weight</th>\n",
       "      <td>0.7850</td>\n",
       "      <td>0.585742</td>\n",
       "      <td>0.844768</td>\n",
       "    </tr>\n",
       "    <tr>\n",
       "      <th>Cлучайный лес</th>\n",
       "      <td>0.8600</td>\n",
       "      <td>0.583333</td>\n",
       "      <td>0.837448</td>\n",
       "    </tr>\n",
       "    <tr>\n",
       "      <th>Решающее дерево</th>\n",
       "      <td>0.8560</td>\n",
       "      <td>0.578947</td>\n",
       "      <td>0.802308</td>\n",
       "    </tr>\n",
       "  </tbody>\n",
       "</table>\n",
       "</div>"
      ],
      "text/plain": [
       "                                                     score  f1_score   auc_roc\n",
       "Случайные лес, с использованием параметра class...  0.8410  0.646667  0.866204\n",
       "Случайный лес с увелечением выборки                 0.8295  0.630553  0.855338\n",
       "Случайный лес с уменьшением выборки                 0.7960  0.609943  0.861584\n",
       "Решающее дерево, с использованием параметра cla...  0.7850  0.585742  0.844768\n",
       "Cлучайный лес                                       0.8600  0.583333  0.837448\n",
       "Решающее дерево                                     0.8560  0.578947  0.802308"
      ]
     },
     "execution_count": 19,
     "metadata": {},
     "output_type": "execute_result"
    }
   ],
   "source": [
    "df = pd.concat([best_result_forest_db, best_result_forest_balanced,\n",
    "            best_result_tree_db, best_result_tree_balanced, best_result_forest_up,\n",
    "           best_result_forest_down], ignore_index=False, axis=0)\n",
    "df.index = ['Cлучайный лес', 'Случайные лес, с использованием параметра class_weight',\n",
    "            'Решающее дерево', 'Решающее дерево, с использованием параметра class_weight',\n",
    "            'Случайный лес с увелечением выборки',\n",
    "           'Случайный лес с уменьшением выборки']\n",
    "df.sort_values(by='f1_score', ascending = False)"
   ]
  },
  {
   "cell_type": "markdown",
   "metadata": {},
   "source": [
    "## Тестирование моделей"
   ]
  },
  {
   "cell_type": "markdown",
   "metadata": {},
   "source": [
    "`Случайные лес, с использованием параметра class_weight` показал наилучший результат, берем эту модель и проводим тустирование"
   ]
  },
  {
   "cell_type": "markdown",
   "metadata": {},
   "source": [
    "### Случайный лес `class_weight`"
   ]
  },
  {
   "cell_type": "code",
   "execution_count": 21,
   "metadata": {},
   "outputs": [
    {
     "data": {
      "text/html": [
       "<div>\n",
       "<style scoped>\n",
       "    .dataframe tbody tr th:only-of-type {\n",
       "        vertical-align: middle;\n",
       "    }\n",
       "\n",
       "    .dataframe tbody tr th {\n",
       "        vertical-align: top;\n",
       "    }\n",
       "\n",
       "    .dataframe thead th {\n",
       "        text-align: right;\n",
       "    }\n",
       "</style>\n",
       "<table border=\"1\" class=\"dataframe\">\n",
       "  <thead>\n",
       "    <tr style=\"text-align: right;\">\n",
       "      <th></th>\n",
       "      <th>score</th>\n",
       "      <th>f1_score</th>\n",
       "      <th>auc_roc</th>\n",
       "    </tr>\n",
       "  </thead>\n",
       "  <tbody>\n",
       "    <tr>\n",
       "      <th>0</th>\n",
       "      <td>0.93125</td>\n",
       "      <td>0.836795</td>\n",
       "      <td>0.827335</td>\n",
       "    </tr>\n",
       "  </tbody>\n",
       "</table>\n",
       "</div>"
      ],
      "text/plain": [
       "     score  f1_score   auc_roc\n",
       "0  0.93125  0.836795  0.827335"
      ]
     },
     "execution_count": 21,
     "metadata": {},
     "output_type": "execute_result"
    }
   ],
   "source": [
    "test_model_forest_balanced = RandomForestClassifier(random_state=12345, n_estimators=19,\n",
    "                                                       max_depth = 8, class_weight='balanced')\n",
    "test_model_forest_balanced.fit(features_test, target_test)\n",
    "\n",
    "\n",
    "test_pred_model_forest_balanced = test_model_forest_balanced.predict(features_test)\n",
    "\n",
    "test_result_forest_balanced = accuracy_score(target_test, test_pred_model_forest_balanced)\n",
    "\n",
    "test_forest_f1_balanced = f1_score(target_test, test_pred_model_forest_balanced)\n",
    "\n",
    "test_probabilities_valid_forest_balanced = model_forest_balanced.predict_proba(features_test)\n",
    "test_probabilities_one_valid_forest_balanced = test_probabilities_valid_forest_balanced[:, 1]\n",
    "test_model_forest_auc_roc_balanced = roc_auc_score(target_test, test_probabilities_one_valid_forest_balanced)\n",
    "\n",
    "test_best_result_forest_balanced = pd.DataFrame({'score' : [test_result_forest_balanced],\n",
    "                 'f1_score' : [test_forest_f1_balanced],\n",
    "                 'auc_roc' : [test_model_forest_auc_roc_balanced]})\n",
    "test_best_result_forest_balanced"
   ]
  },
  {
   "cell_type": "markdown",
   "metadata": {},
   "source": [
    "На тестировании, лучший результат показала модель `Случайного леса, с использованием class_weight`  0,84."
   ]
  },
  {
   "cell_type": "markdown",
   "metadata": {},
   "source": [
    "# Рекомендуется для данного задания использовать модель случанйого леса с параметром `class_weight`, она выдает лучший результат параметра `f1_score`, для определения метрики `score` лучше всего использовать модель случайного леса"
   ]
  },
  {
   "cell_type": "markdown",
   "metadata": {},
   "source": [
    "## Чек-лист готовности проекта"
   ]
  },
  {
   "cell_type": "markdown",
   "metadata": {},
   "source": [
    "Поставьте 'x' в выполненных пунктах. Далее нажмите Shift+Enter."
   ]
  },
  {
   "cell_type": "markdown",
   "metadata": {},
   "source": [
    "- [x]  Jupyter Notebook открыт\n",
    "- [ ]  Весь код выполняется без ошибок\n",
    "- [ ]  Ячейки с кодом расположены в порядке исполнения\n",
    "- [ ]  Выполнен шаг 1: данные подготовлены\n",
    "- [ ]  Выполнен шаг 2: задача исследована\n",
    "    - [ ]  Исследован баланс классов\n",
    "    - [ ]  Изучены модели без учёта дисбаланса\n",
    "    - [ ]  Написаны выводы по результатам исследования\n",
    "- [ ]  Выполнен шаг 3: учтён дисбаланс\n",
    "    - [ ]  Применено несколько способов борьбы с дисбалансом\n",
    "    - [ ]  Написаны выводы по результатам исследования\n",
    "- [ ]  Выполнен шаг 4: проведено тестирование\n",
    "- [ ]  Удалось достичь *F1*-меры не менее 0.59\n",
    "- [ ]  Исследована метрика *AUC-ROC*"
   ]
  }
 ],
 "metadata": {
  "ExecuteTimeLog": [
   {
    "duration": 49,
    "start_time": "2022-07-15T19:15:52.920Z"
   },
   {
    "duration": 1572,
    "start_time": "2022-07-15T19:15:54.434Z"
   },
   {
    "duration": 78,
    "start_time": "2022-07-15T19:15:56.008Z"
   },
   {
    "duration": 60,
    "start_time": "2022-07-15T19:16:17.452Z"
   },
   {
    "duration": 72,
    "start_time": "2022-07-15T19:21:25.362Z"
   },
   {
    "duration": 5,
    "start_time": "2022-07-15T19:22:20.875Z"
   },
   {
    "duration": 61,
    "start_time": "2022-07-15T19:23:04.344Z"
   },
   {
    "duration": 5,
    "start_time": "2022-07-15T19:23:04.533Z"
   },
   {
    "duration": 5,
    "start_time": "2022-07-15T19:28:50.408Z"
   },
   {
    "duration": 9,
    "start_time": "2022-07-15T19:28:55.207Z"
   },
   {
    "duration": 21,
    "start_time": "2022-07-15T19:29:10.044Z"
   },
   {
    "duration": 36,
    "start_time": "2022-07-15T19:29:16.625Z"
   },
   {
    "duration": 23,
    "start_time": "2022-07-15T19:29:18.682Z"
   },
   {
    "duration": 14,
    "start_time": "2022-07-15T19:29:35.168Z"
   },
   {
    "duration": 18,
    "start_time": "2022-07-15T19:29:38.453Z"
   },
   {
    "duration": 5,
    "start_time": "2022-07-15T19:37:01.300Z"
   },
   {
    "duration": 6,
    "start_time": "2022-07-15T19:37:15.630Z"
   },
   {
    "duration": 5,
    "start_time": "2022-07-15T19:37:22.237Z"
   },
   {
    "duration": 6,
    "start_time": "2022-07-15T19:37:24.880Z"
   },
   {
    "duration": 3,
    "start_time": "2022-07-15T19:38:52.837Z"
   },
   {
    "duration": 4,
    "start_time": "2022-07-15T19:38:55.259Z"
   },
   {
    "duration": 4,
    "start_time": "2022-07-15T19:38:57.156Z"
   },
   {
    "duration": 23,
    "start_time": "2022-07-15T19:41:03.037Z"
   },
   {
    "duration": 19,
    "start_time": "2022-07-15T19:41:10.183Z"
   },
   {
    "duration": 21,
    "start_time": "2022-07-15T19:41:20.851Z"
   },
   {
    "duration": 57,
    "start_time": "2022-07-15T19:56:09.051Z"
   },
   {
    "duration": 78,
    "start_time": "2022-07-15T19:56:11.364Z"
   },
   {
    "duration": 4,
    "start_time": "2022-07-15T19:56:13.645Z"
   },
   {
    "duration": 14,
    "start_time": "2022-07-15T19:56:21.051Z"
   },
   {
    "duration": 17,
    "start_time": "2022-07-15T19:56:23.237Z"
   },
   {
    "duration": 17,
    "start_time": "2022-07-15T19:56:39.063Z"
   },
   {
    "duration": 1826,
    "start_time": "2022-07-15T19:57:48.622Z"
   },
   {
    "duration": 68,
    "start_time": "2022-07-15T19:57:50.450Z"
   },
   {
    "duration": 34,
    "start_time": "2022-07-15T19:57:50.520Z"
   },
   {
    "duration": 5,
    "start_time": "2022-07-15T19:57:50.555Z"
   },
   {
    "duration": 19,
    "start_time": "2022-07-15T19:57:50.562Z"
   },
   {
    "duration": 9,
    "start_time": "2022-07-15T19:58:31.975Z"
   },
   {
    "duration": 5,
    "start_time": "2022-07-15T20:09:51.994Z"
   },
   {
    "duration": 4,
    "start_time": "2022-07-15T20:10:02.858Z"
   },
   {
    "duration": 13,
    "start_time": "2022-07-15T20:11:11.601Z"
   },
   {
    "duration": 6,
    "start_time": "2022-07-15T20:11:31.691Z"
   },
   {
    "duration": 12,
    "start_time": "2022-07-15T20:11:32.561Z"
   },
   {
    "duration": 106,
    "start_time": "2022-07-15T20:12:47.536Z"
   },
   {
    "duration": 14,
    "start_time": "2022-07-15T20:13:06.980Z"
   },
   {
    "duration": 9,
    "start_time": "2022-07-15T20:13:11.989Z"
   },
   {
    "duration": 20,
    "start_time": "2022-07-15T20:13:50.797Z"
   },
   {
    "duration": 8,
    "start_time": "2022-07-15T20:13:53.501Z"
   },
   {
    "duration": 12,
    "start_time": "2022-07-15T20:13:53.674Z"
   },
   {
    "duration": 10,
    "start_time": "2022-07-15T20:13:53.813Z"
   },
   {
    "duration": 1399,
    "start_time": "2022-07-15T20:14:06.569Z"
   },
   {
    "duration": 71,
    "start_time": "2022-07-15T20:14:07.970Z"
   },
   {
    "duration": 24,
    "start_time": "2022-07-15T20:14:08.043Z"
   },
   {
    "duration": 5,
    "start_time": "2022-07-15T20:14:08.070Z"
   },
   {
    "duration": 24,
    "start_time": "2022-07-15T20:14:08.077Z"
   },
   {
    "duration": 9,
    "start_time": "2022-07-15T20:14:08.124Z"
   },
   {
    "duration": 12,
    "start_time": "2022-07-15T20:14:08.135Z"
   },
   {
    "duration": 13,
    "start_time": "2022-07-15T20:14:08.150Z"
   },
   {
    "duration": 20,
    "start_time": "2022-07-15T20:14:32.025Z"
   },
   {
    "duration": 8,
    "start_time": "2022-07-15T20:14:32.847Z"
   },
   {
    "duration": 12,
    "start_time": "2022-07-15T20:14:33.030Z"
   },
   {
    "duration": 9,
    "start_time": "2022-07-15T20:14:33.174Z"
   },
   {
    "duration": 17,
    "start_time": "2022-07-15T20:14:51.510Z"
   },
   {
    "duration": 133,
    "start_time": "2022-07-15T20:15:23.358Z"
   },
   {
    "duration": 22,
    "start_time": "2022-07-15T20:15:34.040Z"
   },
   {
    "duration": 1558,
    "start_time": "2022-07-15T20:15:44.219Z"
   },
   {
    "duration": 71,
    "start_time": "2022-07-15T20:15:45.779Z"
   },
   {
    "duration": 23,
    "start_time": "2022-07-15T20:15:45.853Z"
   },
   {
    "duration": 5,
    "start_time": "2022-07-15T20:15:45.878Z"
   },
   {
    "duration": 183,
    "start_time": "2022-07-15T20:15:45.884Z"
   },
   {
    "duration": 0,
    "start_time": "2022-07-15T20:15:46.069Z"
   },
   {
    "duration": 0,
    "start_time": "2022-07-15T20:15:46.071Z"
   },
   {
    "duration": 0,
    "start_time": "2022-07-15T20:15:46.072Z"
   },
   {
    "duration": 17,
    "start_time": "2022-07-15T20:16:09.293Z"
   },
   {
    "duration": 15,
    "start_time": "2022-07-15T20:16:50.172Z"
   },
   {
    "duration": 22,
    "start_time": "2022-07-15T20:17:00.517Z"
   },
   {
    "duration": 14,
    "start_time": "2022-07-15T20:17:12.840Z"
   },
   {
    "duration": 14,
    "start_time": "2022-07-15T20:17:16.506Z"
   },
   {
    "duration": 15,
    "start_time": "2022-07-15T20:17:19.250Z"
   },
   {
    "duration": 26,
    "start_time": "2022-07-15T20:17:48.265Z"
   },
   {
    "duration": 13,
    "start_time": "2022-07-15T20:17:51.898Z"
   },
   {
    "duration": 8,
    "start_time": "2022-07-15T20:17:52.118Z"
   },
   {
    "duration": 21,
    "start_time": "2022-07-15T20:17:52.622Z"
   },
   {
    "duration": 10,
    "start_time": "2022-07-15T20:17:54.114Z"
   },
   {
    "duration": 8,
    "start_time": "2022-07-15T20:18:29.750Z"
   },
   {
    "duration": 14,
    "start_time": "2022-07-15T20:18:30.878Z"
   },
   {
    "duration": 8,
    "start_time": "2022-07-15T20:18:36.948Z"
   },
   {
    "duration": 22,
    "start_time": "2022-07-15T20:18:37.229Z"
   },
   {
    "duration": 9,
    "start_time": "2022-07-15T20:18:39.222Z"
   },
   {
    "duration": 1504,
    "start_time": "2022-07-15T20:18:43.022Z"
   },
   {
    "duration": 70,
    "start_time": "2022-07-15T20:18:44.530Z"
   },
   {
    "duration": 22,
    "start_time": "2022-07-15T20:18:44.602Z"
   },
   {
    "duration": 9,
    "start_time": "2022-07-15T20:18:44.626Z"
   },
   {
    "duration": 36,
    "start_time": "2022-07-15T20:18:44.639Z"
   },
   {
    "duration": 26,
    "start_time": "2022-07-15T20:18:44.677Z"
   },
   {
    "duration": 33,
    "start_time": "2022-07-15T20:18:44.705Z"
   },
   {
    "duration": 14,
    "start_time": "2022-07-15T20:18:44.741Z"
   },
   {
    "duration": 19,
    "start_time": "2022-07-15T20:19:01.645Z"
   },
   {
    "duration": 7,
    "start_time": "2022-07-15T20:19:03.464Z"
   },
   {
    "duration": 14,
    "start_time": "2022-07-15T20:19:03.619Z"
   },
   {
    "duration": 10,
    "start_time": "2022-07-15T20:19:03.931Z"
   },
   {
    "duration": 4,
    "start_time": "2022-07-15T20:23:05.913Z"
   },
   {
    "duration": 71,
    "start_time": "2022-07-15T20:23:06.067Z"
   },
   {
    "duration": 21,
    "start_time": "2022-07-15T20:23:06.183Z"
   },
   {
    "duration": 4,
    "start_time": "2022-07-15T20:23:06.314Z"
   },
   {
    "duration": 16,
    "start_time": "2022-07-15T20:23:06.483Z"
   },
   {
    "duration": 7,
    "start_time": "2022-07-15T20:23:06.608Z"
   },
   {
    "duration": 16,
    "start_time": "2022-07-15T20:23:06.728Z"
   },
   {
    "duration": 11,
    "start_time": "2022-07-15T20:23:06.830Z"
   },
   {
    "duration": 131,
    "start_time": "2022-07-15T20:24:24.853Z"
   },
   {
    "duration": 56,
    "start_time": "2022-07-15T20:26:17.957Z"
   },
   {
    "duration": 10,
    "start_time": "2022-07-15T20:26:25.049Z"
   },
   {
    "duration": 841,
    "start_time": "2022-07-15T20:26:34.349Z"
   },
   {
    "duration": 16,
    "start_time": "2022-07-15T20:26:50.106Z"
   },
   {
    "duration": 12,
    "start_time": "2022-07-15T20:26:53.401Z"
   },
   {
    "duration": 8,
    "start_time": "2022-07-15T20:26:55.661Z"
   },
   {
    "duration": 19,
    "start_time": "2022-07-15T20:26:56.850Z"
   },
   {
    "duration": 1613,
    "start_time": "2022-07-15T20:27:04.936Z"
   },
   {
    "duration": 79,
    "start_time": "2022-07-15T20:27:06.552Z"
   },
   {
    "duration": 29,
    "start_time": "2022-07-15T20:27:06.635Z"
   },
   {
    "duration": 7,
    "start_time": "2022-07-15T20:27:06.666Z"
   },
   {
    "duration": 51,
    "start_time": "2022-07-15T20:27:06.674Z"
   },
   {
    "duration": 11,
    "start_time": "2022-07-15T20:27:06.728Z"
   },
   {
    "duration": 35,
    "start_time": "2022-07-15T20:27:06.741Z"
   },
   {
    "duration": 18,
    "start_time": "2022-07-15T20:27:06.778Z"
   },
   {
    "duration": 30,
    "start_time": "2022-07-15T20:27:06.798Z"
   },
   {
    "duration": 167,
    "start_time": "2022-07-15T20:27:06.831Z"
   },
   {
    "duration": 70,
    "start_time": "2022-07-15T20:27:14.951Z"
   },
   {
    "duration": 26,
    "start_time": "2022-07-15T20:27:18.596Z"
   },
   {
    "duration": 20,
    "start_time": "2022-07-15T20:27:36.974Z"
   },
   {
    "duration": 20,
    "start_time": "2022-07-15T20:27:37.518Z"
   },
   {
    "duration": 25,
    "start_time": "2022-07-15T20:29:27.761Z"
   },
   {
    "duration": 19,
    "start_time": "2022-07-15T20:29:57.729Z"
   },
   {
    "duration": 8,
    "start_time": "2022-07-15T20:30:06.199Z"
   },
   {
    "duration": 27,
    "start_time": "2022-07-15T20:30:06.363Z"
   },
   {
    "duration": 15,
    "start_time": "2022-07-15T20:30:06.499Z"
   },
   {
    "duration": 10,
    "start_time": "2022-07-15T20:30:06.625Z"
   },
   {
    "duration": 21,
    "start_time": "2022-07-15T20:30:06.813Z"
   },
   {
    "duration": 9,
    "start_time": "2022-07-15T20:30:47.550Z"
   },
   {
    "duration": 11,
    "start_time": "2022-07-15T20:30:48.465Z"
   },
   {
    "duration": 9,
    "start_time": "2022-07-15T20:30:49.628Z"
   },
   {
    "duration": 7,
    "start_time": "2022-07-15T20:30:58.498Z"
   },
   {
    "duration": 11,
    "start_time": "2022-07-15T20:30:58.774Z"
   },
   {
    "duration": 15,
    "start_time": "2022-07-15T20:31:03.076Z"
   },
   {
    "duration": 6,
    "start_time": "2022-07-15T20:31:03.395Z"
   },
   {
    "duration": 14,
    "start_time": "2022-07-15T20:31:03.710Z"
   },
   {
    "duration": 11,
    "start_time": "2022-07-15T20:31:04.093Z"
   },
   {
    "duration": 1405,
    "start_time": "2022-07-15T20:31:15.733Z"
   },
   {
    "duration": 64,
    "start_time": "2022-07-15T20:31:17.139Z"
   },
   {
    "duration": 19,
    "start_time": "2022-07-15T20:31:17.205Z"
   },
   {
    "duration": 7,
    "start_time": "2022-07-15T20:31:17.227Z"
   },
   {
    "duration": 30,
    "start_time": "2022-07-15T20:31:17.237Z"
   },
   {
    "duration": 7,
    "start_time": "2022-07-15T20:31:17.268Z"
   },
   {
    "duration": 14,
    "start_time": "2022-07-15T20:31:17.276Z"
   },
   {
    "duration": 11,
    "start_time": "2022-07-15T20:31:17.292Z"
   },
   {
    "duration": 28,
    "start_time": "2022-07-15T20:31:17.305Z"
   },
   {
    "duration": 138,
    "start_time": "2022-07-15T20:31:17.336Z"
   },
   {
    "duration": 9,
    "start_time": "2022-07-15T20:31:41.232Z"
   },
   {
    "duration": 8,
    "start_time": "2022-07-15T20:31:41.585Z"
   },
   {
    "duration": 12,
    "start_time": "2022-07-15T20:31:42.263Z"
   },
   {
    "duration": 7,
    "start_time": "2022-07-15T20:31:43.369Z"
   },
   {
    "duration": 80,
    "start_time": "2022-07-15T20:31:43.744Z"
   },
   {
    "duration": 22,
    "start_time": "2022-07-15T20:34:22.940Z"
   },
   {
    "duration": 12,
    "start_time": "2022-07-15T20:34:26.785Z"
   },
   {
    "duration": 63,
    "start_time": "2022-07-15T20:35:59.559Z"
   },
   {
    "duration": 12,
    "start_time": "2022-07-15T20:36:02.958Z"
   },
   {
    "duration": 8,
    "start_time": "2022-07-15T20:37:26.715Z"
   },
   {
    "duration": 13,
    "start_time": "2022-07-15T20:39:20.046Z"
   },
   {
    "duration": 11,
    "start_time": "2022-07-15T20:42:26.488Z"
   },
   {
    "duration": 10,
    "start_time": "2022-07-15T20:42:29.593Z"
   },
   {
    "duration": 19,
    "start_time": "2022-07-15T20:42:34.340Z"
   },
   {
    "duration": 18,
    "start_time": "2022-07-15T20:43:12.533Z"
   },
   {
    "duration": 19,
    "start_time": "2022-07-15T20:43:45.317Z"
   },
   {
    "duration": 1306,
    "start_time": "2022-07-15T20:43:50.866Z"
   },
   {
    "duration": 73,
    "start_time": "2022-07-15T20:43:52.174Z"
   },
   {
    "duration": 19,
    "start_time": "2022-07-15T20:43:52.249Z"
   },
   {
    "duration": 4,
    "start_time": "2022-07-15T20:43:52.270Z"
   },
   {
    "duration": 142,
    "start_time": "2022-07-15T20:43:52.277Z"
   },
   {
    "duration": 0,
    "start_time": "2022-07-15T20:43:52.421Z"
   },
   {
    "duration": 0,
    "start_time": "2022-07-15T20:43:52.423Z"
   },
   {
    "duration": 0,
    "start_time": "2022-07-15T20:43:52.425Z"
   },
   {
    "duration": 0,
    "start_time": "2022-07-15T20:43:52.427Z"
   },
   {
    "duration": 0,
    "start_time": "2022-07-15T20:43:52.429Z"
   },
   {
    "duration": 0,
    "start_time": "2022-07-15T20:43:52.431Z"
   },
   {
    "duration": 15,
    "start_time": "2022-07-15T20:44:16.771Z"
   },
   {
    "duration": 15,
    "start_time": "2022-07-15T20:44:29.537Z"
   },
   {
    "duration": 15,
    "start_time": "2022-07-15T20:44:36.558Z"
   },
   {
    "duration": 16,
    "start_time": "2022-07-15T20:44:56.063Z"
   },
   {
    "duration": 17,
    "start_time": "2022-07-15T20:45:00.620Z"
   },
   {
    "duration": 25,
    "start_time": "2022-07-15T20:45:09.019Z"
   },
   {
    "duration": 16,
    "start_time": "2022-07-15T20:45:13.552Z"
   },
   {
    "duration": 10,
    "start_time": "2022-07-15T20:45:13.701Z"
   },
   {
    "duration": 19,
    "start_time": "2022-07-15T20:45:13.984Z"
   },
   {
    "duration": 11,
    "start_time": "2022-07-15T20:45:14.101Z"
   },
   {
    "duration": 212,
    "start_time": "2022-07-15T20:45:14.215Z"
   },
   {
    "duration": 17,
    "start_time": "2022-07-15T20:45:14.430Z"
   },
   {
    "duration": 19,
    "start_time": "2022-07-15T20:45:24.399Z"
   },
   {
    "duration": 21,
    "start_time": "2022-07-15T20:48:10.149Z"
   },
   {
    "duration": 140,
    "start_time": "2022-07-15T20:48:13.182Z"
   },
   {
    "duration": 4,
    "start_time": "2022-07-15T20:52:14.899Z"
   },
   {
    "duration": 58,
    "start_time": "2022-07-15T20:52:15.058Z"
   },
   {
    "duration": 17,
    "start_time": "2022-07-15T20:52:15.210Z"
   },
   {
    "duration": 5,
    "start_time": "2022-07-15T20:52:15.338Z"
   },
   {
    "duration": 16,
    "start_time": "2022-07-15T20:52:15.440Z"
   },
   {
    "duration": 10,
    "start_time": "2022-07-15T20:52:15.576Z"
   },
   {
    "duration": 7,
    "start_time": "2022-07-15T20:52:15.690Z"
   },
   {
    "duration": 12,
    "start_time": "2022-07-15T20:52:15.922Z"
   },
   {
    "duration": 10,
    "start_time": "2022-07-15T20:52:16.041Z"
   },
   {
    "duration": 9,
    "start_time": "2022-07-15T20:52:16.174Z"
   },
   {
    "duration": 15,
    "start_time": "2022-07-15T20:52:16.324Z"
   },
   {
    "duration": 14,
    "start_time": "2022-07-15T20:58:03.987Z"
   },
   {
    "duration": 15,
    "start_time": "2022-07-15T20:58:19.648Z"
   },
   {
    "duration": 11,
    "start_time": "2022-07-15T20:58:28.168Z"
   },
   {
    "duration": 23,
    "start_time": "2022-07-15T20:59:02.271Z"
   },
   {
    "duration": 36,
    "start_time": "2022-07-15T20:59:54.238Z"
   },
   {
    "duration": 26,
    "start_time": "2022-07-15T21:00:30.847Z"
   },
   {
    "duration": 24,
    "start_time": "2022-07-15T21:01:05.807Z"
   },
   {
    "duration": 24,
    "start_time": "2022-07-15T21:01:08.194Z"
   },
   {
    "duration": 35,
    "start_time": "2022-07-15T21:01:21.234Z"
   },
   {
    "duration": 33,
    "start_time": "2022-07-15T21:01:44.863Z"
   },
   {
    "duration": 12,
    "start_time": "2022-07-15T21:01:45.003Z"
   },
   {
    "duration": 8,
    "start_time": "2022-07-15T21:01:45.121Z"
   },
   {
    "duration": 18,
    "start_time": "2022-07-15T21:01:45.236Z"
   },
   {
    "duration": 15,
    "start_time": "2022-07-15T21:01:45.427Z"
   },
   {
    "duration": 15,
    "start_time": "2022-07-15T21:01:53.584Z"
   },
   {
    "duration": 1482,
    "start_time": "2022-07-15T21:02:00.803Z"
   },
   {
    "duration": 67,
    "start_time": "2022-07-15T21:02:02.288Z"
   },
   {
    "duration": 20,
    "start_time": "2022-07-15T21:02:02.356Z"
   },
   {
    "duration": 5,
    "start_time": "2022-07-15T21:02:02.378Z"
   },
   {
    "duration": 45,
    "start_time": "2022-07-15T21:02:02.385Z"
   },
   {
    "duration": 13,
    "start_time": "2022-07-15T21:02:02.431Z"
   },
   {
    "duration": 9,
    "start_time": "2022-07-15T21:02:02.446Z"
   },
   {
    "duration": 136,
    "start_time": "2022-07-15T21:02:02.456Z"
   },
   {
    "duration": 0,
    "start_time": "2022-07-15T21:02:02.594Z"
   },
   {
    "duration": 0,
    "start_time": "2022-07-15T21:02:02.595Z"
   },
   {
    "duration": 0,
    "start_time": "2022-07-15T21:02:02.597Z"
   },
   {
    "duration": 15,
    "start_time": "2022-07-15T21:03:12.285Z"
   },
   {
    "duration": 1526,
    "start_time": "2022-07-20T15:27:50.908Z"
   },
   {
    "duration": 112,
    "start_time": "2022-07-20T15:27:52.436Z"
   },
   {
    "duration": 19,
    "start_time": "2022-07-20T15:27:52.550Z"
   },
   {
    "duration": 6,
    "start_time": "2022-07-20T15:27:52.571Z"
   },
   {
    "duration": 20,
    "start_time": "2022-07-20T15:27:52.578Z"
   },
   {
    "duration": 11,
    "start_time": "2022-07-20T15:27:52.600Z"
   },
   {
    "duration": 7,
    "start_time": "2022-07-20T15:27:52.612Z"
   },
   {
    "duration": 173,
    "start_time": "2022-07-20T15:27:52.620Z"
   },
   {
    "duration": 0,
    "start_time": "2022-07-20T15:27:52.795Z"
   },
   {
    "duration": 0,
    "start_time": "2022-07-20T15:27:52.797Z"
   },
   {
    "duration": 0,
    "start_time": "2022-07-20T15:27:52.799Z"
   },
   {
    "duration": 69,
    "start_time": "2022-07-20T15:50:11.276Z"
   },
   {
    "duration": 8,
    "start_time": "2022-07-20T15:58:29.476Z"
   },
   {
    "duration": 8,
    "start_time": "2022-07-20T15:58:29.749Z"
   },
   {
    "duration": 11,
    "start_time": "2022-07-20T15:58:30.002Z"
   },
   {
    "duration": 24,
    "start_time": "2022-07-20T16:00:17.322Z"
   },
   {
    "duration": 1454,
    "start_time": "2022-07-20T16:00:32.051Z"
   },
   {
    "duration": 73,
    "start_time": "2022-07-20T16:00:33.508Z"
   },
   {
    "duration": 21,
    "start_time": "2022-07-20T16:00:33.583Z"
   },
   {
    "duration": 21,
    "start_time": "2022-07-20T16:00:33.605Z"
   },
   {
    "duration": 42,
    "start_time": "2022-07-20T16:00:33.629Z"
   },
   {
    "duration": 35,
    "start_time": "2022-07-20T16:00:33.672Z"
   },
   {
    "duration": 7,
    "start_time": "2022-07-20T16:00:33.709Z"
   },
   {
    "duration": 22,
    "start_time": "2022-07-20T16:00:33.718Z"
   },
   {
    "duration": 35,
    "start_time": "2022-07-20T16:00:33.742Z"
   },
   {
    "duration": 23,
    "start_time": "2022-07-20T16:00:33.779Z"
   },
   {
    "duration": 32,
    "start_time": "2022-07-20T16:00:33.804Z"
   },
   {
    "duration": 16,
    "start_time": "2022-07-20T16:13:34.092Z"
   },
   {
    "duration": 1411,
    "start_time": "2022-07-20T16:14:44.020Z"
   },
   {
    "duration": 93,
    "start_time": "2022-07-20T16:14:45.433Z"
   },
   {
    "duration": 21,
    "start_time": "2022-07-20T16:14:45.528Z"
   },
   {
    "duration": 4,
    "start_time": "2022-07-20T16:14:45.552Z"
   },
   {
    "duration": 45,
    "start_time": "2022-07-20T16:14:45.558Z"
   },
   {
    "duration": 19,
    "start_time": "2022-07-20T16:14:45.605Z"
   },
   {
    "duration": 8,
    "start_time": "2022-07-20T16:14:45.626Z"
   },
   {
    "duration": 126,
    "start_time": "2022-07-20T16:14:45.636Z"
   },
   {
    "duration": 0,
    "start_time": "2022-07-20T16:14:45.768Z"
   },
   {
    "duration": 0,
    "start_time": "2022-07-20T16:14:45.771Z"
   },
   {
    "duration": 0,
    "start_time": "2022-07-20T16:14:45.773Z"
   },
   {
    "duration": 0,
    "start_time": "2022-07-20T16:14:45.774Z"
   },
   {
    "duration": 4,
    "start_time": "2022-07-20T16:19:15.115Z"
   },
   {
    "duration": 78,
    "start_time": "2022-07-20T16:19:15.759Z"
   },
   {
    "duration": 17,
    "start_time": "2022-07-20T16:19:15.918Z"
   },
   {
    "duration": 6,
    "start_time": "2022-07-20T16:19:16.055Z"
   },
   {
    "duration": 23,
    "start_time": "2022-07-20T16:19:16.354Z"
   },
   {
    "duration": 24,
    "start_time": "2022-07-20T16:19:16.648Z"
   },
   {
    "duration": 7,
    "start_time": "2022-07-20T16:19:17.052Z"
   },
   {
    "duration": 31,
    "start_time": "2022-07-20T16:20:23.456Z"
   },
   {
    "duration": 42,
    "start_time": "2022-07-20T16:20:31.268Z"
   },
   {
    "duration": 1546,
    "start_time": "2022-07-20T16:20:40.710Z"
   },
   {
    "duration": 86,
    "start_time": "2022-07-20T16:20:42.259Z"
   },
   {
    "duration": 26,
    "start_time": "2022-07-20T16:20:42.347Z"
   },
   {
    "duration": 9,
    "start_time": "2022-07-20T16:20:42.375Z"
   },
   {
    "duration": 27,
    "start_time": "2022-07-20T16:20:42.386Z"
   },
   {
    "duration": 63,
    "start_time": "2022-07-20T16:20:42.415Z"
   },
   {
    "duration": 13,
    "start_time": "2022-07-20T16:20:42.480Z"
   },
   {
    "duration": 153,
    "start_time": "2022-07-20T16:20:42.495Z"
   },
   {
    "duration": 0,
    "start_time": "2022-07-20T16:20:42.649Z"
   },
   {
    "duration": 0,
    "start_time": "2022-07-20T16:20:42.650Z"
   },
   {
    "duration": 0,
    "start_time": "2022-07-20T16:20:42.651Z"
   },
   {
    "duration": 0,
    "start_time": "2022-07-20T16:20:42.661Z"
   },
   {
    "duration": 58,
    "start_time": "2022-07-20T16:21:21.564Z"
   },
   {
    "duration": 50,
    "start_time": "2022-07-20T16:22:32.658Z"
   },
   {
    "duration": 38,
    "start_time": "2022-07-20T16:22:35.094Z"
   },
   {
    "duration": 55,
    "start_time": "2022-07-20T16:22:52.953Z"
   },
   {
    "duration": 60,
    "start_time": "2022-07-20T16:23:55.285Z"
   },
   {
    "duration": 13,
    "start_time": "2022-07-20T16:24:07.195Z"
   },
   {
    "duration": 18,
    "start_time": "2022-07-20T16:24:11.287Z"
   },
   {
    "duration": 1769,
    "start_time": "2022-07-20T16:24:15.804Z"
   },
   {
    "duration": 92,
    "start_time": "2022-07-20T16:24:17.576Z"
   },
   {
    "duration": 43,
    "start_time": "2022-07-20T16:24:17.670Z"
   },
   {
    "duration": 6,
    "start_time": "2022-07-20T16:24:17.716Z"
   },
   {
    "duration": 97,
    "start_time": "2022-07-20T16:24:17.724Z"
   },
   {
    "duration": 68,
    "start_time": "2022-07-20T16:24:17.823Z"
   },
   {
    "duration": 7,
    "start_time": "2022-07-20T16:24:17.900Z"
   },
   {
    "duration": 161,
    "start_time": "2022-07-20T16:24:17.909Z"
   },
   {
    "duration": 0,
    "start_time": "2022-07-20T16:24:18.072Z"
   },
   {
    "duration": 0,
    "start_time": "2022-07-20T16:24:18.073Z"
   },
   {
    "duration": 0,
    "start_time": "2022-07-20T16:24:18.073Z"
   },
   {
    "duration": 0,
    "start_time": "2022-07-20T16:24:18.074Z"
   },
   {
    "duration": 757,
    "start_time": "2022-07-20T16:25:00.252Z"
   },
   {
    "duration": 750,
    "start_time": "2022-07-20T16:25:11.052Z"
   },
   {
    "duration": 1697,
    "start_time": "2022-07-20T16:25:20.952Z"
   },
   {
    "duration": 20,
    "start_time": "2022-07-20T16:25:30.655Z"
   },
   {
    "duration": 7,
    "start_time": "2022-07-20T16:28:22.199Z"
   },
   {
    "duration": 10,
    "start_time": "2022-07-20T16:28:55.256Z"
   },
   {
    "duration": 10,
    "start_time": "2022-07-20T16:30:08.706Z"
   },
   {
    "duration": 9,
    "start_time": "2022-07-20T16:31:18.101Z"
   },
   {
    "duration": 13,
    "start_time": "2022-07-20T16:31:23.712Z"
   },
   {
    "duration": 17,
    "start_time": "2022-07-20T16:32:03.387Z"
   },
   {
    "duration": 27,
    "start_time": "2022-07-20T16:32:16.689Z"
   },
   {
    "duration": 35,
    "start_time": "2022-07-20T16:33:56.851Z"
   },
   {
    "duration": 15,
    "start_time": "2022-07-20T16:34:14.397Z"
   },
   {
    "duration": 17,
    "start_time": "2022-07-20T16:34:19.698Z"
   },
   {
    "duration": 19,
    "start_time": "2022-07-20T16:35:10.747Z"
   },
   {
    "duration": 1584,
    "start_time": "2022-07-20T16:35:16.854Z"
   },
   {
    "duration": 96,
    "start_time": "2022-07-20T16:35:18.441Z"
   },
   {
    "duration": 17,
    "start_time": "2022-07-20T16:35:18.539Z"
   },
   {
    "duration": 6,
    "start_time": "2022-07-20T16:35:18.558Z"
   },
   {
    "duration": 55,
    "start_time": "2022-07-20T16:35:18.567Z"
   },
   {
    "duration": 28,
    "start_time": "2022-07-20T16:35:18.624Z"
   },
   {
    "duration": 9,
    "start_time": "2022-07-20T16:35:18.654Z"
   },
   {
    "duration": 171,
    "start_time": "2022-07-20T16:35:18.665Z"
   },
   {
    "duration": 0,
    "start_time": "2022-07-20T16:35:18.839Z"
   },
   {
    "duration": 0,
    "start_time": "2022-07-20T16:35:18.840Z"
   },
   {
    "duration": 0,
    "start_time": "2022-07-20T16:35:18.842Z"
   },
   {
    "duration": 0,
    "start_time": "2022-07-20T16:35:18.844Z"
   },
   {
    "duration": 21,
    "start_time": "2022-07-20T16:36:54.152Z"
   },
   {
    "duration": 15,
    "start_time": "2022-07-20T16:37:04.383Z"
   },
   {
    "duration": 12,
    "start_time": "2022-07-20T16:37:18.056Z"
   },
   {
    "duration": 15,
    "start_time": "2022-07-20T16:37:52.788Z"
   },
   {
    "duration": 18,
    "start_time": "2022-07-20T16:38:04.053Z"
   },
   {
    "duration": 22,
    "start_time": "2022-07-20T16:38:07.515Z"
   },
   {
    "duration": 1802,
    "start_time": "2022-07-20T16:38:15.587Z"
   },
   {
    "duration": 90,
    "start_time": "2022-07-20T16:38:17.396Z"
   },
   {
    "duration": 28,
    "start_time": "2022-07-20T16:38:17.493Z"
   },
   {
    "duration": 6,
    "start_time": "2022-07-20T16:38:17.522Z"
   },
   {
    "duration": 23,
    "start_time": "2022-07-20T16:38:17.530Z"
   },
   {
    "duration": 54,
    "start_time": "2022-07-20T16:38:17.555Z"
   },
   {
    "duration": 13,
    "start_time": "2022-07-20T16:38:17.611Z"
   },
   {
    "duration": 146,
    "start_time": "2022-07-20T16:38:17.626Z"
   },
   {
    "duration": 0,
    "start_time": "2022-07-20T16:38:17.774Z"
   },
   {
    "duration": 0,
    "start_time": "2022-07-20T16:38:17.775Z"
   },
   {
    "duration": 0,
    "start_time": "2022-07-20T16:38:17.776Z"
   },
   {
    "duration": 0,
    "start_time": "2022-07-20T16:38:17.777Z"
   },
   {
    "duration": 24,
    "start_time": "2022-07-20T16:38:31.320Z"
   },
   {
    "duration": 1693,
    "start_time": "2022-07-20T16:38:37.309Z"
   },
   {
    "duration": 119,
    "start_time": "2022-07-20T16:38:39.009Z"
   },
   {
    "duration": 29,
    "start_time": "2022-07-20T16:38:39.130Z"
   },
   {
    "duration": 7,
    "start_time": "2022-07-20T16:38:39.167Z"
   },
   {
    "duration": 45,
    "start_time": "2022-07-20T16:38:39.176Z"
   },
   {
    "duration": 27,
    "start_time": "2022-07-20T16:38:39.223Z"
   },
   {
    "duration": 39,
    "start_time": "2022-07-20T16:38:39.252Z"
   },
   {
    "duration": 133,
    "start_time": "2022-07-20T16:38:39.293Z"
   },
   {
    "duration": 0,
    "start_time": "2022-07-20T16:38:39.429Z"
   },
   {
    "duration": 0,
    "start_time": "2022-07-20T16:38:39.430Z"
   },
   {
    "duration": 0,
    "start_time": "2022-07-20T16:38:39.432Z"
   },
   {
    "duration": 0,
    "start_time": "2022-07-20T16:38:39.433Z"
   },
   {
    "duration": 57,
    "start_time": "2022-07-20T16:44:56.915Z"
   },
   {
    "duration": 14,
    "start_time": "2022-07-20T16:46:49.802Z"
   },
   {
    "duration": 1241,
    "start_time": "2022-07-20T16:46:56.199Z"
   },
   {
    "duration": 1523,
    "start_time": "2022-08-09T20:16:22.379Z"
   },
   {
    "duration": 106,
    "start_time": "2022-08-09T20:16:23.904Z"
   },
   {
    "duration": 23,
    "start_time": "2022-08-09T20:16:24.012Z"
   },
   {
    "duration": 9,
    "start_time": "2022-08-09T20:16:24.038Z"
   },
   {
    "duration": 41,
    "start_time": "2022-08-09T20:16:24.048Z"
   },
   {
    "duration": 21,
    "start_time": "2022-08-09T20:16:24.091Z"
   },
   {
    "duration": 937,
    "start_time": "2022-08-09T20:16:24.114Z"
   },
   {
    "duration": 49,
    "start_time": "2022-08-09T20:16:25.053Z"
   },
   {
    "duration": 0,
    "start_time": "2022-08-09T20:16:25.105Z"
   },
   {
    "duration": 0,
    "start_time": "2022-08-09T20:16:25.106Z"
   },
   {
    "duration": 0,
    "start_time": "2022-08-09T20:16:25.107Z"
   },
   {
    "duration": 0,
    "start_time": "2022-08-09T20:16:25.108Z"
   },
   {
    "duration": 0,
    "start_time": "2022-08-09T20:16:25.109Z"
   },
   {
    "duration": 49,
    "start_time": "2022-11-13T13:10:37.159Z"
   },
   {
    "duration": 1551,
    "start_time": "2022-11-13T13:10:51.156Z"
   },
   {
    "duration": 102,
    "start_time": "2022-11-13T13:10:52.709Z"
   },
   {
    "duration": 18,
    "start_time": "2022-11-13T13:10:52.812Z"
   },
   {
    "duration": 5,
    "start_time": "2022-11-13T13:10:52.832Z"
   },
   {
    "duration": 15,
    "start_time": "2022-11-13T13:10:52.838Z"
   },
   {
    "duration": 2,
    "start_time": "2022-11-13T13:10:52.855Z"
   },
   {
    "duration": 4,
    "start_time": "2022-11-13T13:10:52.859Z"
   },
   {
    "duration": 96,
    "start_time": "2022-11-13T13:11:05.134Z"
   },
   {
    "duration": 14,
    "start_time": "2022-11-13T13:11:16.643Z"
   },
   {
    "duration": 1468,
    "start_time": "2022-11-13T13:11:23.793Z"
   },
   {
    "duration": 63,
    "start_time": "2022-11-13T13:11:25.263Z"
   },
   {
    "duration": 18,
    "start_time": "2022-11-13T13:11:25.328Z"
   },
   {
    "duration": 4,
    "start_time": "2022-11-13T13:11:25.349Z"
   },
   {
    "duration": 21,
    "start_time": "2022-11-13T13:11:25.354Z"
   },
   {
    "duration": 3,
    "start_time": "2022-11-13T13:11:25.376Z"
   },
   {
    "duration": 11,
    "start_time": "2022-11-13T13:11:25.381Z"
   },
   {
    "duration": 8,
    "start_time": "2022-11-13T13:11:25.394Z"
   },
   {
    "duration": 118,
    "start_time": "2022-11-13T13:11:39.635Z"
   },
   {
    "duration": 18,
    "start_time": "2022-11-13T13:11:41.940Z"
   },
   {
    "duration": 1147,
    "start_time": "2022-11-13T13:11:43.252Z"
   },
   {
    "duration": 0,
    "start_time": "2022-11-13T13:11:44.401Z"
   },
   {
    "duration": 12,
    "start_time": "2022-11-13T13:11:55.240Z"
   },
   {
    "duration": 1118,
    "start_time": "2022-11-13T13:11:55.628Z"
   },
   {
    "duration": 0,
    "start_time": "2022-11-13T13:11:56.748Z"
   },
   {
    "duration": 1481,
    "start_time": "2022-11-13T13:12:04.514Z"
   },
   {
    "duration": 64,
    "start_time": "2022-11-13T13:12:05.997Z"
   },
   {
    "duration": 18,
    "start_time": "2022-11-13T13:12:06.063Z"
   },
   {
    "duration": 5,
    "start_time": "2022-11-13T13:12:06.083Z"
   },
   {
    "duration": 37,
    "start_time": "2022-11-13T13:12:06.090Z"
   },
   {
    "duration": 3,
    "start_time": "2022-11-13T13:12:06.129Z"
   },
   {
    "duration": 19,
    "start_time": "2022-11-13T13:12:06.133Z"
   },
   {
    "duration": 4,
    "start_time": "2022-11-13T13:12:06.154Z"
   },
   {
    "duration": 4,
    "start_time": "2022-11-13T13:16:59.342Z"
   },
   {
    "duration": 58,
    "start_time": "2022-11-13T13:16:59.750Z"
   },
   {
    "duration": 6,
    "start_time": "2022-11-13T13:17:59.613Z"
   },
   {
    "duration": 118,
    "start_time": "2022-11-13T13:21:03.609Z"
   },
   {
    "duration": 1438,
    "start_time": "2022-11-13T13:21:29.787Z"
   },
   {
    "duration": 65,
    "start_time": "2022-11-13T13:21:31.227Z"
   },
   {
    "duration": 9,
    "start_time": "2022-11-13T13:21:31.293Z"
   },
   {
    "duration": 119,
    "start_time": "2022-11-13T13:21:37.434Z"
   },
   {
    "duration": 14,
    "start_time": "2022-11-13T13:21:48.839Z"
   },
   {
    "duration": 1400,
    "start_time": "2022-11-13T13:22:08.005Z"
   },
   {
    "duration": 63,
    "start_time": "2022-11-13T13:22:09.407Z"
   },
   {
    "duration": 18,
    "start_time": "2022-11-13T13:22:09.471Z"
   },
   {
    "duration": 8,
    "start_time": "2022-11-13T13:22:50.053Z"
   },
   {
    "duration": 10,
    "start_time": "2022-11-13T13:27:55.637Z"
   },
   {
    "duration": 17,
    "start_time": "2022-11-13T13:28:00.582Z"
   },
   {
    "duration": 17,
    "start_time": "2022-11-13T13:28:03.460Z"
   },
   {
    "duration": 7,
    "start_time": "2022-11-13T13:35:56.868Z"
   },
   {
    "duration": 8,
    "start_time": "2022-11-13T13:39:49.123Z"
   },
   {
    "duration": 112,
    "start_time": "2022-11-13T13:39:49.481Z"
   },
   {
    "duration": 13,
    "start_time": "2022-11-13T13:40:09.795Z"
   },
   {
    "duration": 7,
    "start_time": "2022-11-13T13:40:14.580Z"
   },
   {
    "duration": 13,
    "start_time": "2022-11-13T13:40:14.806Z"
   },
   {
    "duration": 7,
    "start_time": "2022-11-13T13:40:24.418Z"
   },
   {
    "duration": 2063,
    "start_time": "2022-11-13T13:54:24.099Z"
   },
   {
    "duration": 1334,
    "start_time": "2022-11-13T14:03:37.666Z"
   },
   {
    "duration": 73,
    "start_time": "2022-11-13T14:03:39.002Z"
   },
   {
    "duration": 19,
    "start_time": "2022-11-13T14:03:39.076Z"
   },
   {
    "duration": 7,
    "start_time": "2022-11-13T14:03:39.096Z"
   },
   {
    "duration": 34,
    "start_time": "2022-11-13T14:03:39.106Z"
   },
   {
    "duration": 7,
    "start_time": "2022-11-13T14:03:39.142Z"
   },
   {
    "duration": 9,
    "start_time": "2022-11-13T14:03:39.151Z"
   },
   {
    "duration": 40214,
    "start_time": "2022-11-13T14:03:39.162Z"
   },
   {
    "duration": 582,
    "start_time": "2022-11-13T14:20:36.862Z"
   },
   {
    "duration": 7,
    "start_time": "2022-11-13T15:39:40.661Z"
   },
   {
    "duration": 112,
    "start_time": "2022-11-13T15:54:16.326Z"
   },
   {
    "duration": 3,
    "start_time": "2022-11-13T15:54:16.569Z"
   },
   {
    "duration": 5,
    "start_time": "2022-11-13T15:54:34.021Z"
   },
   {
    "duration": 3,
    "start_time": "2022-11-13T15:54:34.754Z"
   },
   {
    "duration": 13,
    "start_time": "2022-11-13T16:01:45.807Z"
   },
   {
    "duration": 1338,
    "start_time": "2022-11-13T16:02:09.176Z"
   },
   {
    "duration": 64,
    "start_time": "2022-11-13T16:02:10.516Z"
   },
   {
    "duration": 16,
    "start_time": "2022-11-13T16:02:10.581Z"
   },
   {
    "duration": 7,
    "start_time": "2022-11-13T16:02:10.599Z"
   },
   {
    "duration": 26,
    "start_time": "2022-11-13T16:02:10.609Z"
   },
   {
    "duration": 112,
    "start_time": "2022-11-13T16:02:10.637Z"
   },
   {
    "duration": 0,
    "start_time": "2022-11-13T16:02:10.751Z"
   },
   {
    "duration": 0,
    "start_time": "2022-11-13T16:02:10.753Z"
   },
   {
    "duration": 0,
    "start_time": "2022-11-13T16:02:10.755Z"
   },
   {
    "duration": 5,
    "start_time": "2022-11-13T16:03:38.405Z"
   },
   {
    "duration": 58,
    "start_time": "2022-11-13T16:03:38.628Z"
   },
   {
    "duration": 16,
    "start_time": "2022-11-13T16:03:39.844Z"
   },
   {
    "duration": 7,
    "start_time": "2022-11-13T16:03:40.274Z"
   },
   {
    "duration": 21,
    "start_time": "2022-11-13T16:03:41.033Z"
   },
   {
    "duration": 3,
    "start_time": "2022-11-13T16:04:30.608Z"
   },
   {
    "duration": 10,
    "start_time": "2022-11-13T16:04:30.988Z"
   },
   {
    "duration": 9,
    "start_time": "2022-11-13T16:04:31.396Z"
   },
   {
    "duration": 5,
    "start_time": "2022-11-13T16:05:16.443Z"
   },
   {
    "duration": 6,
    "start_time": "2022-11-13T16:05:16.889Z"
   },
   {
    "duration": 9,
    "start_time": "2022-11-13T16:05:17.432Z"
   },
   {
    "duration": 5,
    "start_time": "2022-11-13T16:06:11.408Z"
   },
   {
    "duration": 8,
    "start_time": "2022-11-13T16:06:11.577Z"
   },
   {
    "duration": 9,
    "start_time": "2022-11-13T16:06:11.700Z"
   },
   {
    "duration": 5,
    "start_time": "2022-11-13T16:06:27.009Z"
   },
   {
    "duration": 10,
    "start_time": "2022-11-13T16:06:27.408Z"
   },
   {
    "duration": 1454,
    "start_time": "2022-11-13T16:06:31.921Z"
   },
   {
    "duration": 62,
    "start_time": "2022-11-13T16:06:33.377Z"
   },
   {
    "duration": 17,
    "start_time": "2022-11-13T16:06:33.441Z"
   },
   {
    "duration": 6,
    "start_time": "2022-11-13T16:06:33.460Z"
   },
   {
    "duration": 20,
    "start_time": "2022-11-13T16:06:33.468Z"
   },
   {
    "duration": 128,
    "start_time": "2022-11-13T16:06:33.489Z"
   },
   {
    "duration": 0,
    "start_time": "2022-11-13T16:06:33.622Z"
   },
   {
    "duration": 0,
    "start_time": "2022-11-13T16:06:33.623Z"
   },
   {
    "duration": 0,
    "start_time": "2022-11-13T16:06:33.625Z"
   },
   {
    "duration": 11,
    "start_time": "2022-11-13T16:06:59.118Z"
   },
   {
    "duration": 9,
    "start_time": "2022-11-13T16:07:12.874Z"
   },
   {
    "duration": 14,
    "start_time": "2022-11-13T16:07:21.282Z"
   },
   {
    "duration": 1090,
    "start_time": "2022-11-13T16:08:09.058Z"
   },
   {
    "duration": 5,
    "start_time": "2022-11-13T16:08:21.003Z"
   },
   {
    "duration": 13,
    "start_time": "2022-11-13T16:08:46.300Z"
   },
   {
    "duration": 16,
    "start_time": "2022-11-13T16:09:11.303Z"
   },
   {
    "duration": 9,
    "start_time": "2022-11-13T16:09:26.740Z"
   },
   {
    "duration": 15,
    "start_time": "2022-11-13T16:09:34.068Z"
   },
   {
    "duration": 8,
    "start_time": "2022-11-13T16:09:38.022Z"
   },
   {
    "duration": 6,
    "start_time": "2022-11-13T16:10:36.576Z"
   },
   {
    "duration": 15,
    "start_time": "2022-11-13T16:11:30.866Z"
   },
   {
    "duration": 86,
    "start_time": "2022-11-13T16:11:58.772Z"
   },
   {
    "duration": 84,
    "start_time": "2022-11-13T16:12:07.812Z"
   },
   {
    "duration": 13,
    "start_time": "2022-11-13T16:12:26.709Z"
   },
   {
    "duration": 12,
    "start_time": "2022-11-13T16:12:39.846Z"
   },
   {
    "duration": 16,
    "start_time": "2022-11-13T16:12:44.331Z"
   },
   {
    "duration": 6,
    "start_time": "2022-11-13T16:12:57.367Z"
   },
   {
    "duration": 14,
    "start_time": "2022-11-13T16:13:29.818Z"
   },
   {
    "duration": 4,
    "start_time": "2022-11-13T16:14:16.885Z"
   },
   {
    "duration": 13,
    "start_time": "2022-11-13T16:14:23.542Z"
   },
   {
    "duration": 4,
    "start_time": "2022-11-13T16:14:25.761Z"
   },
   {
    "duration": 13,
    "start_time": "2022-11-13T16:14:25.922Z"
   },
   {
    "duration": 11,
    "start_time": "2022-11-13T16:14:56.643Z"
   },
   {
    "duration": 11,
    "start_time": "2022-11-13T16:15:25.702Z"
   },
   {
    "duration": 7,
    "start_time": "2022-11-13T16:15:27.302Z"
   },
   {
    "duration": 16,
    "start_time": "2022-11-13T16:15:28.075Z"
   },
   {
    "duration": 14,
    "start_time": "2022-11-13T16:15:36.114Z"
   },
   {
    "duration": 9,
    "start_time": "2022-11-13T16:16:01.998Z"
   },
   {
    "duration": 7,
    "start_time": "2022-11-13T16:16:22.495Z"
   },
   {
    "duration": 8,
    "start_time": "2022-11-13T16:16:22.863Z"
   },
   {
    "duration": 3,
    "start_time": "2022-11-13T16:16:23.412Z"
   },
   {
    "duration": 14,
    "start_time": "2022-11-13T16:16:24.160Z"
   },
   {
    "duration": 15,
    "start_time": "2022-11-13T16:16:34.195Z"
   },
   {
    "duration": 14,
    "start_time": "2022-11-13T16:16:37.357Z"
   },
   {
    "duration": 3,
    "start_time": "2022-11-13T16:16:43.442Z"
   },
   {
    "duration": 3,
    "start_time": "2022-11-13T16:28:05.420Z"
   },
   {
    "duration": 6,
    "start_time": "2022-11-13T16:28:44.488Z"
   },
   {
    "duration": 14,
    "start_time": "2022-11-13T16:28:52.563Z"
   },
   {
    "duration": 851,
    "start_time": "2022-11-13T16:31:11.381Z"
   },
   {
    "duration": 4035,
    "start_time": "2022-11-13T16:31:24.715Z"
   },
   {
    "duration": 130,
    "start_time": "2022-11-13T16:35:46.238Z"
   },
   {
    "duration": 59,
    "start_time": "2022-11-13T16:35:48.915Z"
   },
   {
    "duration": 22,
    "start_time": "2022-11-13T16:35:49.612Z"
   },
   {
    "duration": 236,
    "start_time": "2022-11-13T16:35:49.860Z"
   },
   {
    "duration": 22,
    "start_time": "2022-11-13T16:35:50.210Z"
   },
   {
    "duration": 8,
    "start_time": "2022-11-13T16:35:50.823Z"
   },
   {
    "duration": 107,
    "start_time": "2022-11-13T16:35:50.974Z"
   },
   {
    "duration": 4,
    "start_time": "2022-11-13T16:35:51.253Z"
   },
   {
    "duration": 4263,
    "start_time": "2022-11-13T16:35:51.888Z"
   },
   {
    "duration": 4274,
    "start_time": "2022-11-13T16:37:03.300Z"
   },
   {
    "duration": 1566,
    "start_time": "2022-11-13T16:41:11.096Z"
   },
   {
    "duration": 66,
    "start_time": "2022-11-13T16:41:12.664Z"
   },
   {
    "duration": 17,
    "start_time": "2022-11-13T16:41:12.732Z"
   },
   {
    "duration": 11,
    "start_time": "2022-11-13T16:41:12.751Z"
   },
   {
    "duration": 20,
    "start_time": "2022-11-13T16:41:12.764Z"
   },
   {
    "duration": 8,
    "start_time": "2022-11-13T16:41:12.785Z"
   },
   {
    "duration": 9,
    "start_time": "2022-11-13T16:41:12.822Z"
   },
   {
    "duration": 5,
    "start_time": "2022-11-13T16:41:12.833Z"
   },
   {
    "duration": 1388,
    "start_time": "2022-11-13T16:41:22.542Z"
   },
   {
    "duration": 65,
    "start_time": "2022-11-13T16:41:23.932Z"
   },
   {
    "duration": 17,
    "start_time": "2022-11-13T16:41:23.999Z"
   },
   {
    "duration": 8,
    "start_time": "2022-11-13T16:41:24.018Z"
   },
   {
    "duration": 23,
    "start_time": "2022-11-13T16:41:24.028Z"
   },
   {
    "duration": 9,
    "start_time": "2022-11-13T16:41:24.052Z"
   },
   {
    "duration": 8,
    "start_time": "2022-11-13T16:41:24.063Z"
   },
   {
    "duration": 24,
    "start_time": "2022-11-13T16:41:24.073Z"
   },
   {
    "duration": 9287,
    "start_time": "2022-11-13T16:41:24.099Z"
   },
   {
    "duration": 8689,
    "start_time": "2022-11-13T16:42:13.754Z"
   },
   {
    "duration": 8733,
    "start_time": "2022-11-13T16:48:00.139Z"
   },
   {
    "duration": 8573,
    "start_time": "2022-11-13T16:48:18.644Z"
   },
   {
    "duration": 8916,
    "start_time": "2022-11-13T16:48:51.271Z"
   },
   {
    "duration": 8752,
    "start_time": "2022-11-13T16:49:53.394Z"
   },
   {
    "duration": 8416,
    "start_time": "2022-11-13T16:50:21.171Z"
   },
   {
    "duration": 5,
    "start_time": "2022-11-13T16:50:32.074Z"
   },
   {
    "duration": 55,
    "start_time": "2022-11-13T16:50:33.132Z"
   },
   {
    "duration": 15,
    "start_time": "2022-11-13T16:50:33.419Z"
   },
   {
    "duration": 7,
    "start_time": "2022-11-13T16:50:33.531Z"
   },
   {
    "duration": 19,
    "start_time": "2022-11-13T16:50:33.754Z"
   },
   {
    "duration": 7,
    "start_time": "2022-11-13T16:50:34.599Z"
   },
   {
    "duration": 8,
    "start_time": "2022-11-13T16:50:34.743Z"
   },
   {
    "duration": 3,
    "start_time": "2022-11-13T16:50:35.012Z"
   },
   {
    "duration": 8543,
    "start_time": "2022-11-13T16:50:35.516Z"
   },
   {
    "duration": 9549,
    "start_time": "2022-11-13T16:52:30.845Z"
   },
   {
    "duration": 9262,
    "start_time": "2022-11-13T16:54:12.371Z"
   },
   {
    "duration": 9114,
    "start_time": "2022-11-13T17:01:25.905Z"
   },
   {
    "duration": 9262,
    "start_time": "2022-11-13T17:02:16.856Z"
   },
   {
    "duration": 9239,
    "start_time": "2022-11-13T17:03:04.185Z"
   },
   {
    "duration": 9061,
    "start_time": "2022-11-13T17:03:35.348Z"
   },
   {
    "duration": 1917,
    "start_time": "2022-11-13T17:05:24.461Z"
   },
   {
    "duration": 2426,
    "start_time": "2022-11-13T17:06:29.202Z"
   },
   {
    "duration": 40,
    "start_time": "2022-11-13T17:07:31.459Z"
   },
   {
    "duration": 2407,
    "start_time": "2022-11-13T17:17:33.899Z"
   },
   {
    "duration": 45353,
    "start_time": "2022-11-13T17:18:05.509Z"
   },
   {
    "duration": 138,
    "start_time": "2022-11-13T17:27:46.138Z"
   },
   {
    "duration": 580,
    "start_time": "2022-11-13T17:27:50.352Z"
   },
   {
    "duration": 1464,
    "start_time": "2022-11-13T17:27:59.207Z"
   },
   {
    "duration": 67,
    "start_time": "2022-11-13T17:28:00.674Z"
   },
   {
    "duration": 19,
    "start_time": "2022-11-13T17:28:00.744Z"
   },
   {
    "duration": 8,
    "start_time": "2022-11-13T17:28:00.764Z"
   },
   {
    "duration": 48,
    "start_time": "2022-11-13T17:28:00.775Z"
   },
   {
    "duration": 8,
    "start_time": "2022-11-13T17:28:00.825Z"
   },
   {
    "duration": 22,
    "start_time": "2022-11-13T17:28:00.835Z"
   },
   {
    "duration": 128,
    "start_time": "2022-11-13T17:28:00.859Z"
   },
   {
    "duration": 0,
    "start_time": "2022-11-13T17:28:00.989Z"
   },
   {
    "duration": 45872,
    "start_time": "2022-11-13T17:28:28.282Z"
   },
   {
    "duration": 48449,
    "start_time": "2022-11-13T17:30:56.446Z"
   },
   {
    "duration": 1499,
    "start_time": "2022-11-13T17:40:56.095Z"
   },
   {
    "duration": 74,
    "start_time": "2022-11-13T17:40:57.596Z"
   },
   {
    "duration": 18,
    "start_time": "2022-11-13T17:40:57.672Z"
   },
   {
    "duration": 6,
    "start_time": "2022-11-13T17:40:57.692Z"
   },
   {
    "duration": 44,
    "start_time": "2022-11-13T17:40:57.700Z"
   },
   {
    "duration": 8,
    "start_time": "2022-11-13T17:40:57.745Z"
   },
   {
    "duration": 10,
    "start_time": "2022-11-13T17:40:57.755Z"
   },
   {
    "duration": 47270,
    "start_time": "2022-11-13T17:40:57.767Z"
   },
   {
    "duration": 48047,
    "start_time": "2022-11-13T17:41:45.039Z"
   },
   {
    "duration": 617,
    "start_time": "2022-11-13T17:42:33.088Z"
   },
   {
    "duration": 47627,
    "start_time": "2022-11-13T17:43:44.684Z"
   },
   {
    "duration": 0,
    "start_time": "2022-11-13T17:44:32.313Z"
   },
   {
    "duration": 1456,
    "start_time": "2022-11-13T17:44:46.803Z"
   },
   {
    "duration": 75,
    "start_time": "2022-11-13T17:44:48.261Z"
   },
   {
    "duration": 18,
    "start_time": "2022-11-13T17:44:48.338Z"
   },
   {
    "duration": 7,
    "start_time": "2022-11-13T17:44:48.357Z"
   },
   {
    "duration": 23,
    "start_time": "2022-11-13T17:44:48.366Z"
   },
   {
    "duration": 7,
    "start_time": "2022-11-13T17:44:48.391Z"
   },
   {
    "duration": 8,
    "start_time": "2022-11-13T17:44:48.400Z"
   },
   {
    "duration": 46634,
    "start_time": "2022-11-13T17:44:48.429Z"
   },
   {
    "duration": 0,
    "start_time": "2022-11-13T17:45:35.065Z"
   },
   {
    "duration": 0,
    "start_time": "2022-11-13T17:45:35.067Z"
   },
   {
    "duration": 0,
    "start_time": "2022-11-13T17:46:36.283Z"
   },
   {
    "duration": 0,
    "start_time": "2022-11-13T17:46:36.285Z"
   },
   {
    "duration": 1457,
    "start_time": "2022-11-13T17:48:09.781Z"
   },
   {
    "duration": 68,
    "start_time": "2022-11-13T17:48:11.240Z"
   },
   {
    "duration": 27,
    "start_time": "2022-11-13T17:48:11.310Z"
   },
   {
    "duration": 10,
    "start_time": "2022-11-13T17:48:11.339Z"
   },
   {
    "duration": 25,
    "start_time": "2022-11-13T17:48:11.352Z"
   },
   {
    "duration": 11,
    "start_time": "2022-11-13T17:48:11.379Z"
   },
   {
    "duration": 35,
    "start_time": "2022-11-13T17:48:11.392Z"
   },
   {
    "duration": 47370,
    "start_time": "2022-11-13T17:48:11.430Z"
   },
   {
    "duration": 0,
    "start_time": "2022-11-13T17:48:58.802Z"
   },
   {
    "duration": 0,
    "start_time": "2022-11-13T17:48:58.804Z"
   },
   {
    "duration": 49887,
    "start_time": "2022-11-13T17:49:37.282Z"
   },
   {
    "duration": 2394,
    "start_time": "2022-11-13T17:53:08.078Z"
   },
   {
    "duration": 2447,
    "start_time": "2022-11-13T17:54:39.750Z"
   },
   {
    "duration": 2556,
    "start_time": "2022-11-13T17:54:59.700Z"
   },
   {
    "duration": 37,
    "start_time": "2022-11-13T18:07:29.379Z"
   },
   {
    "duration": 2331,
    "start_time": "2022-11-13T18:07:43.946Z"
   },
   {
    "duration": 2267,
    "start_time": "2022-11-13T18:09:21.244Z"
   },
   {
    "duration": 2214,
    "start_time": "2022-11-13T18:11:10.111Z"
   },
   {
    "duration": 2310,
    "start_time": "2022-11-13T18:11:21.975Z"
   },
   {
    "duration": 2516,
    "start_time": "2022-11-13T18:11:32.577Z"
   },
   {
    "duration": 2367,
    "start_time": "2022-11-13T18:11:42.618Z"
   },
   {
    "duration": 8545,
    "start_time": "2022-11-13T18:12:32.586Z"
   },
   {
    "duration": 2316,
    "start_time": "2022-11-13T18:13:27.276Z"
   },
   {
    "duration": 2489,
    "start_time": "2022-11-13T18:13:58.953Z"
   },
   {
    "duration": 5,
    "start_time": "2022-11-13T18:15:20.600Z"
   },
   {
    "duration": 2302,
    "start_time": "2022-11-13T18:15:23.175Z"
   },
   {
    "duration": 2224,
    "start_time": "2022-11-13T18:18:54.939Z"
   },
   {
    "duration": 2292,
    "start_time": "2022-11-13T18:19:03.876Z"
   },
   {
    "duration": 2245,
    "start_time": "2022-11-13T18:21:28.003Z"
   },
   {
    "duration": 2314,
    "start_time": "2022-11-13T18:22:30.746Z"
   },
   {
    "duration": 2208,
    "start_time": "2022-11-13T18:23:35.007Z"
   },
   {
    "duration": 2267,
    "start_time": "2022-11-13T18:23:54.876Z"
   },
   {
    "duration": 2271,
    "start_time": "2022-11-13T18:24:10.610Z"
   },
   {
    "duration": 2238,
    "start_time": "2022-11-13T18:24:24.716Z"
   },
   {
    "duration": 89,
    "start_time": "2022-11-13T18:25:58.369Z"
   },
   {
    "duration": 74,
    "start_time": "2022-11-13T18:26:03.004Z"
   },
   {
    "duration": 74,
    "start_time": "2022-11-13T18:26:10.990Z"
   },
   {
    "duration": 2384,
    "start_time": "2022-11-13T18:26:23.612Z"
   },
   {
    "duration": 2321,
    "start_time": "2022-11-13T18:26:58.816Z"
   },
   {
    "duration": 2229,
    "start_time": "2022-11-13T18:27:08.720Z"
   },
   {
    "duration": 2282,
    "start_time": "2022-11-13T18:27:47.671Z"
   },
   {
    "duration": 43751,
    "start_time": "2022-11-13T18:28:12.333Z"
   },
   {
    "duration": 483,
    "start_time": "2022-11-13T18:32:07.181Z"
   },
   {
    "duration": 29,
    "start_time": "2022-11-13T18:33:25.775Z"
   },
   {
    "duration": 308,
    "start_time": "2022-11-13T18:35:55.659Z"
   },
   {
    "duration": 2210,
    "start_time": "2022-11-13T18:36:16.247Z"
   },
   {
    "duration": 922121,
    "start_time": "2022-11-13T18:38:33.094Z"
   },
   {
    "duration": 0,
    "start_time": "2022-11-13T18:53:55.224Z"
   },
   {
    "duration": 5,
    "start_time": "2022-11-13T18:54:03.208Z"
   },
   {
    "duration": 8,
    "start_time": "2022-11-13T18:54:03.346Z"
   },
   {
    "duration": 2228,
    "start_time": "2022-11-13T18:54:04.416Z"
   },
   {
    "duration": 2240,
    "start_time": "2022-11-13T18:54:06.647Z"
   },
   {
    "duration": 2375,
    "start_time": "2022-11-13T18:54:42.372Z"
   },
   {
    "duration": 1363,
    "start_time": "2022-11-13T18:56:50.933Z"
   },
   {
    "duration": 62,
    "start_time": "2022-11-13T18:56:52.298Z"
   },
   {
    "duration": 17,
    "start_time": "2022-11-13T18:56:52.361Z"
   },
   {
    "duration": 7,
    "start_time": "2022-11-13T18:56:52.380Z"
   },
   {
    "duration": 42,
    "start_time": "2022-11-13T18:56:52.389Z"
   },
   {
    "duration": 8,
    "start_time": "2022-11-13T18:56:52.433Z"
   },
   {
    "duration": 8,
    "start_time": "2022-11-13T18:56:52.442Z"
   },
   {
    "duration": 1408,
    "start_time": "2022-11-13T18:59:53.171Z"
   },
   {
    "duration": 59,
    "start_time": "2022-11-13T18:59:54.581Z"
   },
   {
    "duration": 16,
    "start_time": "2022-11-13T18:59:54.641Z"
   },
   {
    "duration": 6,
    "start_time": "2022-11-13T18:59:54.659Z"
   },
   {
    "duration": 21,
    "start_time": "2022-11-13T18:59:54.667Z"
   },
   {
    "duration": 7,
    "start_time": "2022-11-13T18:59:54.689Z"
   },
   {
    "duration": 32,
    "start_time": "2022-11-13T18:59:54.697Z"
   },
   {
    "duration": 8619,
    "start_time": "2022-11-13T18:59:54.731Z"
   },
   {
    "duration": 8732,
    "start_time": "2022-11-13T19:00:03.352Z"
   },
   {
    "duration": 118,
    "start_time": "2022-11-13T19:00:12.086Z"
   },
   {
    "duration": 337,
    "start_time": "2022-11-13T19:05:53.145Z"
   },
   {
    "duration": 8345,
    "start_time": "2022-11-13T19:09:15.108Z"
   },
   {
    "duration": 269,
    "start_time": "2022-11-13T19:09:49.163Z"
   },
   {
    "duration": 27,
    "start_time": "2022-11-13T19:11:49.512Z"
   },
   {
    "duration": 307,
    "start_time": "2022-11-13T19:12:09.733Z"
   },
   {
    "duration": 342,
    "start_time": "2022-11-13T19:13:43.396Z"
   },
   {
    "duration": 328,
    "start_time": "2022-11-13T19:15:54.490Z"
   },
   {
    "duration": 8632,
    "start_time": "2022-11-13T19:19:18.011Z"
   },
   {
    "duration": 2401,
    "start_time": "2022-11-13T19:19:31.883Z"
   },
   {
    "duration": 354,
    "start_time": "2022-11-13T19:20:18.469Z"
   },
   {
    "duration": 1469,
    "start_time": "2022-11-13T19:20:56.638Z"
   },
   {
    "duration": 62,
    "start_time": "2022-11-13T19:20:58.109Z"
   },
   {
    "duration": 17,
    "start_time": "2022-11-13T19:20:58.172Z"
   },
   {
    "duration": 7,
    "start_time": "2022-11-13T19:20:58.191Z"
   },
   {
    "duration": 35,
    "start_time": "2022-11-13T19:20:58.200Z"
   },
   {
    "duration": 7,
    "start_time": "2022-11-13T19:20:58.237Z"
   },
   {
    "duration": 9,
    "start_time": "2022-11-13T19:20:58.246Z"
   },
   {
    "duration": 43884,
    "start_time": "2022-11-13T19:20:58.257Z"
   },
   {
    "duration": 2469,
    "start_time": "2022-11-13T19:21:42.143Z"
   },
   {
    "duration": 0,
    "start_time": "2022-11-13T19:21:44.614Z"
   },
   {
    "duration": 0,
    "start_time": "2022-11-13T19:21:44.622Z"
   },
   {
    "duration": 2350,
    "start_time": "2022-11-13T19:22:03.013Z"
   },
   {
    "duration": 2390,
    "start_time": "2022-11-13T19:22:17.098Z"
   },
   {
    "duration": 328,
    "start_time": "2022-11-13T19:22:28.555Z"
   },
   {
    "duration": 349,
    "start_time": "2022-11-13T19:22:33.155Z"
   },
   {
    "duration": 1402,
    "start_time": "2022-11-13T19:23:38.302Z"
   },
   {
    "duration": 63,
    "start_time": "2022-11-13T19:23:39.707Z"
   },
   {
    "duration": 16,
    "start_time": "2022-11-13T19:23:39.772Z"
   },
   {
    "duration": 7,
    "start_time": "2022-11-13T19:23:39.791Z"
   },
   {
    "duration": 37,
    "start_time": "2022-11-13T19:23:39.799Z"
   },
   {
    "duration": 8,
    "start_time": "2022-11-13T19:23:39.837Z"
   },
   {
    "duration": 8,
    "start_time": "2022-11-13T19:23:39.847Z"
   },
   {
    "duration": 2215,
    "start_time": "2022-11-13T19:23:39.857Z"
   },
   {
    "duration": 2417,
    "start_time": "2022-11-13T19:23:42.074Z"
   },
   {
    "duration": 346,
    "start_time": "2022-11-13T19:23:44.494Z"
   },
   {
    "duration": 357,
    "start_time": "2022-11-13T19:23:44.841Z"
   },
   {
    "duration": 9,
    "start_time": "2022-11-13T19:26:01.119Z"
   },
   {
    "duration": 1369,
    "start_time": "2022-11-13T19:26:06.095Z"
   },
   {
    "duration": 62,
    "start_time": "2022-11-13T19:26:07.466Z"
   },
   {
    "duration": 20,
    "start_time": "2022-11-13T19:26:07.530Z"
   },
   {
    "duration": 13,
    "start_time": "2022-11-13T19:26:07.552Z"
   },
   {
    "duration": 38,
    "start_time": "2022-11-13T19:26:07.568Z"
   },
   {
    "duration": 17,
    "start_time": "2022-11-13T19:26:07.608Z"
   },
   {
    "duration": 5,
    "start_time": "2022-11-13T19:26:07.627Z"
   },
   {
    "duration": 2514,
    "start_time": "2022-11-13T19:26:07.633Z"
   },
   {
    "duration": 2668,
    "start_time": "2022-11-13T19:26:10.148Z"
   },
   {
    "duration": 414,
    "start_time": "2022-11-13T19:26:12.817Z"
   },
   {
    "duration": 407,
    "start_time": "2022-11-13T19:26:13.232Z"
   },
   {
    "duration": 70,
    "start_time": "2022-11-13T19:26:13.641Z"
   },
   {
    "duration": 256,
    "start_time": "2022-11-13T19:31:04.540Z"
   },
   {
    "duration": 102,
    "start_time": "2022-11-13T19:31:23.521Z"
   },
   {
    "duration": 75,
    "start_time": "2022-11-13T19:33:25.956Z"
   },
   {
    "duration": 60,
    "start_time": "2022-11-13T19:34:02.068Z"
   },
   {
    "duration": 116,
    "start_time": "2022-11-13T19:34:04.105Z"
   },
   {
    "duration": 58,
    "start_time": "2022-11-13T19:34:20.566Z"
   },
   {
    "duration": 89,
    "start_time": "2022-11-13T19:34:56.735Z"
   },
   {
    "duration": 36,
    "start_time": "2022-11-13T19:35:31.948Z"
   },
   {
    "duration": 355,
    "start_time": "2022-11-13T19:35:58.674Z"
   },
   {
    "duration": 630,
    "start_time": "2022-11-13T19:36:11.499Z"
   },
   {
    "duration": 1331,
    "start_time": "2022-11-13T19:36:33.678Z"
   },
   {
    "duration": 67,
    "start_time": "2022-11-13T19:36:35.011Z"
   },
   {
    "duration": 16,
    "start_time": "2022-11-13T19:36:35.080Z"
   },
   {
    "duration": 6,
    "start_time": "2022-11-13T19:36:35.098Z"
   },
   {
    "duration": 25,
    "start_time": "2022-11-13T19:36:35.106Z"
   },
   {
    "duration": 8,
    "start_time": "2022-11-13T19:36:35.132Z"
   },
   {
    "duration": 6,
    "start_time": "2022-11-13T19:36:35.142Z"
   },
   {
    "duration": 298,
    "start_time": "2022-11-13T19:36:35.149Z"
   },
   {
    "duration": 342,
    "start_time": "2022-11-13T19:36:35.448Z"
   },
   {
    "duration": 92,
    "start_time": "2022-11-13T19:36:35.792Z"
   },
   {
    "duration": 89,
    "start_time": "2022-11-13T19:36:35.886Z"
   },
   {
    "duration": 547,
    "start_time": "2022-11-13T19:36:35.976Z"
   },
   {
    "duration": 348,
    "start_time": "2022-11-13T19:37:07.285Z"
   },
   {
    "duration": 759,
    "start_time": "2022-11-13T19:38:33.255Z"
   },
   {
    "duration": 166,
    "start_time": "2022-11-13T19:39:29.160Z"
   },
   {
    "duration": 16,
    "start_time": "2022-11-13T19:40:43.752Z"
   },
   {
    "duration": 792,
    "start_time": "2022-11-13T19:41:03.631Z"
   },
   {
    "duration": 15,
    "start_time": "2022-11-13T19:41:12.715Z"
   },
   {
    "duration": 558,
    "start_time": "2022-11-13T19:41:45.365Z"
   },
   {
    "duration": 18,
    "start_time": "2022-11-13T19:41:51.551Z"
   },
   {
    "duration": 515,
    "start_time": "2022-11-13T19:41:59.112Z"
   },
   {
    "duration": 240,
    "start_time": "2022-11-13T19:42:25.983Z"
   },
   {
    "duration": 11,
    "start_time": "2022-11-13T19:44:22.832Z"
   },
   {
    "duration": 5,
    "start_time": "2022-11-13T19:44:27.927Z"
   },
   {
    "duration": 1361,
    "start_time": "2022-11-13T19:44:58.848Z"
   },
   {
    "duration": 60,
    "start_time": "2022-11-13T19:45:00.211Z"
   },
   {
    "duration": 16,
    "start_time": "2022-11-13T19:45:00.275Z"
   },
   {
    "duration": 14,
    "start_time": "2022-11-13T19:45:00.293Z"
   },
   {
    "duration": 31,
    "start_time": "2022-11-13T19:45:00.308Z"
   },
   {
    "duration": 10,
    "start_time": "2022-11-13T19:45:00.341Z"
   },
   {
    "duration": 8,
    "start_time": "2022-11-13T19:45:00.353Z"
   },
   {
    "duration": 353,
    "start_time": "2022-11-13T19:45:00.363Z"
   },
   {
    "duration": 350,
    "start_time": "2022-11-13T19:45:00.721Z"
   },
   {
    "duration": 87,
    "start_time": "2022-11-13T19:45:01.073Z"
   },
   {
    "duration": 99,
    "start_time": "2022-11-13T19:45:01.161Z"
   },
   {
    "duration": 372,
    "start_time": "2022-11-13T19:45:01.262Z"
   },
   {
    "duration": 10,
    "start_time": "2022-11-13T19:45:48.161Z"
   },
   {
    "duration": 107,
    "start_time": "2022-11-13T19:47:08.018Z"
   },
   {
    "duration": 60,
    "start_time": "2022-11-13T19:47:34.566Z"
   },
   {
    "duration": 54,
    "start_time": "2022-11-13T19:47:36.605Z"
   },
   {
    "duration": 83,
    "start_time": "2022-11-13T19:49:00.843Z"
   },
   {
    "duration": 71,
    "start_time": "2022-11-13T20:03:22.953Z"
   },
   {
    "duration": 179,
    "start_time": "2022-11-13T20:05:08.947Z"
   },
   {
    "duration": 58,
    "start_time": "2022-11-13T20:05:21.279Z"
   },
   {
    "duration": 43,
    "start_time": "2022-11-13T20:13:00.012Z"
   },
   {
    "duration": 85,
    "start_time": "2022-11-13T20:13:06.844Z"
   },
   {
    "duration": 58,
    "start_time": "2022-11-13T20:13:14.372Z"
   },
   {
    "duration": 90,
    "start_time": "2022-11-13T20:13:33.885Z"
   },
   {
    "duration": 255,
    "start_time": "2022-11-13T20:13:36.067Z"
   },
   {
    "duration": 279,
    "start_time": "2022-11-13T20:13:44.943Z"
   },
   {
    "duration": 63,
    "start_time": "2022-11-13T20:13:48.060Z"
   },
   {
    "duration": 48,
    "start_time": "2022-11-13T20:13:52.587Z"
   },
   {
    "duration": 1408,
    "start_time": "2022-11-16T20:12:56.719Z"
   },
   {
    "duration": 213,
    "start_time": "2022-11-16T20:12:58.129Z"
   },
   {
    "duration": 16,
    "start_time": "2022-11-16T20:12:58.345Z"
   },
   {
    "duration": 11,
    "start_time": "2022-11-16T20:12:58.363Z"
   },
   {
    "duration": 21,
    "start_time": "2022-11-16T20:12:58.375Z"
   },
   {
    "duration": 7,
    "start_time": "2022-11-16T20:12:58.397Z"
   },
   {
    "duration": 9,
    "start_time": "2022-11-16T20:12:58.405Z"
   },
   {
    "duration": 292,
    "start_time": "2022-11-16T20:12:58.416Z"
   },
   {
    "duration": 267,
    "start_time": "2022-11-16T20:12:58.710Z"
   },
   {
    "duration": 58,
    "start_time": "2022-11-16T20:12:58.978Z"
   },
   {
    "duration": 80,
    "start_time": "2022-11-16T20:12:59.038Z"
   },
   {
    "duration": 158,
    "start_time": "2022-11-16T20:12:59.119Z"
   },
   {
    "duration": 199,
    "start_time": "2022-11-16T20:12:59.282Z"
   },
   {
    "duration": 1255,
    "start_time": "2022-11-16T20:13:52.377Z"
   },
   {
    "duration": 67,
    "start_time": "2022-11-16T20:13:53.633Z"
   },
   {
    "duration": 16,
    "start_time": "2022-11-16T20:13:53.701Z"
   },
   {
    "duration": 7,
    "start_time": "2022-11-16T20:13:53.719Z"
   },
   {
    "duration": 21,
    "start_time": "2022-11-16T20:13:53.727Z"
   },
   {
    "duration": 27,
    "start_time": "2022-11-16T20:13:53.750Z"
   },
   {
    "duration": 7,
    "start_time": "2022-11-16T20:13:53.779Z"
   },
   {
    "duration": 41309,
    "start_time": "2022-11-16T20:13:53.788Z"
   },
   {
    "duration": 42466,
    "start_time": "2022-11-16T20:14:35.099Z"
   },
   {
    "duration": 630,
    "start_time": "2022-11-16T20:15:17.567Z"
   },
   {
    "duration": 630,
    "start_time": "2022-11-16T20:15:18.198Z"
   },
   {
    "duration": 147,
    "start_time": "2022-11-16T20:15:18.830Z"
   },
   {
    "duration": 199,
    "start_time": "2022-11-16T20:15:18.979Z"
   },
   {
    "duration": 1257,
    "start_time": "2022-11-16T20:28:33.922Z"
   },
   {
    "duration": 75,
    "start_time": "2022-11-16T20:28:35.180Z"
   },
   {
    "duration": 20,
    "start_time": "2022-11-16T20:28:35.257Z"
   },
   {
    "duration": 6,
    "start_time": "2022-11-16T20:28:35.278Z"
   },
   {
    "duration": 20,
    "start_time": "2022-11-16T20:28:35.286Z"
   },
   {
    "duration": 15,
    "start_time": "2022-11-16T20:28:35.307Z"
   },
   {
    "duration": 24,
    "start_time": "2022-11-16T20:28:35.324Z"
   },
   {
    "duration": 41260,
    "start_time": "2022-11-16T20:28:35.350Z"
   },
   {
    "duration": 42060,
    "start_time": "2022-11-16T20:29:16.611Z"
   },
   {
    "duration": 704,
    "start_time": "2022-11-16T20:29:58.673Z"
   },
   {
    "duration": 671,
    "start_time": "2022-11-16T20:29:59.378Z"
   },
   {
    "duration": 135,
    "start_time": "2022-11-16T20:30:00.050Z"
   },
   {
    "duration": 106,
    "start_time": "2022-11-16T20:30:00.277Z"
   },
   {
    "duration": 7929,
    "start_time": "2022-11-16T20:34:19.274Z"
   },
   {
    "duration": 8400,
    "start_time": "2022-11-16T20:34:30.009Z"
   },
   {
    "duration": 47,
    "start_time": "2022-11-16T20:36:20.675Z"
   },
   {
    "duration": 8653,
    "start_time": "2022-11-16T20:36:35.458Z"
   },
   {
    "duration": 8620,
    "start_time": "2022-11-16T20:36:55.173Z"
   },
   {
    "duration": 7869,
    "start_time": "2022-11-16T20:37:43.688Z"
   },
   {
    "duration": 130,
    "start_time": "2022-11-16T20:39:40.190Z"
   },
   {
    "duration": 1263,
    "start_time": "2022-11-16T20:39:46.474Z"
   },
   {
    "duration": 66,
    "start_time": "2022-11-16T20:39:47.739Z"
   },
   {
    "duration": 18,
    "start_time": "2022-11-16T20:39:47.807Z"
   },
   {
    "duration": 7,
    "start_time": "2022-11-16T20:39:47.826Z"
   },
   {
    "duration": 22,
    "start_time": "2022-11-16T20:39:47.834Z"
   },
   {
    "duration": 23,
    "start_time": "2022-11-16T20:39:47.858Z"
   },
   {
    "duration": 13,
    "start_time": "2022-11-16T20:39:47.882Z"
   },
   {
    "duration": 139,
    "start_time": "2022-11-16T20:39:47.896Z"
   },
   {
    "duration": 0,
    "start_time": "2022-11-16T20:39:48.036Z"
   },
   {
    "duration": 0,
    "start_time": "2022-11-16T20:39:48.037Z"
   },
   {
    "duration": 0,
    "start_time": "2022-11-16T20:39:48.038Z"
   },
   {
    "duration": 0,
    "start_time": "2022-11-16T20:39:48.039Z"
   },
   {
    "duration": 0,
    "start_time": "2022-11-16T20:39:48.040Z"
   },
   {
    "duration": 8131,
    "start_time": "2022-11-16T20:41:00.610Z"
   },
   {
    "duration": 1240,
    "start_time": "2022-11-16T21:00:09.915Z"
   },
   {
    "duration": 77,
    "start_time": "2022-11-16T21:00:11.157Z"
   },
   {
    "duration": 19,
    "start_time": "2022-11-16T21:00:11.236Z"
   },
   {
    "duration": 15,
    "start_time": "2022-11-16T21:00:11.257Z"
   },
   {
    "duration": 23,
    "start_time": "2022-11-16T21:00:11.274Z"
   },
   {
    "duration": 8,
    "start_time": "2022-11-16T21:00:11.299Z"
   },
   {
    "duration": 27,
    "start_time": "2022-11-16T21:00:11.309Z"
   },
   {
    "duration": 7716,
    "start_time": "2022-11-16T21:00:11.338Z"
   },
   {
    "duration": 42380,
    "start_time": "2022-11-16T21:00:19.056Z"
   },
   {
    "duration": 659,
    "start_time": "2022-11-16T21:01:01.437Z"
   },
   {
    "duration": 650,
    "start_time": "2022-11-16T21:01:02.098Z"
   },
   {
    "duration": 130,
    "start_time": "2022-11-16T21:01:02.749Z"
   },
   {
    "duration": 197,
    "start_time": "2022-11-16T21:01:02.884Z"
   },
   {
    "duration": 8273,
    "start_time": "2022-11-16T21:02:24.915Z"
   },
   {
    "duration": 1282,
    "start_time": "2022-11-16T21:05:56.654Z"
   },
   {
    "duration": 66,
    "start_time": "2022-11-16T21:05:57.938Z"
   },
   {
    "duration": 15,
    "start_time": "2022-11-16T21:05:58.005Z"
   },
   {
    "duration": 7,
    "start_time": "2022-11-16T21:05:58.021Z"
   },
   {
    "duration": 17,
    "start_time": "2022-11-16T21:05:58.031Z"
   },
   {
    "duration": 28,
    "start_time": "2022-11-16T21:05:58.050Z"
   },
   {
    "duration": 8,
    "start_time": "2022-11-16T21:05:58.079Z"
   },
   {
    "duration": 41173,
    "start_time": "2022-11-16T21:05:58.088Z"
   },
   {
    "duration": 1339,
    "start_time": "2022-11-16T21:06:54.493Z"
   },
   {
    "duration": 65,
    "start_time": "2022-11-16T21:06:55.834Z"
   },
   {
    "duration": 15,
    "start_time": "2022-11-16T21:06:55.901Z"
   },
   {
    "duration": 6,
    "start_time": "2022-11-16T21:06:55.917Z"
   },
   {
    "duration": 15,
    "start_time": "2022-11-16T21:06:55.925Z"
   },
   {
    "duration": 6,
    "start_time": "2022-11-16T21:06:55.941Z"
   },
   {
    "duration": 31,
    "start_time": "2022-11-16T21:06:55.948Z"
   },
   {
    "duration": 40874,
    "start_time": "2022-11-16T21:06:55.980Z"
   },
   {
    "duration": 20584,
    "start_time": "2022-11-16T21:07:36.856Z"
   },
   {
    "duration": 0,
    "start_time": "2022-11-16T21:07:57.442Z"
   },
   {
    "duration": 0,
    "start_time": "2022-11-16T21:07:57.443Z"
   },
   {
    "duration": 0,
    "start_time": "2022-11-16T21:07:57.445Z"
   },
   {
    "duration": 0,
    "start_time": "2022-11-16T21:07:57.446Z"
   },
   {
    "duration": 6,
    "start_time": "2022-11-16T21:08:18.338Z"
   },
   {
    "duration": 7,
    "start_time": "2022-11-16T21:08:18.781Z"
   },
   {
    "duration": 8080,
    "start_time": "2022-11-16T21:08:20.794Z"
   },
   {
    "duration": 1488,
    "start_time": "2022-11-16T21:09:04.686Z"
   },
   {
    "duration": 68,
    "start_time": "2022-11-16T21:09:06.176Z"
   },
   {
    "duration": 15,
    "start_time": "2022-11-16T21:09:06.245Z"
   },
   {
    "duration": 31,
    "start_time": "2022-11-16T21:09:06.262Z"
   },
   {
    "duration": 36,
    "start_time": "2022-11-16T21:09:06.295Z"
   },
   {
    "duration": 30,
    "start_time": "2022-11-16T21:09:06.333Z"
   },
   {
    "duration": 32,
    "start_time": "2022-11-16T21:09:06.365Z"
   },
   {
    "duration": 41321,
    "start_time": "2022-11-16T21:09:06.400Z"
   },
   {
    "duration": 8102,
    "start_time": "2022-11-16T21:09:47.723Z"
   },
   {
    "duration": 632,
    "start_time": "2022-11-16T21:09:55.827Z"
   },
   {
    "duration": 636,
    "start_time": "2022-11-16T21:09:56.461Z"
   },
   {
    "duration": 83,
    "start_time": "2022-11-16T21:09:57.098Z"
   },
   {
    "duration": 199,
    "start_time": "2022-11-16T21:09:57.183Z"
   },
   {
    "duration": 601,
    "start_time": "2022-11-16T21:14:42.117Z"
   },
   {
    "duration": 615,
    "start_time": "2022-11-16T21:14:56.209Z"
   },
   {
    "duration": 61,
    "start_time": "2022-11-16T21:15:37.042Z"
   },
   {
    "duration": 324,
    "start_time": "2022-11-16T21:15:40.593Z"
   },
   {
    "duration": 700,
    "start_time": "2022-11-16T21:15:48.845Z"
   },
   {
    "duration": 651,
    "start_time": "2022-11-16T21:16:41.620Z"
   },
   {
    "duration": 46,
    "start_time": "2022-11-16T21:16:49.048Z"
   },
   {
    "duration": 1260,
    "start_time": "2022-11-16T21:18:40.777Z"
   },
   {
    "duration": 66,
    "start_time": "2022-11-16T21:18:42.039Z"
   },
   {
    "duration": 15,
    "start_time": "2022-11-16T21:18:42.107Z"
   },
   {
    "duration": 7,
    "start_time": "2022-11-16T21:18:42.124Z"
   },
   {
    "duration": 16,
    "start_time": "2022-11-16T21:18:42.133Z"
   },
   {
    "duration": 32,
    "start_time": "2022-11-16T21:18:42.150Z"
   },
   {
    "duration": 7,
    "start_time": "2022-11-16T21:18:42.183Z"
   },
   {
    "duration": 40795,
    "start_time": "2022-11-16T21:18:42.192Z"
   },
   {
    "duration": 41236,
    "start_time": "2022-11-16T21:19:22.988Z"
   },
   {
    "duration": 652,
    "start_time": "2022-11-16T21:20:04.226Z"
   },
   {
    "duration": 706,
    "start_time": "2022-11-16T21:20:04.879Z"
   },
   {
    "duration": 96,
    "start_time": "2022-11-16T21:20:05.587Z"
   },
   {
    "duration": 193,
    "start_time": "2022-11-16T21:20:05.685Z"
   },
   {
    "duration": 48,
    "start_time": "2022-11-16T23:10:20.071Z"
   },
   {
    "duration": 5,
    "start_time": "2022-11-16T23:10:36.323Z"
   },
   {
    "duration": 21,
    "start_time": "2022-11-16T23:13:36.884Z"
   },
   {
    "duration": 25,
    "start_time": "2022-11-16T23:14:02.895Z"
   },
   {
    "duration": 41,
    "start_time": "2022-11-16T23:17:00.613Z"
   },
   {
    "duration": 43,
    "start_time": "2022-11-16T23:17:02.367Z"
   },
   {
    "duration": 39,
    "start_time": "2022-11-16T23:17:10.098Z"
   },
   {
    "duration": 105,
    "start_time": "2022-11-16T23:17:20.274Z"
   },
   {
    "duration": 52,
    "start_time": "2022-11-16T23:17:21.292Z"
   },
   {
    "duration": 26,
    "start_time": "2022-11-16T23:18:14.024Z"
   },
   {
    "duration": 114,
    "start_time": "2022-11-16T23:19:35.446Z"
   },
   {
    "duration": 25,
    "start_time": "2022-11-16T23:20:26.497Z"
   },
   {
    "duration": 40,
    "start_time": "2022-11-16T23:20:48.774Z"
   },
   {
    "duration": 12,
    "start_time": "2022-11-16T23:55:34.702Z"
   },
   {
    "duration": 17,
    "start_time": "2022-11-16T23:55:49.506Z"
   },
   {
    "duration": 1343,
    "start_time": "2022-11-17T00:09:33.440Z"
   },
   {
    "duration": 76,
    "start_time": "2022-11-17T00:09:34.786Z"
   },
   {
    "duration": 20,
    "start_time": "2022-11-17T00:09:34.864Z"
   },
   {
    "duration": 8,
    "start_time": "2022-11-17T00:09:34.886Z"
   },
   {
    "duration": 21,
    "start_time": "2022-11-17T00:09:34.895Z"
   },
   {
    "duration": 9,
    "start_time": "2022-11-17T00:09:34.917Z"
   },
   {
    "duration": 130,
    "start_time": "2022-11-17T00:09:34.927Z"
   },
   {
    "duration": 0,
    "start_time": "2022-11-17T00:09:35.059Z"
   },
   {
    "duration": 0,
    "start_time": "2022-11-17T00:09:35.060Z"
   },
   {
    "duration": 0,
    "start_time": "2022-11-17T00:09:35.061Z"
   },
   {
    "duration": 0,
    "start_time": "2022-11-17T00:09:35.062Z"
   },
   {
    "duration": 0,
    "start_time": "2022-11-17T00:09:35.076Z"
   },
   {
    "duration": 0,
    "start_time": "2022-11-17T00:09:35.077Z"
   },
   {
    "duration": 0,
    "start_time": "2022-11-17T00:09:35.078Z"
   },
   {
    "duration": 0,
    "start_time": "2022-11-17T00:09:35.079Z"
   },
   {
    "duration": 0,
    "start_time": "2022-11-17T00:09:35.080Z"
   },
   {
    "duration": 1291,
    "start_time": "2022-11-17T00:10:15.767Z"
   },
   {
    "duration": 66,
    "start_time": "2022-11-17T00:10:17.060Z"
   },
   {
    "duration": 16,
    "start_time": "2022-11-17T00:10:17.127Z"
   },
   {
    "duration": 7,
    "start_time": "2022-11-17T00:10:17.144Z"
   },
   {
    "duration": 34,
    "start_time": "2022-11-17T00:10:17.152Z"
   },
   {
    "duration": 8,
    "start_time": "2022-11-17T00:10:17.187Z"
   },
   {
    "duration": 9,
    "start_time": "2022-11-17T00:10:17.196Z"
   },
   {
    "duration": 49312,
    "start_time": "2022-11-17T00:10:17.206Z"
   },
   {
    "duration": 49699,
    "start_time": "2022-11-17T00:11:06.519Z"
   },
   {
    "duration": 737,
    "start_time": "2022-11-17T00:11:56.219Z"
   },
   {
    "duration": 754,
    "start_time": "2022-11-17T00:11:56.957Z"
   },
   {
    "duration": 164,
    "start_time": "2022-11-17T00:11:57.713Z"
   },
   {
    "duration": 198,
    "start_time": "2022-11-17T00:11:57.879Z"
   },
   {
    "duration": 4,
    "start_time": "2022-11-17T00:11:58.080Z"
   },
   {
    "duration": 6,
    "start_time": "2022-11-17T00:11:58.175Z"
   },
   {
    "duration": 6,
    "start_time": "2022-11-17T00:11:58.183Z"
   },
   {
    "duration": 160,
    "start_time": "2022-11-17T00:17:43.117Z"
   },
   {
    "duration": 5,
    "start_time": "2022-11-17T00:19:30.305Z"
   },
   {
    "duration": 1191,
    "start_time": "2022-11-17T00:19:39.626Z"
   },
   {
    "duration": 67,
    "start_time": "2022-11-17T00:19:40.819Z"
   },
   {
    "duration": 16,
    "start_time": "2022-11-17T00:19:40.888Z"
   },
   {
    "duration": 6,
    "start_time": "2022-11-17T00:19:40.905Z"
   },
   {
    "duration": 16,
    "start_time": "2022-11-17T00:19:40.913Z"
   },
   {
    "duration": 8,
    "start_time": "2022-11-17T00:19:40.930Z"
   },
   {
    "duration": 2,
    "start_time": "2022-11-17T00:19:40.939Z"
   },
   {
    "duration": 48082,
    "start_time": "2022-11-17T00:19:40.942Z"
   },
   {
    "duration": 47985,
    "start_time": "2022-11-17T00:20:29.025Z"
   },
   {
    "duration": 810,
    "start_time": "2022-11-17T00:21:17.012Z"
   },
   {
    "duration": 773,
    "start_time": "2022-11-17T00:21:17.824Z"
   },
   {
    "duration": 178,
    "start_time": "2022-11-17T00:21:18.599Z"
   },
   {
    "duration": 198,
    "start_time": "2022-11-17T00:21:18.779Z"
   },
   {
    "duration": 3,
    "start_time": "2022-11-17T00:21:18.980Z"
   },
   {
    "duration": 97,
    "start_time": "2022-11-17T00:21:18.985Z"
   },
   {
    "duration": 8,
    "start_time": "2022-11-17T00:21:19.083Z"
   },
   {
    "duration": 5,
    "start_time": "2022-11-17T00:21:19.092Z"
   },
   {
    "duration": 54,
    "start_time": "2022-11-21T13:37:09.917Z"
   },
   {
    "duration": 1741,
    "start_time": "2022-11-21T13:37:15.740Z"
   },
   {
    "duration": 200,
    "start_time": "2022-11-21T13:37:17.484Z"
   },
   {
    "duration": 19,
    "start_time": "2022-11-21T13:37:17.685Z"
   },
   {
    "duration": 7,
    "start_time": "2022-11-21T13:37:17.706Z"
   },
   {
    "duration": 20,
    "start_time": "2022-11-21T13:37:17.717Z"
   },
   {
    "duration": 38,
    "start_time": "2022-11-21T13:37:17.740Z"
   },
   {
    "duration": 7,
    "start_time": "2022-11-21T13:37:17.780Z"
   },
   {
    "duration": 7,
    "start_time": "2022-11-21T13:37:17.789Z"
   },
   {
    "duration": 48233,
    "start_time": "2022-11-21T13:37:17.797Z"
   },
   {
    "duration": 49176,
    "start_time": "2022-11-21T13:38:06.032Z"
   },
   {
    "duration": 748,
    "start_time": "2022-11-21T13:38:55.210Z"
   },
   {
    "duration": 758,
    "start_time": "2022-11-21T13:38:55.960Z"
   },
   {
    "duration": 70,
    "start_time": "2022-11-21T13:38:56.720Z"
   },
   {
    "duration": 290,
    "start_time": "2022-11-21T13:38:56.794Z"
   },
   {
    "duration": 91,
    "start_time": "2022-11-21T13:38:57.086Z"
   },
   {
    "duration": 25,
    "start_time": "2022-11-21T13:38:57.179Z"
   },
   {
    "duration": 52,
    "start_time": "2022-11-21T13:38:57.206Z"
   },
   {
    "duration": 4,
    "start_time": "2022-11-21T13:42:14.878Z"
   },
   {
    "duration": 122,
    "start_time": "2022-11-21T13:42:26.408Z"
   },
   {
    "duration": 218,
    "start_time": "2022-11-21T13:42:59.861Z"
   },
   {
    "duration": 148,
    "start_time": "2022-11-21T13:46:33.737Z"
   },
   {
    "duration": 135,
    "start_time": "2022-11-21T13:47:40.154Z"
   },
   {
    "duration": 117,
    "start_time": "2022-11-21T13:47:47.079Z"
   },
   {
    "duration": 66,
    "start_time": "2022-11-21T13:48:00.122Z"
   },
   {
    "duration": 61,
    "start_time": "2022-11-21T13:48:05.709Z"
   },
   {
    "duration": 67,
    "start_time": "2022-11-21T13:48:19.403Z"
   },
   {
    "duration": 69,
    "start_time": "2022-11-21T13:49:11.845Z"
   },
   {
    "duration": 12,
    "start_time": "2022-11-21T13:49:55.117Z"
   },
   {
    "duration": 118,
    "start_time": "2022-11-21T13:50:07.087Z"
   },
   {
    "duration": 66,
    "start_time": "2022-11-21T13:50:29.279Z"
   },
   {
    "duration": 75,
    "start_time": "2022-11-21T13:50:52.275Z"
   },
   {
    "duration": 137,
    "start_time": "2022-11-21T13:51:43.885Z"
   },
   {
    "duration": 122,
    "start_time": "2022-11-21T13:51:48.292Z"
   },
   {
    "duration": 77,
    "start_time": "2022-11-21T13:51:50.923Z"
   },
   {
    "duration": 5,
    "start_time": "2022-11-21T15:04:13.003Z"
   },
   {
    "duration": 1443,
    "start_time": "2022-11-21T15:04:19.688Z"
   },
   {
    "duration": 71,
    "start_time": "2022-11-21T15:04:21.133Z"
   },
   {
    "duration": 18,
    "start_time": "2022-11-21T15:04:21.206Z"
   },
   {
    "duration": 8,
    "start_time": "2022-11-21T15:04:21.226Z"
   },
   {
    "duration": 24,
    "start_time": "2022-11-21T15:04:21.237Z"
   },
   {
    "duration": 18,
    "start_time": "2022-11-21T15:04:21.263Z"
   },
   {
    "duration": 124,
    "start_time": "2022-11-21T15:04:21.283Z"
   },
   {
    "duration": 0,
    "start_time": "2022-11-21T15:04:21.409Z"
   },
   {
    "duration": 0,
    "start_time": "2022-11-21T15:04:21.410Z"
   },
   {
    "duration": 0,
    "start_time": "2022-11-21T15:04:21.411Z"
   },
   {
    "duration": 0,
    "start_time": "2022-11-21T15:04:21.412Z"
   },
   {
    "duration": 0,
    "start_time": "2022-11-21T15:04:21.413Z"
   },
   {
    "duration": 0,
    "start_time": "2022-11-21T15:04:21.414Z"
   },
   {
    "duration": 0,
    "start_time": "2022-11-21T15:04:21.415Z"
   },
   {
    "duration": 0,
    "start_time": "2022-11-21T15:04:21.416Z"
   },
   {
    "duration": 0,
    "start_time": "2022-11-21T15:04:21.417Z"
   },
   {
    "duration": 0,
    "start_time": "2022-11-21T15:04:21.418Z"
   },
   {
    "duration": 14,
    "start_time": "2022-11-21T15:05:45.524Z"
   },
   {
    "duration": 11,
    "start_time": "2022-11-21T15:05:48.912Z"
   },
   {
    "duration": 3,
    "start_time": "2022-11-21T15:05:53.578Z"
   },
   {
    "duration": 79,
    "start_time": "2022-11-21T15:05:54.205Z"
   },
   {
    "duration": 14,
    "start_time": "2022-11-21T15:05:56.991Z"
   },
   {
    "duration": 1454,
    "start_time": "2022-11-21T15:06:20.446Z"
   },
   {
    "duration": 73,
    "start_time": "2022-11-21T15:06:21.902Z"
   },
   {
    "duration": 18,
    "start_time": "2022-11-21T15:06:21.976Z"
   },
   {
    "duration": 7,
    "start_time": "2022-11-21T15:06:21.996Z"
   },
   {
    "duration": 20,
    "start_time": "2022-11-21T15:06:22.005Z"
   },
   {
    "duration": 8,
    "start_time": "2022-11-21T15:06:22.027Z"
   },
   {
    "duration": 10,
    "start_time": "2022-11-21T15:06:22.036Z"
   },
   {
    "duration": 102,
    "start_time": "2022-11-21T15:06:22.047Z"
   },
   {
    "duration": 128,
    "start_time": "2022-11-21T15:06:22.151Z"
   },
   {
    "duration": 0,
    "start_time": "2022-11-21T15:06:22.281Z"
   },
   {
    "duration": 0,
    "start_time": "2022-11-21T15:06:22.282Z"
   },
   {
    "duration": 0,
    "start_time": "2022-11-21T15:06:22.283Z"
   },
   {
    "duration": 0,
    "start_time": "2022-11-21T15:06:22.284Z"
   },
   {
    "duration": 0,
    "start_time": "2022-11-21T15:06:22.285Z"
   },
   {
    "duration": 0,
    "start_time": "2022-11-21T15:06:22.285Z"
   },
   {
    "duration": 0,
    "start_time": "2022-11-21T15:06:22.286Z"
   },
   {
    "duration": 0,
    "start_time": "2022-11-21T15:06:22.288Z"
   },
   {
    "duration": 10,
    "start_time": "2022-11-21T15:06:51.533Z"
   },
   {
    "duration": 6,
    "start_time": "2022-11-21T15:14:57.853Z"
   },
   {
    "duration": 75,
    "start_time": "2022-11-21T15:15:07.005Z"
   },
   {
    "duration": 12,
    "start_time": "2022-11-21T15:15:09.513Z"
   },
   {
    "duration": 20,
    "start_time": "2022-11-21T15:18:35.717Z"
   },
   {
    "duration": 11,
    "start_time": "2022-11-21T15:20:42.151Z"
   },
   {
    "duration": 110,
    "start_time": "2022-11-21T16:18:05.875Z"
   },
   {
    "duration": 14,
    "start_time": "2022-11-21T16:20:00.845Z"
   },
   {
    "duration": 1775,
    "start_time": "2022-11-21T16:20:05.931Z"
   },
   {
    "duration": 71,
    "start_time": "2022-11-21T16:20:07.708Z"
   },
   {
    "duration": 19,
    "start_time": "2022-11-21T16:20:07.781Z"
   },
   {
    "duration": 21,
    "start_time": "2022-11-21T16:20:07.802Z"
   },
   {
    "duration": 20,
    "start_time": "2022-11-21T16:20:07.825Z"
   },
   {
    "duration": 34,
    "start_time": "2022-11-21T16:20:07.847Z"
   },
   {
    "duration": 3,
    "start_time": "2022-11-21T16:20:07.883Z"
   },
   {
    "duration": 93,
    "start_time": "2022-11-21T16:20:07.888Z"
   },
   {
    "duration": 57174,
    "start_time": "2022-11-21T16:20:07.983Z"
   },
   {
    "duration": 57678,
    "start_time": "2022-11-21T16:21:05.159Z"
   },
   {
    "duration": 923,
    "start_time": "2022-11-21T16:22:02.839Z"
   },
   {
    "duration": 998,
    "start_time": "2022-11-21T16:22:03.763Z"
   },
   {
    "duration": 123,
    "start_time": "2022-11-21T16:22:04.762Z"
   },
   {
    "duration": 302,
    "start_time": "2022-11-21T16:22:04.888Z"
   },
   {
    "duration": 86,
    "start_time": "2022-11-21T16:22:05.193Z"
   },
   {
    "duration": 8,
    "start_time": "2022-11-21T16:22:05.281Z"
   },
   {
    "duration": 9,
    "start_time": "2022-11-21T16:22:05.290Z"
   },
   {
    "duration": 120,
    "start_time": "2022-11-21T16:23:15.847Z"
   },
   {
    "duration": 10,
    "start_time": "2022-11-21T16:23:16.154Z"
   },
   {
    "duration": 13,
    "start_time": "2022-11-21T16:23:16.316Z"
   },
   {
    "duration": 14,
    "start_time": "2022-11-21T16:24:42.540Z"
   },
   {
    "duration": 1548,
    "start_time": "2022-11-21T16:25:15.474Z"
   },
   {
    "duration": 79,
    "start_time": "2022-11-21T16:25:17.024Z"
   },
   {
    "duration": 19,
    "start_time": "2022-11-21T16:25:17.105Z"
   },
   {
    "duration": 9,
    "start_time": "2022-11-21T16:25:17.126Z"
   },
   {
    "duration": 41,
    "start_time": "2022-11-21T16:25:17.137Z"
   },
   {
    "duration": 17,
    "start_time": "2022-11-21T16:25:17.180Z"
   },
   {
    "duration": 2,
    "start_time": "2022-11-21T16:25:17.199Z"
   },
   {
    "duration": 104,
    "start_time": "2022-11-21T16:25:17.203Z"
   },
   {
    "duration": 326,
    "start_time": "2022-11-21T16:25:17.309Z"
   },
   {
    "duration": 355,
    "start_time": "2022-11-21T16:25:17.638Z"
   },
   {
    "duration": 92,
    "start_time": "2022-11-21T16:25:17.995Z"
   },
   {
    "duration": 97,
    "start_time": "2022-11-21T16:25:18.089Z"
   },
   {
    "duration": 98,
    "start_time": "2022-11-21T16:25:18.188Z"
   },
   {
    "duration": 200,
    "start_time": "2022-11-21T16:25:18.290Z"
   },
   {
    "duration": 145,
    "start_time": "2022-11-21T16:25:18.578Z"
   },
   {
    "duration": 0,
    "start_time": "2022-11-21T16:25:18.724Z"
   },
   {
    "duration": 0,
    "start_time": "2022-11-21T16:25:18.726Z"
   },
   {
    "duration": 20,
    "start_time": "2022-11-21T16:26:25.294Z"
   },
   {
    "duration": 409,
    "start_time": "2022-11-21T16:29:33.770Z"
   },
   {
    "duration": 15560,
    "start_time": "2022-11-21T16:29:45.457Z"
   },
   {
    "duration": 303,
    "start_time": "2022-11-21T16:30:32.439Z"
   },
   {
    "duration": 58397,
    "start_time": "2022-11-21T16:30:37.996Z"
   },
   {
    "duration": 1527,
    "start_time": "2022-11-22T15:02:41.808Z"
   },
   {
    "duration": 110,
    "start_time": "2022-11-22T15:02:43.338Z"
   },
   {
    "duration": 20,
    "start_time": "2022-11-22T15:02:43.450Z"
   },
   {
    "duration": 8,
    "start_time": "2022-11-22T15:02:43.471Z"
   },
   {
    "duration": 23,
    "start_time": "2022-11-22T15:02:43.482Z"
   },
   {
    "duration": 15,
    "start_time": "2022-11-22T15:02:43.507Z"
   },
   {
    "duration": 2,
    "start_time": "2022-11-22T15:02:43.524Z"
   },
   {
    "duration": 98,
    "start_time": "2022-11-22T15:02:43.528Z"
   },
   {
    "duration": 1430,
    "start_time": "2022-11-22T15:03:07.197Z"
   },
   {
    "duration": 69,
    "start_time": "2022-11-22T15:03:08.629Z"
   },
   {
    "duration": 18,
    "start_time": "2022-11-22T15:03:08.699Z"
   },
   {
    "duration": 7,
    "start_time": "2022-11-22T15:03:08.719Z"
   },
   {
    "duration": 33,
    "start_time": "2022-11-22T15:03:08.729Z"
   },
   {
    "duration": 26,
    "start_time": "2022-11-22T15:03:08.764Z"
   },
   {
    "duration": 3,
    "start_time": "2022-11-22T15:03:08.792Z"
   },
   {
    "duration": 95,
    "start_time": "2022-11-22T15:03:08.796Z"
   },
   {
    "duration": 2462,
    "start_time": "2022-11-22T15:03:08.892Z"
   },
   {
    "duration": 311,
    "start_time": "2022-11-22T15:03:11.355Z"
   },
   {
    "duration": 78,
    "start_time": "2022-11-22T15:03:11.667Z"
   },
   {
    "duration": 94,
    "start_time": "2022-11-22T15:03:11.747Z"
   },
   {
    "duration": 138,
    "start_time": "2022-11-22T15:03:11.843Z"
   },
   {
    "duration": 202,
    "start_time": "2022-11-22T15:03:11.984Z"
   },
   {
    "duration": 128,
    "start_time": "2022-11-22T15:03:12.277Z"
   },
   {
    "duration": 0,
    "start_time": "2022-11-22T15:03:12.407Z"
   },
   {
    "duration": 0,
    "start_time": "2022-11-22T15:03:12.408Z"
   },
   {
    "duration": 299,
    "start_time": "2022-11-22T15:05:56.345Z"
   },
   {
    "duration": 1428,
    "start_time": "2022-11-22T15:06:53.482Z"
   },
   {
    "duration": 73,
    "start_time": "2022-11-22T15:06:54.912Z"
   },
   {
    "duration": 20,
    "start_time": "2022-11-22T15:06:54.987Z"
   },
   {
    "duration": 10,
    "start_time": "2022-11-22T15:06:55.009Z"
   },
   {
    "duration": 51,
    "start_time": "2022-11-22T15:06:55.022Z"
   },
   {
    "duration": 17,
    "start_time": "2022-11-22T15:06:55.078Z"
   },
   {
    "duration": 4,
    "start_time": "2022-11-22T15:06:55.097Z"
   },
   {
    "duration": 99,
    "start_time": "2022-11-22T15:06:55.102Z"
   },
   {
    "duration": 48281,
    "start_time": "2022-11-22T15:06:55.202Z"
   },
   {
    "duration": 48237,
    "start_time": "2022-11-22T15:07:43.485Z"
   },
   {
    "duration": 746,
    "start_time": "2022-11-22T15:08:31.724Z"
   },
   {
    "duration": 758,
    "start_time": "2022-11-22T15:08:32.471Z"
   },
   {
    "duration": 147,
    "start_time": "2022-11-22T15:08:33.231Z"
   },
   {
    "duration": 198,
    "start_time": "2022-11-22T15:08:33.385Z"
   },
   {
    "duration": 227,
    "start_time": "2022-11-22T15:08:33.586Z"
   },
   {
    "duration": 0,
    "start_time": "2022-11-22T15:08:33.816Z"
   },
   {
    "duration": 0,
    "start_time": "2022-11-22T15:08:33.818Z"
   },
   {
    "duration": 1508,
    "start_time": "2022-11-29T20:57:10.237Z"
   },
   {
    "duration": 106,
    "start_time": "2022-11-29T20:57:11.747Z"
   },
   {
    "duration": 16,
    "start_time": "2022-11-29T20:57:11.855Z"
   },
   {
    "duration": 8,
    "start_time": "2022-11-29T20:57:11.873Z"
   },
   {
    "duration": 18,
    "start_time": "2022-11-29T20:57:11.882Z"
   },
   {
    "duration": 14,
    "start_time": "2022-11-29T20:57:11.916Z"
   },
   {
    "duration": 3,
    "start_time": "2022-11-29T20:57:11.931Z"
   },
   {
    "duration": 88,
    "start_time": "2022-11-29T20:57:11.936Z"
   },
   {
    "duration": 44017,
    "start_time": "2022-11-29T20:57:12.026Z"
   },
   {
    "duration": 309,
    "start_time": "2022-11-29T20:57:56.046Z"
   },
   {
    "duration": 89,
    "start_time": "2022-11-29T20:57:56.357Z"
   },
   {
    "duration": 790,
    "start_time": "2022-11-29T20:57:56.448Z"
   },
   {
    "duration": 444,
    "start_time": "2022-11-29T20:57:57.240Z"
   },
   {
    "duration": 140,
    "start_time": "2022-11-29T20:57:57.686Z"
   },
   {
    "duration": 198,
    "start_time": "2022-11-29T20:57:57.917Z"
   },
   {
    "duration": 4,
    "start_time": "2022-11-29T20:57:58.118Z"
   },
   {
    "duration": 92,
    "start_time": "2022-11-29T20:57:58.124Z"
   },
   {
    "duration": 7,
    "start_time": "2022-11-29T20:57:58.218Z"
   },
   {
    "duration": 407,
    "start_time": "2022-11-29T20:58:42.321Z"
   },
   {
    "duration": 14562,
    "start_time": "2022-11-29T20:58:59.358Z"
   },
   {
    "duration": 14397,
    "start_time": "2022-11-29T20:59:30.751Z"
   },
   {
    "duration": 127,
    "start_time": "2022-11-29T21:02:36.238Z"
   },
   {
    "duration": 29,
    "start_time": "2022-11-29T21:02:46.208Z"
   },
   {
    "duration": 5248,
    "start_time": "2022-11-29T21:02:58.871Z"
   },
   {
    "duration": 24,
    "start_time": "2022-11-29T21:03:14.861Z"
   },
   {
    "duration": 694,
    "start_time": "2022-11-29T21:03:26.732Z"
   },
   {
    "duration": 14590,
    "start_time": "2022-11-29T21:03:36.944Z"
   },
   {
    "duration": 5370,
    "start_time": "2022-11-29T21:03:51.536Z"
   },
   {
    "duration": 20,
    "start_time": "2022-11-30T00:15:11.603Z"
   },
   {
    "duration": 9,
    "start_time": "2022-11-30T00:21:13.184Z"
   },
   {
    "duration": 8,
    "start_time": "2022-11-30T00:21:29.461Z"
   },
   {
    "duration": 128,
    "start_time": "2022-11-30T00:21:36.791Z"
   },
   {
    "duration": 8,
    "start_time": "2022-11-30T00:21:37.539Z"
   },
   {
    "duration": 1231,
    "start_time": "2022-11-30T00:21:52.731Z"
   },
   {
    "duration": 65,
    "start_time": "2022-11-30T00:21:53.964Z"
   },
   {
    "duration": 17,
    "start_time": "2022-11-30T00:21:54.031Z"
   },
   {
    "duration": 18,
    "start_time": "2022-11-30T00:21:54.049Z"
   },
   {
    "duration": 34,
    "start_time": "2022-11-30T00:21:54.069Z"
   },
   {
    "duration": 28,
    "start_time": "2022-11-30T00:21:54.105Z"
   },
   {
    "duration": 20,
    "start_time": "2022-11-30T00:21:54.134Z"
   },
   {
    "duration": 78,
    "start_time": "2022-11-30T00:21:54.155Z"
   },
   {
    "duration": 252,
    "start_time": "2022-11-30T00:21:54.235Z"
   },
   {
    "duration": 285,
    "start_time": "2022-11-30T00:21:54.489Z"
   },
   {
    "duration": 82,
    "start_time": "2022-11-30T00:21:54.776Z"
   },
   {
    "duration": 695,
    "start_time": "2022-11-30T00:21:54.860Z"
   },
   {
    "duration": 13849,
    "start_time": "2022-11-30T00:21:55.557Z"
   },
   {
    "duration": 5460,
    "start_time": "2022-11-30T00:22:09.409Z"
   },
   {
    "duration": 63,
    "start_time": "2022-11-30T00:22:14.870Z"
   },
   {
    "duration": 288,
    "start_time": "2022-11-30T00:22:14.935Z"
   },
   {
    "duration": 216,
    "start_time": "2022-11-30T00:22:15.227Z"
   },
   {
    "duration": 0,
    "start_time": "2022-11-30T00:22:15.444Z"
   },
   {
    "duration": 0,
    "start_time": "2022-11-30T00:22:15.446Z"
   },
   {
    "duration": 0,
    "start_time": "2022-11-30T00:22:15.447Z"
   },
   {
    "duration": 8,
    "start_time": "2022-11-30T00:22:33.814Z"
   },
   {
    "duration": 6,
    "start_time": "2022-11-30T00:23:55.942Z"
   },
   {
    "duration": 7,
    "start_time": "2022-11-30T00:24:01.099Z"
   },
   {
    "duration": 7,
    "start_time": "2022-11-30T00:26:24.738Z"
   },
   {
    "duration": 11,
    "start_time": "2022-11-30T00:29:04.542Z"
   },
   {
    "duration": 13,
    "start_time": "2022-11-30T00:30:16.018Z"
   },
   {
    "duration": 16,
    "start_time": "2022-11-30T00:30:38.864Z"
   },
   {
    "duration": 16,
    "start_time": "2022-11-30T00:31:44.946Z"
   },
   {
    "duration": 15,
    "start_time": "2022-11-30T00:32:21.643Z"
   },
   {
    "duration": 19,
    "start_time": "2022-11-30T00:32:31.761Z"
   },
   {
    "duration": 61,
    "start_time": "2022-11-30T00:33:11.314Z"
   },
   {
    "duration": 52,
    "start_time": "2022-11-30T00:34:13.638Z"
   },
   {
    "duration": 17,
    "start_time": "2022-11-30T00:34:25.426Z"
   },
   {
    "duration": 18,
    "start_time": "2022-11-30T00:34:48.221Z"
   },
   {
    "duration": 43,
    "start_time": "2022-11-30T00:34:52.888Z"
   },
   {
    "duration": 16,
    "start_time": "2022-11-30T00:34:58.079Z"
   },
   {
    "duration": 16,
    "start_time": "2022-11-30T00:35:58.739Z"
   },
   {
    "duration": 16,
    "start_time": "2022-11-30T00:36:03.251Z"
   },
   {
    "duration": 17,
    "start_time": "2022-11-30T00:36:14.009Z"
   },
   {
    "duration": 1280,
    "start_time": "2022-11-30T00:36:33.942Z"
   },
   {
    "duration": 66,
    "start_time": "2022-11-30T00:36:35.224Z"
   },
   {
    "duration": 15,
    "start_time": "2022-11-30T00:36:35.291Z"
   },
   {
    "duration": 11,
    "start_time": "2022-11-30T00:36:35.308Z"
   },
   {
    "duration": 28,
    "start_time": "2022-11-30T00:36:35.320Z"
   },
   {
    "duration": 13,
    "start_time": "2022-11-30T00:36:35.350Z"
   },
   {
    "duration": 2,
    "start_time": "2022-11-30T00:36:35.364Z"
   },
   {
    "duration": 83,
    "start_time": "2022-11-30T00:36:35.368Z"
   },
   {
    "duration": 43418,
    "start_time": "2022-11-30T00:36:35.453Z"
   },
   {
    "duration": 288,
    "start_time": "2022-11-30T00:37:18.873Z"
   },
   {
    "duration": 75,
    "start_time": "2022-11-30T00:37:19.162Z"
   },
   {
    "duration": 77,
    "start_time": "2022-11-30T00:37:19.239Z"
   },
   {
    "duration": 423,
    "start_time": "2022-11-30T00:37:19.318Z"
   },
   {
    "duration": 4979,
    "start_time": "2022-11-30T00:37:19.743Z"
   },
   {
    "duration": 95,
    "start_time": "2022-11-30T00:37:24.724Z"
   },
   {
    "duration": 201,
    "start_time": "2022-11-30T00:37:24.822Z"
   },
   {
    "duration": 116,
    "start_time": "2022-11-30T00:37:25.025Z"
   },
   {
    "duration": 131,
    "start_time": "2022-11-30T00:37:25.143Z"
   },
   {
    "duration": 0,
    "start_time": "2022-11-30T00:37:25.276Z"
   },
   {
    "duration": 0,
    "start_time": "2022-11-30T00:37:25.278Z"
   },
   {
    "duration": 18,
    "start_time": "2022-11-30T01:25:47.488Z"
   },
   {
    "duration": 28,
    "start_time": "2022-11-30T01:27:19.472Z"
   },
   {
    "duration": 24,
    "start_time": "2022-11-30T01:27:33.054Z"
   },
   {
    "duration": 25,
    "start_time": "2022-11-30T01:27:46.330Z"
   },
   {
    "duration": 17,
    "start_time": "2022-11-30T01:28:18.763Z"
   },
   {
    "duration": 29,
    "start_time": "2022-11-30T01:28:35.530Z"
   },
   {
    "duration": 32,
    "start_time": "2022-11-30T01:28:38.424Z"
   },
   {
    "duration": 32,
    "start_time": "2022-11-30T01:28:45.359Z"
   },
   {
    "duration": 15,
    "start_time": "2022-11-30T01:31:22.906Z"
   },
   {
    "duration": 25,
    "start_time": "2022-11-30T01:32:00.720Z"
   },
   {
    "duration": 16,
    "start_time": "2022-11-30T01:32:07.614Z"
   },
   {
    "duration": 20,
    "start_time": "2022-11-30T01:33:19.770Z"
   },
   {
    "duration": 16,
    "start_time": "2022-11-30T01:33:51.336Z"
   },
   {
    "duration": 16,
    "start_time": "2022-11-30T01:33:56.510Z"
   },
   {
    "duration": 16,
    "start_time": "2022-11-30T01:34:21.304Z"
   },
   {
    "duration": 16,
    "start_time": "2022-11-30T01:34:21.790Z"
   },
   {
    "duration": 15,
    "start_time": "2022-11-30T01:34:43.137Z"
   },
   {
    "duration": 28,
    "start_time": "2022-11-30T01:34:44.054Z"
   },
   {
    "duration": 15,
    "start_time": "2022-11-30T01:34:53.573Z"
   },
   {
    "duration": 2,
    "start_time": "2022-11-30T01:35:57.677Z"
   },
   {
    "duration": 17,
    "start_time": "2022-11-30T01:36:34.385Z"
   },
   {
    "duration": 15,
    "start_time": "2022-11-30T01:36:34.857Z"
   },
   {
    "duration": 18,
    "start_time": "2022-11-30T01:36:35.291Z"
   },
   {
    "duration": 19,
    "start_time": "2022-11-30T01:38:01.937Z"
   },
   {
    "duration": 23,
    "start_time": "2022-11-30T01:39:06.520Z"
   },
   {
    "duration": 96,
    "start_time": "2022-11-30T01:41:49.521Z"
   },
   {
    "duration": 52,
    "start_time": "2022-11-30T01:41:58.964Z"
   },
   {
    "duration": 76,
    "start_time": "2022-11-30T03:34:59.043Z"
   },
   {
    "duration": 47,
    "start_time": "2022-11-30T03:35:01.269Z"
   },
   {
    "duration": 49,
    "start_time": "2022-11-30T03:35:23.332Z"
   },
   {
    "duration": 63,
    "start_time": "2022-11-30T03:35:27.454Z"
   },
   {
    "duration": 56,
    "start_time": "2022-11-30T03:35:35.765Z"
   },
   {
    "duration": 206,
    "start_time": "2022-11-30T03:35:51.110Z"
   },
   {
    "duration": 124,
    "start_time": "2022-11-30T03:35:51.496Z"
   },
   {
    "duration": 1340,
    "start_time": "2022-11-30T03:36:32.431Z"
   },
   {
    "duration": 66,
    "start_time": "2022-11-30T03:36:33.773Z"
   },
   {
    "duration": 15,
    "start_time": "2022-11-30T03:36:33.841Z"
   },
   {
    "duration": 14,
    "start_time": "2022-11-30T03:36:33.858Z"
   },
   {
    "duration": 41,
    "start_time": "2022-11-30T03:36:33.874Z"
   },
   {
    "duration": 19,
    "start_time": "2022-11-30T03:36:33.918Z"
   },
   {
    "duration": 16,
    "start_time": "2022-11-30T03:36:33.938Z"
   },
   {
    "duration": 76,
    "start_time": "2022-11-30T03:36:33.955Z"
   },
   {
    "duration": 44091,
    "start_time": "2022-11-30T03:36:34.033Z"
   },
   {
    "duration": 44136,
    "start_time": "2022-11-30T03:37:18.126Z"
   },
   {
    "duration": 691,
    "start_time": "2022-11-30T03:38:02.264Z"
   },
   {
    "duration": 681,
    "start_time": "2022-11-30T03:38:02.956Z"
   },
   {
    "duration": 77187,
    "start_time": "2022-11-30T03:38:03.639Z"
   },
   {
    "duration": 24474,
    "start_time": "2022-11-30T03:39:20.828Z"
   },
   {
    "duration": 114,
    "start_time": "2022-11-30T03:39:45.304Z"
   },
   {
    "duration": 202,
    "start_time": "2022-11-30T03:39:45.420Z"
   },
   {
    "duration": 123,
    "start_time": "2022-11-30T03:39:45.624Z"
   },
   {
    "duration": 32,
    "start_time": "2022-11-30T03:39:45.748Z"
   },
   {
    "duration": 45,
    "start_time": "2022-11-30T03:39:45.782Z"
   },
   {
    "duration": 18,
    "start_time": "2022-11-30T03:39:45.829Z"
   },
   {
    "duration": 66,
    "start_time": "2022-11-30T03:39:45.849Z"
   },
   {
    "duration": 29,
    "start_time": "2022-11-30T03:39:45.917Z"
   },
   {
    "duration": 168,
    "start_time": "2022-11-30T03:39:45.948Z"
   },
   {
    "duration": 299,
    "start_time": "2022-11-30T03:39:46.118Z"
   },
   {
    "duration": 141,
    "start_time": "2022-11-30T03:39:46.419Z"
   },
   {
    "duration": 0,
    "start_time": "2022-11-30T03:39:46.562Z"
   },
   {
    "duration": 0,
    "start_time": "2022-11-30T03:39:46.564Z"
   },
   {
    "duration": 8503,
    "start_time": "2022-11-30T03:45:21.815Z"
   },
   {
    "duration": 12,
    "start_time": "2022-11-30T03:49:00.217Z"
   },
   {
    "duration": 20,
    "start_time": "2022-11-30T03:49:35.415Z"
   },
   {
    "duration": 13,
    "start_time": "2022-11-30T03:49:39.235Z"
   },
   {
    "duration": 5,
    "start_time": "2022-11-30T03:51:08.552Z"
   },
   {
    "duration": 12,
    "start_time": "2022-11-30T03:51:11.759Z"
   },
   {
    "duration": 64,
    "start_time": "2022-11-30T03:52:36.975Z"
   },
   {
    "duration": 9,
    "start_time": "2022-11-30T03:52:42.572Z"
   },
   {
    "duration": 86,
    "start_time": "2022-11-30T03:52:59.432Z"
   },
   {
    "duration": 6,
    "start_time": "2022-11-30T03:52:59.755Z"
   },
   {
    "duration": 6,
    "start_time": "2022-11-30T03:54:13.703Z"
   },
   {
    "duration": 18,
    "start_time": "2022-11-30T03:56:20.513Z"
   },
   {
    "duration": 8,
    "start_time": "2022-11-30T03:56:32.648Z"
   },
   {
    "duration": 7,
    "start_time": "2022-11-30T03:56:35.998Z"
   },
   {
    "duration": 17,
    "start_time": "2022-11-30T03:56:38.503Z"
   },
   {
    "duration": 12,
    "start_time": "2022-11-30T03:58:54.204Z"
   },
   {
    "duration": 15,
    "start_time": "2022-11-30T04:00:39.085Z"
   },
   {
    "duration": 13,
    "start_time": "2022-11-30T04:02:39.956Z"
   },
   {
    "duration": 10,
    "start_time": "2022-11-30T04:03:09.554Z"
   },
   {
    "duration": 14,
    "start_time": "2022-11-30T04:03:12.313Z"
   },
   {
    "duration": 10,
    "start_time": "2022-11-30T04:03:12.504Z"
   },
   {
    "duration": 14,
    "start_time": "2022-11-30T04:05:51.588Z"
   },
   {
    "duration": 14,
    "start_time": "2022-11-30T04:06:09.638Z"
   },
   {
    "duration": 12,
    "start_time": "2022-11-30T04:06:18.646Z"
   },
   {
    "duration": 15,
    "start_time": "2022-11-30T04:06:30.366Z"
   },
   {
    "duration": 10,
    "start_time": "2022-11-30T04:06:30.532Z"
   },
   {
    "duration": 15,
    "start_time": "2022-11-30T04:06:51.252Z"
   },
   {
    "duration": 11,
    "start_time": "2022-11-30T04:06:51.412Z"
   },
   {
    "duration": 40,
    "start_time": "2022-11-30T04:07:08.137Z"
   },
   {
    "duration": 34,
    "start_time": "2022-11-30T04:07:08.433Z"
   },
   {
    "duration": 16,
    "start_time": "2022-11-30T04:07:08.636Z"
   },
   {
    "duration": 16,
    "start_time": "2022-11-30T04:07:08.887Z"
   },
   {
    "duration": 1354,
    "start_time": "2022-11-30T04:07:23.325Z"
   },
   {
    "duration": 74,
    "start_time": "2022-11-30T04:07:24.681Z"
   },
   {
    "duration": 16,
    "start_time": "2022-11-30T04:07:24.756Z"
   },
   {
    "duration": 36,
    "start_time": "2022-11-30T04:07:24.774Z"
   },
   {
    "duration": 46,
    "start_time": "2022-11-30T04:07:24.812Z"
   },
   {
    "duration": 17,
    "start_time": "2022-11-30T04:07:24.860Z"
   },
   {
    "duration": 24,
    "start_time": "2022-11-30T04:07:24.879Z"
   },
   {
    "duration": 84,
    "start_time": "2022-11-30T04:07:24.904Z"
   },
   {
    "duration": 8202,
    "start_time": "2022-11-30T04:07:24.989Z"
   },
   {
    "duration": 43635,
    "start_time": "2022-11-30T04:07:33.193Z"
   },
   {
    "duration": 692,
    "start_time": "2022-11-30T04:08:16.831Z"
   },
   {
    "duration": 714,
    "start_time": "2022-11-30T04:08:17.525Z"
   },
   {
    "duration": 77493,
    "start_time": "2022-11-30T04:08:18.240Z"
   },
   {
    "duration": 23749,
    "start_time": "2022-11-30T04:09:35.736Z"
   },
   {
    "duration": 130,
    "start_time": "2022-11-30T04:09:59.487Z"
   },
   {
    "duration": 200,
    "start_time": "2022-11-30T04:09:59.620Z"
   },
   {
    "duration": 235,
    "start_time": "2022-11-30T04:09:59.822Z"
   },
   {
    "duration": 0,
    "start_time": "2022-11-30T04:10:00.059Z"
   },
   {
    "duration": 0,
    "start_time": "2022-11-30T04:10:00.060Z"
   },
   {
    "duration": 0,
    "start_time": "2022-11-30T04:10:00.061Z"
   },
   {
    "duration": 0,
    "start_time": "2022-11-30T04:10:00.062Z"
   },
   {
    "duration": 0,
    "start_time": "2022-11-30T04:10:00.063Z"
   },
   {
    "duration": 0,
    "start_time": "2022-11-30T04:10:00.064Z"
   },
   {
    "duration": 0,
    "start_time": "2022-11-30T04:10:00.065Z"
   },
   {
    "duration": 0,
    "start_time": "2022-11-30T04:10:00.066Z"
   },
   {
    "duration": 0,
    "start_time": "2022-11-30T04:10:00.067Z"
   },
   {
    "duration": 0,
    "start_time": "2022-11-30T04:10:00.068Z"
   },
   {
    "duration": 0,
    "start_time": "2022-11-30T04:10:00.069Z"
   },
   {
    "duration": 0,
    "start_time": "2022-11-30T04:10:00.070Z"
   },
   {
    "duration": 25,
    "start_time": "2022-11-30T04:11:04.501Z"
   },
   {
    "duration": 31,
    "start_time": "2022-11-30T04:11:05.507Z"
   },
   {
    "duration": 16,
    "start_time": "2022-11-30T04:11:05.759Z"
   },
   {
    "duration": 16,
    "start_time": "2022-11-30T04:11:06.009Z"
   },
   {
    "duration": 32,
    "start_time": "2022-11-30T04:11:06.371Z"
   },
   {
    "duration": 25,
    "start_time": "2022-11-30T04:11:06.642Z"
   },
   {
    "duration": 29,
    "start_time": "2022-11-30T04:11:06.902Z"
   },
   {
    "duration": 32,
    "start_time": "2022-11-30T04:11:07.184Z"
   },
   {
    "duration": 9,
    "start_time": "2022-11-30T04:11:07.516Z"
   },
   {
    "duration": 10,
    "start_time": "2022-11-30T04:11:07.674Z"
   },
   {
    "duration": 13,
    "start_time": "2022-11-30T04:12:24.794Z"
   },
   {
    "duration": 15,
    "start_time": "2022-11-30T04:12:25.091Z"
   },
   {
    "duration": 1331,
    "start_time": "2022-11-30T04:13:27.863Z"
   },
   {
    "duration": 67,
    "start_time": "2022-11-30T04:13:29.196Z"
   },
   {
    "duration": 17,
    "start_time": "2022-11-30T04:13:29.267Z"
   },
   {
    "duration": 8,
    "start_time": "2022-11-30T04:13:29.285Z"
   },
   {
    "duration": 39,
    "start_time": "2022-11-30T04:13:29.294Z"
   },
   {
    "duration": 13,
    "start_time": "2022-11-30T04:13:29.335Z"
   },
   {
    "duration": 3,
    "start_time": "2022-11-30T04:13:29.349Z"
   },
   {
    "duration": 105,
    "start_time": "2022-11-30T04:13:29.353Z"
   },
   {
    "duration": 43368,
    "start_time": "2022-11-30T04:13:29.461Z"
   },
   {
    "duration": 44269,
    "start_time": "2022-11-30T04:14:12.831Z"
   },
   {
    "duration": 1554,
    "start_time": "2022-11-30T04:14:57.102Z"
   },
   {
    "duration": 1580,
    "start_time": "2022-11-30T04:14:58.657Z"
   },
   {
    "duration": 77437,
    "start_time": "2022-11-30T04:15:00.239Z"
   },
   {
    "duration": 24168,
    "start_time": "2022-11-30T04:16:17.678Z"
   },
   {
    "duration": 169,
    "start_time": "2022-11-30T04:16:41.847Z"
   },
   {
    "duration": 204,
    "start_time": "2022-11-30T04:16:42.018Z"
   },
   {
    "duration": 114,
    "start_time": "2022-11-30T04:16:42.224Z"
   },
   {
    "duration": 31,
    "start_time": "2022-11-30T04:16:42.339Z"
   },
   {
    "duration": 55,
    "start_time": "2022-11-30T04:16:42.371Z"
   },
   {
    "duration": 23,
    "start_time": "2022-11-30T04:16:42.428Z"
   },
   {
    "duration": 66,
    "start_time": "2022-11-30T04:16:42.453Z"
   },
   {
    "duration": 31,
    "start_time": "2022-11-30T04:16:42.520Z"
   },
   {
    "duration": 166,
    "start_time": "2022-11-30T04:16:42.553Z"
   },
   {
    "duration": 202,
    "start_time": "2022-11-30T04:16:42.721Z"
   },
   {
    "duration": 15,
    "start_time": "2022-11-30T04:16:43.016Z"
   },
   {
    "duration": 15,
    "start_time": "2022-11-30T04:16:43.033Z"
   },
   {
    "duration": 16,
    "start_time": "2022-11-30T04:22:14.035Z"
   },
   {
    "duration": 13,
    "start_time": "2022-11-30T04:22:26.336Z"
   },
   {
    "duration": 15,
    "start_time": "2022-11-30T04:22:38.165Z"
   },
   {
    "duration": 47,
    "start_time": "2022-11-30T04:22:46.035Z"
   },
   {
    "duration": 19,
    "start_time": "2022-11-30T04:22:49.049Z"
   },
   {
    "duration": 11,
    "start_time": "2022-11-30T04:22:56.239Z"
   },
   {
    "duration": 10,
    "start_time": "2022-11-30T04:23:00.267Z"
   },
   {
    "duration": 12,
    "start_time": "2022-11-30T04:23:03.154Z"
   },
   {
    "duration": 14,
    "start_time": "2022-11-30T04:24:11.236Z"
   },
   {
    "duration": 14,
    "start_time": "2022-11-30T04:24:43.203Z"
   },
   {
    "duration": 14,
    "start_time": "2022-11-30T04:27:14.223Z"
   },
   {
    "duration": 18,
    "start_time": "2022-11-30T04:27:14.355Z"
   },
   {
    "duration": 56,
    "start_time": "2022-11-30T04:28:07.412Z"
   },
   {
    "duration": 1503,
    "start_time": "2022-12-01T00:13:39.720Z"
   },
   {
    "duration": 122,
    "start_time": "2022-12-01T00:13:41.225Z"
   },
   {
    "duration": 18,
    "start_time": "2022-12-01T00:13:41.349Z"
   },
   {
    "duration": 7,
    "start_time": "2022-12-01T00:13:41.368Z"
   },
   {
    "duration": 35,
    "start_time": "2022-12-01T00:13:41.377Z"
   },
   {
    "duration": 26,
    "start_time": "2022-12-01T00:13:41.414Z"
   },
   {
    "duration": 3,
    "start_time": "2022-12-01T00:13:41.442Z"
   },
   {
    "duration": 77,
    "start_time": "2022-12-01T00:13:41.446Z"
   },
   {
    "duration": 45333,
    "start_time": "2022-12-01T00:13:41.536Z"
   },
   {
    "duration": 45538,
    "start_time": "2022-12-01T00:14:26.872Z"
   },
   {
    "duration": 1601,
    "start_time": "2022-12-01T00:15:12.411Z"
   },
   {
    "duration": 1635,
    "start_time": "2022-12-01T00:15:14.013Z"
   },
   {
    "duration": 72682,
    "start_time": "2022-12-01T00:15:15.650Z"
   },
   {
    "duration": 27109,
    "start_time": "2022-12-01T00:16:28.336Z"
   },
   {
    "duration": 189,
    "start_time": "2022-12-01T00:16:55.447Z"
   },
   {
    "duration": 99,
    "start_time": "2022-12-01T00:16:55.638Z"
   },
   {
    "duration": 126,
    "start_time": "2022-12-01T00:16:55.739Z"
   },
   {
    "duration": 32,
    "start_time": "2022-12-01T00:16:55.866Z"
   },
   {
    "duration": 15,
    "start_time": "2022-12-01T00:16:55.900Z"
   },
   {
    "duration": 34,
    "start_time": "2022-12-01T00:16:55.916Z"
   },
   {
    "duration": 76,
    "start_time": "2022-12-01T00:16:55.952Z"
   },
   {
    "duration": 30,
    "start_time": "2022-12-01T00:16:56.029Z"
   },
   {
    "duration": 82,
    "start_time": "2022-12-01T00:16:56.061Z"
   },
   {
    "duration": 197,
    "start_time": "2022-12-01T00:16:56.145Z"
   },
   {
    "duration": 99,
    "start_time": "2022-12-01T00:16:56.346Z"
   },
   {
    "duration": 48,
    "start_time": "2022-12-01T00:16:56.447Z"
   },
   {
    "duration": 33,
    "start_time": "2022-12-01T00:16:56.498Z"
   },
   {
    "duration": 51,
    "start_time": "2022-12-01T00:16:56.535Z"
   },
   {
    "duration": 61,
    "start_time": "2022-12-01T00:16:56.587Z"
   },
   {
    "duration": 56,
    "start_time": "2022-12-01T01:38:28.925Z"
   },
   {
    "duration": 49,
    "start_time": "2022-12-01T22:15:51.926Z"
   },
   {
    "duration": 6,
    "start_time": "2022-12-01T22:15:56.128Z"
   },
   {
    "duration": 1558,
    "start_time": "2022-12-01T22:16:34.325Z"
   },
   {
    "duration": 365,
    "start_time": "2022-12-01T22:16:35.886Z"
   },
   {
    "duration": 22,
    "start_time": "2022-12-01T22:16:36.252Z"
   },
   {
    "duration": 9,
    "start_time": "2022-12-01T22:16:36.276Z"
   },
   {
    "duration": 38,
    "start_time": "2022-12-01T22:16:36.286Z"
   },
   {
    "duration": 16,
    "start_time": "2022-12-01T22:16:36.325Z"
   },
   {
    "duration": 12,
    "start_time": "2022-12-01T22:16:36.342Z"
   },
   {
    "duration": 122,
    "start_time": "2022-12-01T22:16:36.356Z"
   },
   {
    "duration": 277,
    "start_time": "2022-12-01T22:16:36.480Z"
   },
   {
    "duration": 73,
    "start_time": "2022-12-01T22:16:36.759Z"
   },
   {
    "duration": 94,
    "start_time": "2022-12-01T22:16:36.834Z"
   },
   {
    "duration": 95,
    "start_time": "2022-12-01T22:16:36.930Z"
   },
   {
    "duration": 367,
    "start_time": "2022-12-01T22:16:37.027Z"
   },
   {
    "duration": 63,
    "start_time": "2022-12-01T22:16:37.395Z"
   },
   {
    "duration": 30109,
    "start_time": "2022-12-01T22:16:37.477Z"
   },
   {
    "duration": 101,
    "start_time": "2022-12-01T22:17:07.588Z"
   },
   {
    "duration": 387,
    "start_time": "2022-12-01T22:17:07.691Z"
   },
   {
    "duration": 106,
    "start_time": "2022-12-01T22:17:08.084Z"
   },
   {
    "duration": 24,
    "start_time": "2022-12-01T22:17:08.192Z"
   },
   {
    "duration": 18,
    "start_time": "2022-12-01T22:17:08.218Z"
   },
   {
    "duration": 52,
    "start_time": "2022-12-01T22:17:08.238Z"
   },
   {
    "duration": 19,
    "start_time": "2022-12-01T22:17:08.292Z"
   },
   {
    "duration": 33,
    "start_time": "2022-12-01T22:17:08.313Z"
   },
   {
    "duration": 330,
    "start_time": "2022-12-01T22:17:08.348Z"
   },
   {
    "duration": 299,
    "start_time": "2022-12-01T22:17:08.680Z"
   },
   {
    "duration": 16,
    "start_time": "2022-12-01T22:17:08.981Z"
   },
   {
    "duration": 27,
    "start_time": "2022-12-01T22:17:08.999Z"
   },
   {
    "duration": 16,
    "start_time": "2022-12-01T22:17:09.030Z"
   },
   {
    "duration": 50,
    "start_time": "2022-12-01T22:17:09.048Z"
   },
   {
    "duration": 80,
    "start_time": "2022-12-01T22:17:19.643Z"
   },
   {
    "duration": 104,
    "start_time": "2022-12-01T22:17:32.308Z"
   },
   {
    "duration": 283,
    "start_time": "2022-12-01T22:17:41.752Z"
   },
   {
    "duration": 61,
    "start_time": "2022-12-01T22:18:20.648Z"
   },
   {
    "duration": 325,
    "start_time": "2022-12-01T22:19:57.333Z"
   },
   {
    "duration": 5,
    "start_time": "2022-12-01T22:20:15.539Z"
   },
   {
    "duration": 104,
    "start_time": "2022-12-01T22:25:39.497Z"
   },
   {
    "duration": 110,
    "start_time": "2022-12-01T22:27:42.428Z"
   },
   {
    "duration": 5,
    "start_time": "2022-12-01T22:28:15.276Z"
   },
   {
    "duration": 11,
    "start_time": "2022-12-01T22:28:23.099Z"
   },
   {
    "duration": 9,
    "start_time": "2022-12-01T22:28:25.946Z"
   },
   {
    "duration": 10,
    "start_time": "2022-12-01T22:28:45.598Z"
   },
   {
    "duration": 12,
    "start_time": "2022-12-01T22:28:49.355Z"
   },
   {
    "duration": 34750,
    "start_time": "2022-12-01T22:29:46.575Z"
   },
   {
    "duration": 65,
    "start_time": "2022-12-01T22:31:57.607Z"
   },
   {
    "duration": 78,
    "start_time": "2022-12-01T22:32:16.619Z"
   },
   {
    "duration": 14,
    "start_time": "2022-12-01T22:33:54.085Z"
   },
   {
    "duration": 57,
    "start_time": "2022-12-01T22:34:03.298Z"
   },
   {
    "duration": 53,
    "start_time": "2022-12-01T22:34:44.610Z"
   },
   {
    "duration": 133,
    "start_time": "2022-12-01T22:35:30.580Z"
   },
   {
    "duration": 112,
    "start_time": "2022-12-01T22:35:41.803Z"
   },
   {
    "duration": 23473,
    "start_time": "2022-12-01T22:35:43.935Z"
   },
   {
    "duration": 0,
    "start_time": "2022-12-01T22:36:07.410Z"
   },
   {
    "duration": 65,
    "start_time": "2022-12-01T22:36:08.217Z"
   },
   {
    "duration": 74,
    "start_time": "2022-12-01T22:36:45.257Z"
   },
   {
    "duration": 43479,
    "start_time": "2022-12-01T22:39:36.863Z"
   },
   {
    "duration": 1342,
    "start_time": "2022-12-01T22:41:22.982Z"
   },
   {
    "duration": 68,
    "start_time": "2022-12-01T22:41:24.326Z"
   },
   {
    "duration": 16,
    "start_time": "2022-12-01T22:41:24.395Z"
   },
   {
    "duration": 6,
    "start_time": "2022-12-01T22:41:24.412Z"
   },
   {
    "duration": 17,
    "start_time": "2022-12-01T22:41:24.420Z"
   },
   {
    "duration": 46,
    "start_time": "2022-12-01T22:41:24.438Z"
   },
   {
    "duration": 2,
    "start_time": "2022-12-01T22:41:24.485Z"
   },
   {
    "duration": 91,
    "start_time": "2022-12-01T22:41:24.488Z"
   },
   {
    "duration": 254,
    "start_time": "2022-12-01T22:41:24.581Z"
   },
   {
    "duration": 1364,
    "start_time": "2022-12-01T22:41:47.677Z"
   },
   {
    "duration": 71,
    "start_time": "2022-12-01T22:41:49.044Z"
   },
   {
    "duration": 19,
    "start_time": "2022-12-01T22:41:49.117Z"
   },
   {
    "duration": 7,
    "start_time": "2022-12-01T22:41:49.138Z"
   },
   {
    "duration": 42,
    "start_time": "2022-12-01T22:41:49.148Z"
   },
   {
    "duration": 16,
    "start_time": "2022-12-01T22:41:49.192Z"
   },
   {
    "duration": 3,
    "start_time": "2022-12-01T22:41:49.209Z"
   },
   {
    "duration": 94,
    "start_time": "2022-12-01T22:41:49.214Z"
   },
   {
    "duration": 43676,
    "start_time": "2022-12-01T22:41:49.310Z"
   },
   {
    "duration": 36419,
    "start_time": "2022-12-01T22:42:32.988Z"
   },
   {
    "duration": 1656,
    "start_time": "2022-12-01T22:43:09.408Z"
   },
   {
    "duration": 1662,
    "start_time": "2022-12-01T22:43:11.066Z"
   },
   {
    "duration": 59634,
    "start_time": "2022-12-01T22:43:12.729Z"
   },
   {
    "duration": 66,
    "start_time": "2022-12-01T22:44:12.365Z"
   },
   {
    "duration": 0,
    "start_time": "2022-12-01T22:44:12.433Z"
   },
   {
    "duration": 0,
    "start_time": "2022-12-01T22:44:12.434Z"
   },
   {
    "duration": 0,
    "start_time": "2022-12-01T22:44:12.435Z"
   },
   {
    "duration": 0,
    "start_time": "2022-12-01T22:44:12.436Z"
   },
   {
    "duration": 0,
    "start_time": "2022-12-01T22:44:12.437Z"
   },
   {
    "duration": 0,
    "start_time": "2022-12-01T22:44:12.438Z"
   },
   {
    "duration": 0,
    "start_time": "2022-12-01T22:44:12.440Z"
   },
   {
    "duration": 0,
    "start_time": "2022-12-01T22:44:12.441Z"
   },
   {
    "duration": 0,
    "start_time": "2022-12-01T22:44:12.442Z"
   },
   {
    "duration": 0,
    "start_time": "2022-12-01T22:44:12.443Z"
   },
   {
    "duration": 0,
    "start_time": "2022-12-01T22:44:12.444Z"
   },
   {
    "duration": 0,
    "start_time": "2022-12-01T22:44:12.445Z"
   },
   {
    "duration": 0,
    "start_time": "2022-12-01T22:44:12.446Z"
   },
   {
    "duration": 0,
    "start_time": "2022-12-01T22:44:12.447Z"
   },
   {
    "duration": 0,
    "start_time": "2022-12-01T22:44:12.448Z"
   },
   {
    "duration": 0,
    "start_time": "2022-12-01T22:44:12.449Z"
   },
   {
    "duration": 66,
    "start_time": "2022-12-01T22:45:40.135Z"
   },
   {
    "duration": 1375,
    "start_time": "2022-12-01T22:46:48.138Z"
   },
   {
    "duration": 62,
    "start_time": "2022-12-01T22:46:49.515Z"
   },
   {
    "duration": 16,
    "start_time": "2022-12-01T22:46:49.580Z"
   },
   {
    "duration": 6,
    "start_time": "2022-12-01T22:46:49.598Z"
   },
   {
    "duration": 17,
    "start_time": "2022-12-01T22:46:49.606Z"
   },
   {
    "duration": 15,
    "start_time": "2022-12-01T22:46:49.624Z"
   },
   {
    "duration": 2,
    "start_time": "2022-12-01T22:46:49.641Z"
   },
   {
    "duration": 97,
    "start_time": "2022-12-01T22:46:49.645Z"
   },
   {
    "duration": 43931,
    "start_time": "2022-12-01T22:46:49.743Z"
   },
   {
    "duration": 44594,
    "start_time": "2022-12-01T22:47:33.679Z"
   },
   {
    "duration": 2348,
    "start_time": "2022-12-01T22:48:18.277Z"
   },
   {
    "duration": 1476,
    "start_time": "2022-12-01T22:48:20.626Z"
   },
   {
    "duration": 59483,
    "start_time": "2022-12-01T22:48:22.104Z"
   },
   {
    "duration": 73,
    "start_time": "2022-12-01T22:49:21.589Z"
   },
   {
    "duration": 0,
    "start_time": "2022-12-01T22:49:21.664Z"
   },
   {
    "duration": 0,
    "start_time": "2022-12-01T22:49:21.665Z"
   },
   {
    "duration": 0,
    "start_time": "2022-12-01T22:49:21.666Z"
   },
   {
    "duration": 0,
    "start_time": "2022-12-01T22:49:21.667Z"
   },
   {
    "duration": 0,
    "start_time": "2022-12-01T22:49:21.668Z"
   },
   {
    "duration": 0,
    "start_time": "2022-12-01T22:49:21.670Z"
   },
   {
    "duration": 0,
    "start_time": "2022-12-01T22:49:21.671Z"
   },
   {
    "duration": 0,
    "start_time": "2022-12-01T22:49:21.672Z"
   },
   {
    "duration": 0,
    "start_time": "2022-12-01T22:49:21.674Z"
   },
   {
    "duration": 0,
    "start_time": "2022-12-01T22:49:21.675Z"
   },
   {
    "duration": 0,
    "start_time": "2022-12-01T22:49:21.676Z"
   },
   {
    "duration": 0,
    "start_time": "2022-12-01T22:49:21.677Z"
   },
   {
    "duration": 0,
    "start_time": "2022-12-01T22:49:21.678Z"
   },
   {
    "duration": 0,
    "start_time": "2022-12-01T22:49:21.679Z"
   },
   {
    "duration": 0,
    "start_time": "2022-12-01T22:49:21.681Z"
   },
   {
    "duration": 0,
    "start_time": "2022-12-01T22:49:21.682Z"
   },
   {
    "duration": 52,
    "start_time": "2022-12-01T22:49:24.240Z"
   },
   {
    "duration": 29456,
    "start_time": "2022-12-01T22:49:25.832Z"
   },
   {
    "duration": 64,
    "start_time": "2022-12-01T22:49:55.290Z"
   },
   {
    "duration": 122,
    "start_time": "2022-12-01T22:49:55.356Z"
   },
   {
    "duration": 202,
    "start_time": "2022-12-01T22:49:55.481Z"
   },
   {
    "duration": 118,
    "start_time": "2022-12-01T22:49:55.685Z"
   },
   {
    "duration": 29,
    "start_time": "2022-12-01T22:49:55.804Z"
   },
   {
    "duration": 14,
    "start_time": "2022-12-01T22:49:55.834Z"
   },
   {
    "duration": 33,
    "start_time": "2022-12-01T22:49:55.849Z"
   },
   {
    "duration": 33,
    "start_time": "2022-12-01T22:49:55.884Z"
   },
   {
    "duration": 28,
    "start_time": "2022-12-01T22:49:55.920Z"
   },
   {
    "duration": 132,
    "start_time": "2022-12-01T22:49:55.949Z"
   },
   {
    "duration": 195,
    "start_time": "2022-12-01T22:49:56.084Z"
   },
   {
    "duration": 101,
    "start_time": "2022-12-01T22:49:56.281Z"
   },
   {
    "duration": 14,
    "start_time": "2022-12-01T22:49:56.384Z"
   },
   {
    "duration": 10,
    "start_time": "2022-12-01T22:49:56.400Z"
   },
   {
    "duration": 18,
    "start_time": "2022-12-01T22:49:56.412Z"
   },
   {
    "duration": 11,
    "start_time": "2022-12-01T22:51:45.197Z"
   },
   {
    "duration": 14,
    "start_time": "2022-12-01T22:51:45.361Z"
   },
   {
    "duration": 1496,
    "start_time": "2022-12-02T16:50:35.976Z"
   },
   {
    "duration": 66,
    "start_time": "2022-12-02T16:50:37.474Z"
   },
   {
    "duration": 16,
    "start_time": "2022-12-02T16:50:37.541Z"
   },
   {
    "duration": 6,
    "start_time": "2022-12-02T16:50:37.559Z"
   },
   {
    "duration": 19,
    "start_time": "2022-12-02T16:50:37.567Z"
   },
   {
    "duration": 36,
    "start_time": "2022-12-02T16:50:37.588Z"
   },
   {
    "duration": 2,
    "start_time": "2022-12-02T16:50:37.626Z"
   },
   {
    "duration": 69,
    "start_time": "2022-12-02T16:50:37.630Z"
   },
   {
    "duration": 44582,
    "start_time": "2022-12-02T16:50:37.718Z"
   },
   {
    "duration": 45686,
    "start_time": "2022-12-02T16:51:22.303Z"
   },
   {
    "duration": 1515,
    "start_time": "2022-12-02T16:52:07.990Z"
   },
   {
    "duration": 1580,
    "start_time": "2022-12-02T16:52:09.507Z"
   },
   {
    "duration": 58924,
    "start_time": "2022-12-02T16:52:11.089Z"
   },
   {
    "duration": 61,
    "start_time": "2022-12-02T16:53:10.014Z"
   },
   {
    "duration": 28851,
    "start_time": "2022-12-02T16:53:10.077Z"
   },
   {
    "duration": 54,
    "start_time": "2022-12-02T16:53:38.930Z"
   },
   {
    "duration": 132,
    "start_time": "2022-12-02T16:53:38.985Z"
   },
   {
    "duration": 201,
    "start_time": "2022-12-02T16:53:39.120Z"
   },
   {
    "duration": 118,
    "start_time": "2022-12-02T16:53:39.325Z"
   },
   {
    "duration": 30,
    "start_time": "2022-12-02T16:53:39.444Z"
   },
   {
    "duration": 12,
    "start_time": "2022-12-02T16:53:39.476Z"
   },
   {
    "duration": 15,
    "start_time": "2022-12-02T16:53:39.516Z"
   },
   {
    "duration": 29,
    "start_time": "2022-12-02T16:53:39.533Z"
   },
   {
    "duration": 31,
    "start_time": "2022-12-02T16:53:39.564Z"
   },
   {
    "duration": 101,
    "start_time": "2022-12-02T16:53:39.616Z"
   },
   {
    "duration": 200,
    "start_time": "2022-12-02T16:53:39.719Z"
   },
   {
    "duration": 101,
    "start_time": "2022-12-02T16:53:39.921Z"
   },
   {
    "duration": 14,
    "start_time": "2022-12-02T16:53:40.025Z"
   },
   {
    "duration": 11,
    "start_time": "2022-12-02T16:53:40.041Z"
   },
   {
    "duration": 31,
    "start_time": "2022-12-02T16:53:40.054Z"
   },
   {
    "duration": 84,
    "start_time": "2022-12-02T19:03:10.738Z"
   },
   {
    "duration": 60,
    "start_time": "2022-12-02T19:04:18.469Z"
   },
   {
    "duration": 84,
    "start_time": "2022-12-02T19:05:21.285Z"
   },
   {
    "duration": 9,
    "start_time": "2022-12-02T19:06:46.533Z"
   },
   {
    "duration": 1586,
    "start_time": "2022-12-02T19:06:51.231Z"
   },
   {
    "duration": 225,
    "start_time": "2022-12-02T19:06:52.819Z"
   },
   {
    "duration": 19,
    "start_time": "2022-12-02T19:06:53.046Z"
   },
   {
    "duration": 9,
    "start_time": "2022-12-02T19:06:53.066Z"
   },
   {
    "duration": 31,
    "start_time": "2022-12-02T19:06:53.077Z"
   },
   {
    "duration": 15,
    "start_time": "2022-12-02T19:06:53.110Z"
   },
   {
    "duration": 2,
    "start_time": "2022-12-02T19:06:53.127Z"
   },
   {
    "duration": 82,
    "start_time": "2022-12-02T19:06:53.131Z"
   },
   {
    "duration": 46587,
    "start_time": "2022-12-02T19:06:53.215Z"
   },
   {
    "duration": 46520,
    "start_time": "2022-12-02T19:07:39.804Z"
   },
   {
    "duration": 1647,
    "start_time": "2022-12-02T19:08:26.325Z"
   },
   {
    "duration": 1587,
    "start_time": "2022-12-02T19:08:27.973Z"
   },
   {
    "duration": 61941,
    "start_time": "2022-12-02T19:08:29.561Z"
   },
   {
    "duration": 51,
    "start_time": "2022-12-02T19:09:31.504Z"
   },
   {
    "duration": 32238,
    "start_time": "2022-12-02T19:09:31.557Z"
   },
   {
    "duration": 51,
    "start_time": "2022-12-02T19:10:03.797Z"
   },
   {
    "duration": 61,
    "start_time": "2022-12-02T19:10:03.850Z"
   },
   {
    "duration": 212,
    "start_time": "2022-12-02T19:10:03.981Z"
   },
   {
    "duration": 16,
    "start_time": "2022-12-02T19:10:04.277Z"
   },
   {
    "duration": 43,
    "start_time": "2022-12-02T19:10:04.295Z"
   },
   {
    "duration": 112,
    "start_time": "2022-12-02T19:10:26.323Z"
   },
   {
    "duration": 11,
    "start_time": "2022-12-02T19:11:17.038Z"
   },
   {
    "duration": 11,
    "start_time": "2022-12-02T19:11:22.345Z"
   },
   {
    "duration": 7,
    "start_time": "2022-12-02T19:11:46.754Z"
   },
   {
    "duration": 5,
    "start_time": "2022-12-02T19:12:35.132Z"
   },
   {
    "duration": 14,
    "start_time": "2022-12-02T19:13:36.914Z"
   },
   {
    "duration": 1455,
    "start_time": "2022-12-02T19:13:41.700Z"
   },
   {
    "duration": 79,
    "start_time": "2022-12-02T19:13:43.157Z"
   },
   {
    "duration": 15,
    "start_time": "2022-12-02T19:13:43.238Z"
   },
   {
    "duration": 7,
    "start_time": "2022-12-02T19:13:43.255Z"
   },
   {
    "duration": 26,
    "start_time": "2022-12-02T19:13:43.264Z"
   },
   {
    "duration": 28,
    "start_time": "2022-12-02T19:13:43.294Z"
   },
   {
    "duration": 3,
    "start_time": "2022-12-02T19:13:43.323Z"
   },
   {
    "duration": 105,
    "start_time": "2022-12-02T19:13:43.328Z"
   },
   {
    "duration": 47650,
    "start_time": "2022-12-02T19:13:43.434Z"
   },
   {
    "duration": 47372,
    "start_time": "2022-12-02T19:14:31.089Z"
   },
   {
    "duration": 1692,
    "start_time": "2022-12-02T19:15:18.462Z"
   },
   {
    "duration": 1651,
    "start_time": "2022-12-02T19:15:20.156Z"
   },
   {
    "duration": 63554,
    "start_time": "2022-12-02T19:15:21.808Z"
   },
   {
    "duration": 67,
    "start_time": "2022-12-02T19:16:25.366Z"
   },
   {
    "duration": 29906,
    "start_time": "2022-12-02T19:16:25.435Z"
   },
   {
    "duration": 68,
    "start_time": "2022-12-02T19:16:55.343Z"
   },
   {
    "duration": 76,
    "start_time": "2022-12-02T19:16:55.413Z"
   },
   {
    "duration": 192,
    "start_time": "2022-12-02T19:16:55.493Z"
   },
   {
    "duration": 92,
    "start_time": "2022-12-02T19:16:55.687Z"
   },
   {
    "duration": 158,
    "start_time": "2022-12-02T19:16:55.781Z"
   },
   {
    "duration": 12,
    "start_time": "2022-12-02T19:23:17.003Z"
   },
   {
    "duration": 65,
    "start_time": "2022-12-02T19:25:58.126Z"
   },
   {
    "duration": 1319,
    "start_time": "2022-12-02T19:26:36.641Z"
   },
   {
    "duration": 66,
    "start_time": "2022-12-02T19:26:37.962Z"
   },
   {
    "duration": 16,
    "start_time": "2022-12-02T19:26:38.029Z"
   },
   {
    "duration": 6,
    "start_time": "2022-12-02T19:26:38.047Z"
   },
   {
    "duration": 25,
    "start_time": "2022-12-02T19:26:38.054Z"
   },
   {
    "duration": 15,
    "start_time": "2022-12-02T19:26:38.080Z"
   },
   {
    "duration": 3,
    "start_time": "2022-12-02T19:26:38.096Z"
   },
   {
    "duration": 83,
    "start_time": "2022-12-02T19:26:38.100Z"
   },
   {
    "duration": 43654,
    "start_time": "2022-12-02T19:26:38.185Z"
   },
   {
    "duration": 44117,
    "start_time": "2022-12-02T19:27:21.841Z"
   },
   {
    "duration": 1522,
    "start_time": "2022-12-02T19:28:05.959Z"
   },
   {
    "duration": 1515,
    "start_time": "2022-12-02T19:28:07.483Z"
   },
   {
    "duration": 62271,
    "start_time": "2022-12-02T19:28:09.000Z"
   },
   {
    "duration": 53,
    "start_time": "2022-12-02T19:29:11.273Z"
   },
   {
    "duration": 27603,
    "start_time": "2022-12-02T19:29:11.328Z"
   },
   {
    "duration": 61,
    "start_time": "2022-12-02T19:29:38.932Z"
   },
   {
    "duration": 185,
    "start_time": "2022-12-02T19:29:38.994Z"
   },
   {
    "duration": 297,
    "start_time": "2022-12-02T19:29:39.181Z"
   },
   {
    "duration": 11,
    "start_time": "2022-12-02T19:29:39.480Z"
   },
   {
    "duration": 71,
    "start_time": "2022-12-02T19:29:39.492Z"
   },
   {
    "duration": 71,
    "start_time": "2022-12-02T19:30:38.865Z"
   }
  ],
  "kernelspec": {
   "display_name": "Python 3",
   "language": "python",
   "name": "python3"
  },
  "language_info": {
   "codemirror_mode": {
    "name": "ipython",
    "version": 3
   },
   "file_extension": ".py",
   "mimetype": "text/x-python",
   "name": "python",
   "nbconvert_exporter": "python",
   "pygments_lexer": "ipython3",
   "version": "3.8.8"
  },
  "toc": {
   "base_numbering": 1,
   "nav_menu": {},
   "number_sections": true,
   "sideBar": true,
   "skip_h1_title": true,
   "title_cell": "Содержание",
   "title_sidebar": "Contents",
   "toc_cell": true,
   "toc_position": {
    "height": "calc(100% - 180px)",
    "left": "10px",
    "top": "150px",
    "width": "165px"
   },
   "toc_section_display": true,
   "toc_window_display": false
  }
 },
 "nbformat": 4,
 "nbformat_minor": 2
}
